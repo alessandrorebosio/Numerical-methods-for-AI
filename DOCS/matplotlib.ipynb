{
 "cells": [
  {
   "cell_type": "markdown",
   "metadata": {},
   "source": [
    "# Matplotlib - Draw in Python"
   ]
  },
  {
   "cell_type": "markdown",
   "metadata": {},
   "source": [
    "**Matplotlib** is an excellent 2D and 3D graphics library for generating scientific figures. Some of its many advantages include:  \n",
    "\n",
    "* Easy to set up  \n",
    "* Fine-grained control over every element in a figure  \n",
    "* High-quality output in many formats, including PNG, PDF, SVG, EPS, and PGF  \n",
    "\n",
    "For more information, visit the Matplotlib website: [http://matplotlib.org/](http://matplotlib.org/)  "
   ]
  },
  {
   "cell_type": "code",
   "execution_count": null,
   "metadata": {
    "collapsed": false,
    "jupyter": {
     "outputs_hidden": false
    }
   },
   "outputs": [],
   "source": [
    "import matplotlib.pyplot as plt"
   ]
  },
  {
   "cell_type": "markdown",
   "metadata": {},
   "source": [
    "### Example"
   ]
  },
  {
   "cell_type": "code",
   "execution_count": null,
   "metadata": {
    "collapsed": false,
    "jupyter": {
     "outputs_hidden": false
    }
   },
   "outputs": [],
   "source": [
    "x = list(range(1,10))\n",
    "y = [ i**2  for i in x]\n",
    "y3 = [ i + i ** 2 + i ** 3 for i in x ]"
   ]
  },
  {
   "cell_type": "code",
   "execution_count": null,
   "metadata": {},
   "outputs": [],
   "source": [
    "plt.plot(x, y, 'ro')\n",
    "plt.grid(True)\n",
    "plt.xlabel('x')\n",
    "plt.ylabel('y')\n",
    "plt.title('title')\n",
    "plt.legend([\"Funzione1\",\"Funzione2\"])\n",
    "plt.savefig(\"filename.jpg\")  #Salva la figura in un file con formato grahico jpg\n",
    "plt.show()\n"
   ]
  },
  {
   "cell_type": "code",
   "execution_count": null,
   "metadata": {},
   "outputs": [],
   "source": [
    "plt.plot(x, y3, 'g*')\n",
    "plt.xlabel('x')\n",
    "plt.ylabel('y')\n",
    "plt.title('title')\n",
    "plt.legend([\"Funzione2\"])\n",
    "plt.show()"
   ]
  },
  {
   "cell_type": "markdown",
   "metadata": {},
   "source": [
    "## Draw two function on the same plot"
   ]
  },
  {
   "cell_type": "code",
   "execution_count": null,
   "metadata": {
    "collapsed": false,
    "jupyter": {
     "outputs_hidden": false
    }
   },
   "outputs": [],
   "source": [
    "plt.plot(x, y3, 'r:o')\n",
    "plt.plot(x,y,'g*--')\n",
    "plt.xlabel('x')\n",
    "plt.ylabel('y')\n",
    "plt.text(1,400,'Testo Libero',c='r')  #Scrivere testo libero a partire da una coordinata specificata\n",
    "plt.annotate('Importante',xy=(6,250),xytext=(5.0, 400),arrowprops={'arrowstyle':'->'}) #Annotazione\n",
    "plt.title('title')\n",
    "plt.legend([\"Funzione1\",\"Funzione2\"])\n",
    "plt.show()\n"
   ]
  },
  {
   "cell_type": "code",
   "execution_count": null,
   "metadata": {},
   "outputs": [],
   "source": [
    "x1 = list(range(1, 101))\n",
    "y1 = [ i ** (-5.0 / 3.0)  for i in x1]\n",
    "plt.plot(x1, y1, 'r')\n",
    "plt.show()\n"
   ]
  },
  {
   "cell_type": "markdown",
   "metadata": {},
   "source": [
    "## Plotting in semilogarithmic scale (y-axis)"
   ]
  },
  {
   "cell_type": "code",
   "execution_count": null,
   "metadata": {},
   "outputs": [],
   "source": [
    "plt.semilogy(x1, y1, 'r')  #Scala logaritmica in y\n",
    "plt.show()"
   ]
  },
  {
   "cell_type": "markdown",
   "metadata": {},
   "source": [
    "## Subdividing a figure into subplots"
   ]
  },
  {
   "cell_type": "code",
   "execution_count": null,
   "metadata": {
    "collapsed": false,
    "jupyter": {
     "outputs_hidden": false
    }
   },
   "outputs": [],
   "source": [
    "plt.subplot(1,2,1)\n",
    "plt.plot(x, y, 'r--',linewidth=5.0)\n",
    "plt.title(\"Funzione 1\")\n",
    "plt.subplot(1,2,2)\n",
    "plt.plot( x,y3, 'g^-',linewidth=1.0);\n",
    "plt.title(\"Funzione 2\")\n",
    "plt.savefig(\"filename2.png\")\n",
    "plt.show()"
   ]
  },
  {
   "cell_type": "markdown",
   "metadata": {},
   "source": [
    "## Bar plots"
   ]
  },
  {
   "cell_type": "code",
   "execution_count": null,
   "metadata": {},
   "outputs": [],
   "source": [
    "names = ['a', 'b', 'c', 'd']\n",
    "values = [1, 10, 40, 50]\n",
    "plt.bar(names, values)\n",
    "plt.show()"
   ]
  },
  {
   "cell_type": "markdown",
   "metadata": {},
   "source": [
    "## Pie Charts"
   ]
  },
  {
   "cell_type": "code",
   "execution_count": null,
   "metadata": {},
   "outputs": [],
   "source": [
    "dims=[10.0,30.0,40.0,10.0]\n",
    "etichette=[\"dato1\",\"dato2\",\"dato3\",\"dato4\"]\n",
    "colori=['b','r','y','magenta']\n",
    "plt.pie(dims,labels=etichette,colors=colori)\n",
    "plt.show()"
   ]
  }
 ],
 "metadata": {
  "kernelspec": {
   "display_name": "Python 3",
   "language": "python",
   "name": "python3"
  },
  "language_info": {
   "codemirror_mode": {
    "name": "ipython",
    "version": 3
   },
   "file_extension": ".py",
   "mimetype": "text/x-python",
   "name": "python",
   "nbconvert_exporter": "python",
   "pygments_lexer": "ipython3",
   "version": "3.13.3"
  }
 },
 "nbformat": 4,
 "nbformat_minor": 4
}
