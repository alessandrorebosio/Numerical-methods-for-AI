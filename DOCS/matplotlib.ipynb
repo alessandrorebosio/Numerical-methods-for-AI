{
 "cells": [
  {
   "cell_type": "markdown",
   "metadata": {},
   "source": [
    "# Data Visualization with Matplotlib"
   ]
  },
  {
   "cell_type": "markdown",
   "metadata": {},
   "source": [
    "## Introduction to Matplotlib\n",
    "\n",
    "Matplotlib is a comprehensive 2D and 3D graphics library for creating scientific figures. Key features include:\n",
    "\n",
    "- Easy setup and use\n",
    "- Precise control over all figure elements\n",
    "- High-quality output in multiple formats (PNG, PDF, SVG, EPS, PGF)\n",
    "\n",
    "Official website: [matplotlib.org](https://matplotlib.org/)"
   ]
  },
  {
   "cell_type": "code",
   "execution_count": null,
   "metadata": {},
   "outputs": [],
   "source": [
    "import matplotlib.pyplot as plt"
   ]
  },
  {
   "cell_type": "markdown",
   "metadata": {},
   "source": [
    "## Basic Line Plot"
   ]
  },
  {
   "cell_type": "code",
   "execution_count": null,
   "metadata": {},
   "outputs": [],
   "source": [
    "# Sample data\n",
    "x = list(range(1, 10))\n",
    "y = [i**2 for i in x]\n",
    "\n",
    "# Create plot\n",
    "plt.plot(x, y, 'ro')  # Red circles\n",
    "plt.grid(True)\n",
    "plt.xlabel('x-axis')\n",
    "plt.ylabel('y-axis')\n",
    "plt.title('Quadratic Function')\n",
    "plt.legend([\"y = x²\"])\n",
    "plt.show()"
   ]
  },
  {
   "cell_type": "markdown",
   "metadata": {},
   "source": [
    "## Multiple Plots and Customization"
   ]
  },
  {
   "cell_type": "code",
   "execution_count": null,
   "metadata": {},
   "outputs": [],
   "source": [
    "# Additional function\n",
    "y3 = [i + i**2 + i**3 for i in x]\n",
    "\n",
    "# Plot both functions\n",
    "plt.plot(x, y3, 'r:o', label=\"y = x + x² + x³\")\n",
    "plt.plot(x, y, 'g*--', label=\"y = x²\")\n",
    "\n",
    "# Add annotations\n",
    "plt.text(1, 400, 'Important Note', color='r')\n",
    "plt.annotate('Key Point', xy=(6, 250), \n",
    "             xytext=(5, 400), \n",
    "             arrowprops={'arrowstyle': '->'})\n",
    "\n",
    "# Formatting\n",
    "plt.xlabel('x values')\n",
    "plt.ylabel('y values')\n",
    "plt.title('Comparison of Functions')\n",
    "plt.legend()\n",
    "plt.grid(True)\n",
    "plt.show()"
   ]
  },
  {
   "cell_type": "markdown",
   "metadata": {},
   "source": [
    "## Logarithmic Scales"
   ]
  },
  {
   "cell_type": "code",
   "execution_count": null,
   "metadata": {},
   "outputs": [],
   "source": [
    "# Power law data\n",
    "x1 = list(range(1, 101))\n",
    "y1 = [i**(-5.0/3.0) for i in x1]\n",
    "\n",
    "# Linear scale\n",
    "plt.figure(figsize=(12, 4))\n",
    "plt.subplot(1, 2, 1)\n",
    "plt.plot(x1, y1, 'b')\n",
    "plt.title('Linear Scale')\n",
    "\n",
    "# Log scale\n",
    "plt.subplot(1, 2, 2)\n",
    "plt.semilogy(x1, y1, 'r')\n",
    "plt.title('Logarithmic Y Scale')\n",
    "\n",
    "plt.tight_layout()\n",
    "plt.show()"
   ]
  },
  {
   "cell_type": "markdown",
   "metadata": {},
   "source": [
    "## Subplots"
   ]
  },
  {
   "cell_type": "code",
   "execution_count": null,
   "metadata": {},
   "outputs": [],
   "source": [
    "plt.figure(figsize=(10, 4))\n",
    "\n",
    "plt.subplot(1, 2, 1)\n",
    "plt.plot(x, y, 'r--', linewidth=3)\n",
    "plt.title('Quadratic Function')\n",
    "\n",
    "plt.subplot(1, 2, 2)\n",
    "plt.plot(x, y3, 'g^-', linewidth=1)\n",
    "plt.title('Cubic Function')\n",
    "\n",
    "plt.tight_layout()\n",
    "plt.savefig('function_comparison.png', dpi=300)\n",
    "plt.show()"
   ]
  },
  {
   "cell_type": "markdown",
   "metadata": {},
   "source": [
    "## Bar Charts"
   ]
  },
  {
   "cell_type": "code",
   "execution_count": null,
   "metadata": {},
   "outputs": [],
   "source": [
    "categories = ['A', 'B', 'C', 'D']\n",
    "values = [15, 30, 45, 10]\n",
    "\n",
    "plt.bar(categories, values, color=['blue', 'green', 'red', 'purple'])\n",
    "plt.xlabel('Categories')\n",
    "plt.ylabel('Values')\n",
    "plt.title('Bar Chart Example')\n",
    "plt.show()"
   ]
  },
  {
   "cell_type": "markdown",
   "metadata": {},
   "source": [
    "## Pie Charts"
   ]
  },
  {
   "cell_type": "code",
   "execution_count": null,
   "metadata": {},
   "outputs": [],
   "source": [
    "sizes = [15, 30, 45, 10]\n",
    "labels = ['Group 1', 'Group 2', 'Group 3', 'Group 4']\n",
    "colors = ['gold', 'lightcoral', 'lightskyblue', 'lightgreen']\n",
    "\n",
    "plt.pie(sizes, labels=labels, colors=colors, \n",
    "        autopct='%1.1f%%', shadow=True, startangle=140)\n",
    "plt.axis('equal')  # Equal aspect ratio ensures circular pie\n",
    "plt.title('Pie Chart Example')\n",
    "plt.show()"
   ]
  },
  {
   "cell_type": "markdown",
   "metadata": {},
   "source": [
    "## Saving Figures"
   ]
  },
  {
   "cell_type": "code",
   "execution_count": null,
   "metadata": {},
   "outputs": [],
   "source": [
    "# Save in different formats\n",
    "plt.plot(x, y, 'b-')\n",
    "plt.savefig('plot.png')  # PNG format\n",
    "plt.savefig('plot.pdf')  # PDF format\n",
    "plt.savefig('plot.svg')  # SVG format\n",
    "plt.close()"
   ]
  }
 ],
 "metadata": {
  "kernelspec": {
   "display_name": "Python 3",
   "language": "python",
   "name": "python3"
  },
  "language_info": {
   "codemirror_mode": {
    "name": "ipython",
    "version": 3
   },
   "file_extension": ".py",
   "mimetype": "text/x-python",
   "name": "python",
   "nbconvert_exporter": "python",
   "pygments_lexer": "ipython3",
   "version": "3.13.3"
  }
 },
 "nbformat": 4,
 "nbformat_minor": 4
}
