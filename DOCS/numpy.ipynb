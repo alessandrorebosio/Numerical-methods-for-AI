{
 "cells": [
  {
   "cell_type": "markdown",
   "metadata": {},
   "source": [
    "# Introduction to NumPy"
   ]
  },
  {
   "cell_type": "markdown",
   "metadata": {},
   "source": [
    "## What is NumPy?\n",
    "[NumPy](https://numpy.org/doc/) (Numerical Python) is a Python library for efficient numerical computing, particularly in scientific applications.\n",
    "\n",
    "### Key Features:\n",
    "- Provides the **ndarray** data structure for homogeneous, multidimensional arrays\n",
    "- Optimized for handling large datasets\n",
    "- Offers comprehensive mathematical functions\n",
    "- Enables vectorized operations for improved performance"
   ]
  },
  {
   "cell_type": "markdown",
   "metadata": {},
   "source": [
    "## Table of Contents\n",
    "1. [Importing NumPy](#Importing-NumPy)\n",
    "2. [NumPy Data Types](#NumPy-Data-Types)\n",
    "3. [Creating Arrays](#Creating-Arrays)\n",
    "4. [Array Attributes](#Array-Attributes)\n",
    "5. [Array Operations](#Array-Operations)\n",
    "6. [Indexing and Slicing](#Indexing-and-Slicing)\n",
    "7. [Array Manipulation](#Array-Manipulation)\n",
    "8. [Linear Algebra](#Linear-Algebra)\n",
    "9. [Random Sampling](#Random-Sampling)\n",
    "10. [Statistics](#Statistics)"
   ]
  },
  {
   "cell_type": "markdown",
   "metadata": {},
   "source": [
    "## Importing NumPy"
   ]
  },
  {
   "cell_type": "code",
   "execution_count": null,
   "metadata": {},
   "outputs": [],
   "source": [
    "import numpy as np"
   ]
  },
  {
   "cell_type": "code",
   "execution_count": null,
   "metadata": {},
   "outputs": [],
   "source": [
    "# Check versions\n",
    "import platform\n",
    "print('Python version:', platform.python_version())\n",
    "print('NumPy version:', np.__version__)"
   ]
  },
  {
   "cell_type": "markdown",
   "metadata": {},
   "source": [
    "## NumPy Data Types\n",
    "NumPy supports more data types than Python, including:\n",
    "- Integer types: `int8`, `int16`, `int32`, `int64`\n",
    "- Unsigned integers: `uint8`, `uint16`, `uint32`, `uint64`\n",
    "- Floating point: `float16`, `float32`, `float64`\n",
    "- Complex numbers: `complex64`, `complex128`\n",
    "- Boolean: `bool_`\n",
    "- Others: `string_`, `unicode_`, `object_`"
   ]
  },
  {
   "cell_type": "markdown",
   "metadata": {},
   "source": [
    "## Creating Arrays"
   ]
  },
  {
   "cell_type": "markdown",
   "metadata": {},
   "source": [
    "### From Python lists/tuples"
   ]
  },
  {
   "cell_type": "code",
   "execution_count": null,
   "metadata": {},
   "outputs": [],
   "source": [
    "# 1D array\n",
    "arr1 = np.array([1, 2, 3])\n",
    "print(arr1)"
   ]
  },
  {
   "cell_type": "code",
   "execution_count": null,
   "metadata": {},
   "outputs": [],
   "source": [
    "# 2D array (matrix)\n",
    "arr2 = np.array([[1, 2], [3, 4]])\n",
    "print(arr2)"
   ]
  },
  {
   "cell_type": "code",
   "execution_count": null,
   "metadata": {},
   "outputs": [],
   "source": [
    "# With specific data type\n",
    "arr_float = np.array([1, 2, 3], dtype=np.float32)\n",
    "print(arr_float)"
   ]
  },
  {
   "cell_type": "markdown",
   "metadata": {},
   "source": [
    "### Special array creation functions"
   ]
  },
  {
   "cell_type": "code",
   "execution_count": null,
   "metadata": {},
   "outputs": [],
   "source": [
    "# Sequence with step\n",
    "print(np.arange(0, 10, 2))  # start, stop, step"
   ]
  },
  {
   "cell_type": "code",
   "execution_count": null,
   "metadata": {},
   "outputs": [],
   "source": [
    "# Linearly spaced values\n",
    "print(np.linspace(0, 1, 5))  # start, stop, num_points"
   ]
  },
  {
   "cell_type": "code",
   "execution_count": null,
   "metadata": {},
   "outputs": [],
   "source": [
    "# Zeros array\n",
    "print(np.zeros((2, 3)))"
   ]
  },
  {
   "cell_type": "code",
   "execution_count": null,
   "metadata": {},
   "outputs": [],
   "source": [
    "# Ones array\n",
    "print(np.ones((2, 2), dtype=int))"
   ]
  },
  {
   "cell_type": "code",
   "execution_count": null,
   "metadata": {},
   "outputs": [],
   "source": [
    "# Identity matrix\n",
    "print(np.eye(3))"
   ]
  },
  {
   "cell_type": "code",
   "execution_count": null,
   "metadata": {},
   "outputs": [],
   "source": [
    "# Random values\n",
    "np.random.seed(42)  # For reproducibility\n",
    "print(np.random.rand(3, 3))  # Uniform distribution [0,1)"
   ]
  },
  {
   "cell_type": "markdown",
   "metadata": {},
   "source": [
    "## Array Attributes"
   ]
  },
  {
   "cell_type": "code",
   "execution_count": null,
   "metadata": {},
   "outputs": [],
   "source": [
    "arr = np.array([[1, 2, 3], [4, 5, 6]])\n",
    "\n",
    "print(\"Array:\", arr)\n",
    "print(\"Shape:\", arr.shape)  # Dimensions\n",
    "print(\"Number of dimensions:\", arr.ndim)\n",
    "print(\"Size (total elements):\", arr.size)\n",
    "print(\"Data type:\", arr.dtype)\n",
    "print(\"Item size (bytes):\", arr.itemsize)\n",
    "print(\"Total memory size (bytes):\", arr.nbytes)"
   ]
  },
  {
   "cell_type": "markdown",
   "metadata": {},
   "source": [
    "## Array Operations"
   ]
  },
  {
   "cell_type": "markdown",
   "metadata": {},
   "source": [
    "### Element-wise operations"
   ]
  },
  {
   "cell_type": "code",
   "execution_count": null,
   "metadata": {},
   "outputs": [],
   "source": [
    "a = np.array([1, 2, 3])\n",
    "b = np.array([4, 5, 6])\n",
    "\n",
    "print(\"Addition:\", a + b)\n",
    "print(\"Subtraction:\", a - b)\n",
    "print(\"Multiplication:\", a * b)\n",
    "print(\"Division:\", b / a)\n",
    "print(\"Exponentiation:\", a ** 2)"
   ]
  },
  {
   "cell_type": "markdown",
   "metadata": {},
   "source": [
    "### Broadcasting"
   ]
  },
  {
   "cell_type": "code",
   "execution_count": null,
   "metadata": {},
   "outputs": [],
   "source": [
    "# Scalar to array\n",
    "print(a + 5)\n",
    "\n",
    "# Different shaped arrays\n",
    "matrix = np.array([[1, 2, 3], [4, 5, 6]])\n",
    "vector = np.array([10, 20, 30])\n",
    "print(matrix + vector)"
   ]
  },
  {
   "cell_type": "markdown",
   "metadata": {},
   "source": [
    "### Universal functions (ufuncs)"
   ]
  },
  {
   "cell_type": "code",
   "execution_count": null,
   "metadata": {},
   "outputs": [],
   "source": [
    "print(\"Square root:\", np.sqrt(a))\n",
    "print(\"Exponential:\", np.exp(a))\n",
    "print(\"Natural log:\", np.log(a))\n",
    "print(\"Base 10 log:\", np.log10(a))\n",
    "print(\"Trig functions:\", np.sin(a))"
   ]
  },
  {
   "cell_type": "markdown",
   "metadata": {},
   "source": [
    "## Indexing and Slicing"
   ]
  },
  {
   "cell_type": "markdown",
   "metadata": {},
   "source": [
    "### Basic indexing"
   ]
  },
  {
   "cell_type": "code",
   "execution_count": null,
   "metadata": {},
   "outputs": [],
   "source": [
    "arr = np.array([[1, 2, 3], [4, 5, 6], [7, 8, 9]])\n",
    "\n",
    "print(\"Element at [1,2]:\", arr[1, 2])\n",
    "print(\"First row:\", arr[0])\n",
    "print(\"Last column:\", arr[:, -1])"
   ]
  },
  {
   "cell_type": "markdown",
   "metadata": {},
   "source": [
    "### Slicing"
   ]
  },
  {
   "cell_type": "code",
   "execution_count": null,
   "metadata": {},
   "outputs": [],
   "source": [
    "print(\"Submatrix:\", arr[1:, :2])  # Rows 1+, columns 0-1"
   ]
  },
  {
   "cell_type": "markdown",
   "metadata": {},
   "source": [
    "### Boolean indexing"
   ]
  },
  {
   "cell_type": "code",
   "execution_count": null,
   "metadata": {},
   "outputs": [],
   "source": [
    "print(\"Elements > 5:\", arr[arr > 5])"
   ]
  },
  {
   "cell_type": "markdown",
   "metadata": {},
   "source": [
    "## Array Manipulation"
   ]
  },
  {
   "cell_type": "markdown",
   "metadata": {},
   "source": [
    "### Reshaping"
   ]
  },
  {
   "cell_type": "code",
   "execution_count": null,
   "metadata": {},
   "outputs": [],
   "source": [
    "print(\"Reshaped:\", arr.reshape(9))  # Flatten\n",
    "print(\"Reshaped with -1:\", arr.reshape(3, -1))  # Automatic dimension"
   ]
  },
  {
   "cell_type": "markdown",
   "metadata": {},
   "source": [
    "### Concatenation"
   ]
  },
  {
   "cell_type": "code",
   "execution_count": null,
   "metadata": {},
   "outputs": [],
   "source": [
    "a = np.array([[1, 2], [3, 4]])\n",
    "b = np.array([[5, 6]])\n",
    "\n",
    "print(\"Vertical stack:\", np.vstack((a, b)))\n",
    "print(\"Horizontal stack:\", np.hstack((a, b.T)))"
   ]
  },
  {
   "cell_type": "markdown",
   "metadata": {},
   "source": [
    "### Transpose"
   ]
  },
  {
   "cell_type": "code",
   "execution_count": null,
   "metadata": {},
   "outputs": [],
   "source": [
    "print(\"Transpose:\", arr.T)"
   ]
  },
  {
   "cell_type": "markdown",
   "metadata": {},
   "source": [
    "### Copies vs Views"
   ]
  },
  {
   "cell_type": "code",
   "execution_count": null,
   "metadata": {},
   "outputs": [],
   "source": [
    "view = arr.view()  # Shares memory\n",
    "copy = arr.copy()  # New memory\n",
    "\n",
    "print(\"Shares memory:\", np.shares_memory(arr, view))\n",
    "print(\"Shares memory:\", np.shares_memory(arr, copy))"
   ]
  },
  {
   "cell_type": "markdown",
   "metadata": {},
   "source": [
    "## Linear Algebra"
   ]
  },
  {
   "cell_type": "code",
   "execution_count": null,
   "metadata": {},
   "outputs": [],
   "source": [
    "A = np.array([[1, 2], [3, 4]])\n",
    "B = np.array([[5, 6], [7, 8]])\n",
    "\n",
    "print(\"Matrix multiplication:\", A @ B)  # or np.dot(A, B)\n",
    "print(\"Element-wise multiplication:\", A * B)\n",
    "print(\"Determinant:\", np.linalg.det(A))\n",
    "print(\"Inverse:\", np.linalg.inv(A))"
   ]
  },
  {
   "cell_type": "markdown",
   "metadata": {},
   "source": [
    "## Random Sampling"
   ]
  },
  {
   "cell_type": "code",
   "execution_count": null,
   "metadata": {},
   "outputs": [],
   "source": [
    "print(\"Random integers:\", np.random.randint(0, 10, 5))\n",
    "print(\"Normal distribution:\", np.random.normal(0, 1, 5))\n",
    "print(\"Shuffled array:\", np.random.permutation([1, 2, 3, 4, 5]))"
   ]
  },
  {
   "cell_type": "markdown",
   "metadata": {},
   "source": [
    "## Statistics"
   ]
  },
  {
   "cell_type": "code",
   "execution_count": null,
   "metadata": {},
   "outputs": [],
   "source": [
    "data = np.array([[1, 2, 3], [4, 5, 6]])\n",
    "\n",
    "print(\"Mean:\", np.mean(data))\n",
    "print(\"Column means:\", np.mean(data, axis=0))\n",
    "print(\"Row means:\", np.mean(data, axis=1))\n",
    "print(\"Standard deviation:\", np.std(data))\n",
    "print(\"Median:\", np.median(data))\n",
    "print(\"Min/Max:\", np.min(data), np.max(data))"
   ]
  }
 ],
 "metadata": {
  "kernelspec": {
   "display_name": "Python 3",
   "language": "python",
   "name": "python3"
  },
  "language_info": {
   "codemirror_mode": {
    "name": "ipython",
    "version": 3
   },
   "file_extension": ".py",
   "mimetype": "text/x-python",
   "name": "python",
   "nbconvert_exporter": "python",
   "pygments_lexer": "ipython3",
   "version": "3.13.3"
  }
 },
 "nbformat": 4,
 "nbformat_minor": 4
}
