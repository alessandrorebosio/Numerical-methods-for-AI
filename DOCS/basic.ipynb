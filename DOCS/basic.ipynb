{
 "cells": [
  {
   "cell_type": "markdown",
   "metadata": {},
   "source": [
    "# Introduction to Programming in Python"
   ]
  },
  {
   "cell_type": "markdown",
   "metadata": {},
   "source": [
    "## Python: file "
   ]
  },
  {
   "cell_type": "markdown",
   "metadata": {},
   "source": [
    "* Python code is usually stored in text files with the file ending in \"`.py`\":\n",
    "\n",
    "         myprogram.py\n",
    "\n",
    "* It is assumed that each line in a Python program file is a Python statement or part of it.\n",
    "\n",
    "     * The only exception is comment lines, which start with the `#` character (optionally preceded by an arbitrary number of whitespace characters, such as tabs or spaces). Comment lines are generally ignored by the Python interpreter.\n",
    "\n",
    "For multi-line comments, use `'''` before the start of the comment lines and after."
   ]
  },
  {
   "cell_type": "code",
   "execution_count": null,
   "metadata": {
    "tags": []
   },
   "outputs": [],
   "source": [
    "'''\n",
    "This are comment\n",
    "on more lines\n",
    "'''\n",
    "a=4"
   ]
  },
  {
   "cell_type": "markdown",
   "metadata": {},
   "source": [
    "## Modules"
   ]
  },
  {
   "cell_type": "markdown",
   "metadata": {},
   "source": [
    "Most of the functionality in Python is provided by *modules*. The Python Standard Library is a vast collection of modules that provides *cross-platform* implementations of common functionalities such as operating system access, file I/O, string manipulation, network communication, and much more."
   ]
  },
  {
   "cell_type": "code",
   "execution_count": null,
   "metadata": {
    "collapsed": false,
    "jupyter": {
     "outputs_hidden": false
    },
    "tags": []
   },
   "outputs": [],
   "source": [
    "import math"
   ]
  },
  {
   "cell_type": "markdown",
   "metadata": {},
   "source": [
    "This includes the entire module and makes it available for subsequent use in the program. For example:"
   ]
  },
  {
   "cell_type": "code",
   "execution_count": null,
   "metadata": {
    "collapsed": false,
    "jupyter": {
     "outputs_hidden": false
    },
    "tags": []
   },
   "outputs": [],
   "source": [
    "import math\n",
    "\n",
    "x = math.cos(2 * math.pi)\n",
    "\n",
    "print(x)"
   ]
  },
  {
   "cell_type": "markdown",
   "metadata": {},
   "source": [
    "Alternatively, we can choose to import all the symbols (functions and variables) from a module into the current namespace (so that we don't have to use the \"math.\" prefix every time we use something from the math module):"
   ]
  },
  {
   "cell_type": "code",
   "execution_count": null,
   "metadata": {
    "collapsed": false,
    "jupyter": {
     "outputs_hidden": false
    },
    "tags": []
   },
   "outputs": [],
   "source": [
    "from math import *\n",
    "\n",
    "x = cos(2 * pi)\n",
    "\n",
    "print(x)"
   ]
  },
  {
   "cell_type": "markdown",
   "metadata": {},
   "source": [
    "This scheme can be very convenient, but in large programs that include many modules, it is often a good idea to keep the symbols of each module in their own namespaces by using the import math scheme. This would eliminate potential namespace collision issues.\n",
    "As a third alternative, we can choose to import only some selected symbols from a module by explicitly listing the ones we want to import instead of using the wildcard character *:"
   ]
  },
  {
   "cell_type": "code",
   "execution_count": null,
   "metadata": {
    "collapsed": false,
    "jupyter": {
     "outputs_hidden": false
    },
    "tags": []
   },
   "outputs": [],
   "source": [
    "from math import cos, pi\n",
    "\n",
    "x = cos(2 * pi)\n",
    "\n",
    "print(x)"
   ]
  },
  {
   "cell_type": "markdown",
   "metadata": {},
   "source": [
    "###   Analyzing the Content of a Module and Its Documentation"
   ]
  },
  {
   "cell_type": "markdown",
   "metadata": {},
   "source": [
    "Once a module is imported, we can list the symbols it provides using the dir function:"
   ]
  },
  {
   "cell_type": "code",
   "execution_count": null,
   "metadata": {
    "collapsed": false,
    "jupyter": {
     "outputs_hidden": false
    },
    "tags": []
   },
   "outputs": [],
   "source": [
    "import math\n",
    "\n",
    "print(dir(math))"
   ]
  },
  {
   "cell_type": "markdown",
   "metadata": {},
   "source": [
    "And using the help function, we can obtain a description of almost every function."
   ]
  },
  {
   "cell_type": "code",
   "execution_count": null,
   "metadata": {
    "collapsed": false,
    "jupyter": {
     "outputs_hidden": false
    },
    "tags": []
   },
   "outputs": [],
   "source": [
    "help(math.log)"
   ]
  },
  {
   "cell_type": "code",
   "execution_count": null,
   "metadata": {
    "collapsed": false,
    "jupyter": {
     "outputs_hidden": false
    },
    "tags": []
   },
   "outputs": [],
   "source": [
    "math.log(10)"
   ]
  },
  {
   "cell_type": "code",
   "execution_count": null,
   "metadata": {
    "collapsed": false,
    "jupyter": {
     "outputs_hidden": false
    },
    "tags": []
   },
   "outputs": [],
   "source": [
    "math.log(10, 10)"
   ]
  },
  {
   "cell_type": "markdown",
   "metadata": {},
   "source": [
    "Alcuni moduli molto utili della libreria standard di Python sono `os`, `sys`, `math`"
   ]
  },
  {
   "cell_type": "markdown",
   "metadata": {},
   "source": [
    "## Variables and Types"
   ]
  },
  {
   "cell_type": "markdown",
   "metadata": {},
   "source": [
    "Python has two types of data:\n",
    "- Simple data types\n",
    "    - int\n",
    "    - float\n",
    "    - complex\n",
    "    - boolean\n",
    "    - string\n",
    "- Containers\n",
    "    - tuple ()\n",
    "    - list []\n",
    "    - dict {}\n",
    "    - set {}\n",
    "    \n",
    "Each of these entities in Python has:       \n",
    "**An identity:** A unique identifier that distinguishes it from any other object. To obtain the identity of an object, use the `id()` function.     \n",
    "**A type:** A type that defines what operations can be performed on the object and what values it can contain. To obtain the type of an object, use the `type()` function.      \n",
    "**A value:** The actual value contained in the object.\n",
    "\n",
    "Python represents numbers in *binary base* using *double precision*. Each number is stored in a 64-bit field, of which:\n",
    "- 1 bit identifies the sign (+ or -);\n",
    "- 52 bits are dedicated to storing the mantissa. (This corresponds, in base 10, to about 16 significant digits)\n",
    "- 11 bits are dedicated to storing the exponent."
   ]
  },
  {
   "cell_type": "code",
   "execution_count": null,
   "metadata": {
    "tags": []
   },
   "outputs": [],
   "source": [
    "import sys\n",
    "sys.float_info   #Informazioni sul sistema floating Point di Python\n"
   ]
  },
  {
   "cell_type": "markdown",
   "metadata": {},
   "source": [
    "### Integer\n",
    "In Python 3, the value of an integer is not limited by the number of bits and can expand up to the limit of the available memory."
   ]
  },
  {
   "cell_type": "markdown",
   "metadata": {},
   "source": [
    "### Float\n",
    "The float type represents real numbers in double precision."
   ]
  },
  {
   "cell_type": "markdown",
   "metadata": {},
   "source": [
    "### Booleans\n",
    "In Python, the values *true* and *false* are represented as **True** and **False**, with the first letter capitalized."
   ]
  },
  {
   "cell_type": "markdown",
   "metadata": {},
   "source": [
    "### Complex\n",
    "il tipo complex rappresenta un tipo numerico complesso in doppia precisione.  Si accede alla parte reale ed alla parte immaginaria di un numero complesso mediante *.real* e *.imag*"
   ]
  },
  {
   "cell_type": "code",
   "execution_count": null,
   "metadata": {
    "tags": []
   },
   "outputs": [],
   "source": [
    "a = 5 + 2j         # j indicates the imaginary unit\n",
    "print(a)\n",
    "print(a.imag)      # accesses the coefficient of the imaginary part\n",
    "print(a.real)      # accesses the real part"
   ]
  },
  {
   "cell_type": "markdown",
   "metadata": {},
   "source": [
    "### Strings"
   ]
  },
  {
   "cell_type": "markdown",
   "metadata": {},
   "source": [
    "Strings are the variable type used to store text messages. Strings are **immutable**. Any operation on a string (such as concatenation or replacement) creates a new string."
   ]
  },
  {
   "cell_type": "code",
   "execution_count": null,
   "metadata": {
    "collapsed": false,
    "jupyter": {
     "outputs_hidden": false
    },
    "tags": []
   },
   "outputs": [],
   "source": [
    "s = \"Hello world\"\n",
    "type(s), len(s)  # Length of a string: the number of characters it contains"
   ]
  },
  {
   "cell_type": "markdown",
   "metadata": {},
   "source": [
    "To access an element of a string, the `[]` notation is used."
   ]
  },
  {
   "cell_type": "code",
   "execution_count": null,
   "metadata": {
    "tags": []
   },
   "outputs": [],
   "source": [
    "s[0]\n",
    "# s[0]='a'  da errore"
   ]
  },
  {
   "cell_type": "markdown",
   "metadata": {},
   "source": [
    "Note: When using methods that alter strings (e.g., `capitalize`, `upper`, `center`, etc.), another string is created to which the effects of the invoked method are applied, as strings cannot be modified in-place."
   ]
  },
  {
   "cell_type": "code",
   "execution_count": null,
   "metadata": {
    "tags": []
   },
   "outputs": [],
   "source": [
    "s = 'hello'\n",
    "print('Capitalize', s.capitalize())   # Capitalizes the first character and makes the rest lowercase; prints \"Hello\"\n",
    "print(\"stringa s\", s)                 # s remains unchanged\n",
    "print(\"Maiuscolo\", s.upper())         # Converts a string to uppercase; prints \"HELLO\"\n",
    "print('Giustificato', s.rjust(7))     # Right-justifies, adding spaces; prints \"  hello\"\n",
    "print(\"Centrata\", s.center(7))        # Centers a string, adding spaces; prints \" hello \"\n",
    "print(s.replace('l', '(ell)'))        # Replaces instances of a substring; prints \"he(ell)(ell)o\"\n",
    "print(' world '.strip())              # Removes spaces at the beginning and end of the string"
   ]
  },
  {
   "cell_type": "code",
   "execution_count": null,
   "metadata": {
    "collapsed": false,
    "jupyter": {
     "outputs_hidden": false
    },
    "tags": []
   },
   "outputs": [],
   "source": [
    "s = \"world\"  # Replace a substring with another substring\n",
    "print(s.replace(\"world\", \"test\"))  # Prints \"test\"\n",
    "print(s)  # s remains unchanged\n",
    "s1 = 'ciao'\n",
    "s1.capitalize()  # Capitalizes the first character of s1, but does not modify s1"
   ]
  },
  {
   "cell_type": "markdown",
   "metadata": {},
   "source": [
    "**Slicing** in Python is a powerful technique that allows you to extract portions of sequences (such as strings, lists, tuples) in a concise and flexible way. It is a fundamental tool for data manipulation in Python.\n",
    "\n",
    "Slicing uses square bracket notation `[]` with one or two indices separated by colons `:`. The general syntax is as follows:\n",
    "\n",
    "```python\n",
    "sequence[start:stop:step]\n",
    "```\n",
    "\n",
    "- **start**: The starting index of the portion (inclusive). If omitted, the default value is 0 (the beginning of the sequence).\n",
    "- **stop**: The ending index of the portion (exclusive). If omitted, the default value is the length of the sequence (up to the end).\n",
    "- **step**: The step (increment) between indices. If omitted, the default value is 1 (every element)."
   ]
  },
  {
   "cell_type": "code",
   "execution_count": null,
   "metadata": {
    "collapsed": false,
    "jupyter": {
     "outputs_hidden": false
    },
    "tags": []
   },
   "outputs": [],
   "source": [
    "s[0:5], s[4:5], s[:4], s[6:], s[::2], s[-1], s[-2]"
   ]
  },
  {
   "cell_type": "markdown",
   "metadata": {},
   "source": [
    "### String concatenation"
   ]
  },
  {
   "cell_type": "code",
   "execution_count": null,
   "metadata": {
    "tags": []
   },
   "outputs": [],
   "source": [
    "str1 = \"ciao \"\n",
    "str2 = \" come stai\"\n",
    "str2 = str1 + str2\n",
    "print(str2)"
   ]
  },
  {
   "cell_type": "markdown",
   "metadata": {
    "collapsed": false,
    "jupyter": {
     "outputs_hidden": false
    }
   },
   "source": [
    "### String repetition"
   ]
  },
  {
   "cell_type": "code",
   "execution_count": null,
   "metadata": {
    "tags": []
   },
   "outputs": [],
   "source": [
    "str1*2"
   ]
  },
  {
   "cell_type": "markdown",
   "metadata": {},
   "source": [
    "### List"
   ]
  },
  {
   "cell_type": "markdown",
   "metadata": {},
   "source": [
    "Lists are ordered **mutable** sequences that can contain elements of any type.\n",
    "\n",
    "The syntax to create lists in Python is `[...]`:"
   ]
  },
  {
   "cell_type": "code",
   "execution_count": null,
   "metadata": {
    "collapsed": false,
    "jupyter": {
     "outputs_hidden": false
    },
    "tags": []
   },
   "outputs": [],
   "source": [
    "l = [1,2,3,4]\n",
    "\n",
    "print(type(l))\n",
    "print(l)\n",
    "print(l[1:3])\n",
    "print(l[::2])\n",
    "\n",
    "l[0]"
   ]
  },
  {
   "cell_type": "markdown",
   "metadata": {},
   "source": [
    "If an \"in-place\" operation is performed on the original list, such as sorting the elements with the `sort()` method, the original list will be directly modified:"
   ]
  },
  {
   "cell_type": "code",
   "execution_count": null,
   "metadata": {
    "tags": []
   },
   "outputs": [],
   "source": [
    "n = [7, -6, 4, -2, 0, 8]\n",
    "n.sort()\n",
    "print(n)"
   ]
  },
  {
   "cell_type": "markdown",
   "metadata": {},
   "source": [
    "The elements of a list may not all be of the same type."
   ]
  },
  {
   "cell_type": "code",
   "execution_count": null,
   "metadata": {
    "collapsed": false,
    "jupyter": {
     "outputs_hidden": false
    },
    "tags": []
   },
   "outputs": [],
   "source": [
    "l = [1, 'a', 1.0, 1-1j]\n",
    "\n",
    "print(l)"
   ]
  },
  {
   "cell_type": "markdown",
   "metadata": {},
   "source": [
    "Lists in Python can be nested. Here's an example of a list where each element is another list:"
   ]
  },
  {
   "cell_type": "code",
   "execution_count": null,
   "metadata": {
    "collapsed": false,
    "jupyter": {
     "outputs_hidden": false
    },
    "tags": []
   },
   "outputs": [],
   "source": [
    "m = [[1,2,3],[4,5,6],[7,8,9]]\n",
    "\n",
    "print(m)\n",
    "print(m[0]) \n",
    "print(m[1])\n",
    "print(m[1][1])"
   ]
  },
  {
   "cell_type": "markdown",
   "metadata": {},
   "source": [
    "Lists play a very important role in Python. For example, they are used in loops and other flow control structures (discussed below). There are many useful functions for generating lists of various types, such as the `range` function:\n",
    "\n",
    "The `range()` function accepts up to three arguments:\n",
    "- **start** (optional): the starting value of the sequence. If omitted, the default value is 0.\n",
    "- **stop**: the final value of the sequence (exclusive). This is required.\n",
    "- **step** (optional): the increment between numbers in the sequence. If omitted, the default value is 1."
   ]
  },
  {
   "cell_type": "code",
   "execution_count": null,
   "metadata": {
    "tags": []
   },
   "outputs": [],
   "source": [
    "start = 10\n",
    "stop = 30\n",
    "step = 2\n",
    "range(start, stop, step)"
   ]
  },
  {
   "cell_type": "code",
   "execution_count": null,
   "metadata": {
    "collapsed": false,
    "jupyter": {
     "outputs_hidden": false
    },
    "tags": []
   },
   "outputs": [],
   "source": [
    "print(list(range(start, stop, step)))      # In Python 3, range generates an iterator, which can be converted to a list using 'list(...)'.\n",
    "print(list(range(-10, 10)))\n",
    "\n",
    "s = 'ciao'\n",
    "print(list(s))\n",
    "s2 = list(s)\n",
    "s2.sort()\n",
    "print(s2)"
   ]
  },
  {
   "cell_type": "markdown",
   "metadata": {},
   "source": [
    "#### Adding, inserting, modifying, and removing elements from lists"
   ]
  },
  {
   "cell_type": "code",
   "execution_count": null,
   "metadata": {
    "collapsed": false,
    "jupyter": {
     "outputs_hidden": false
    },
    "tags": []
   },
   "outputs": [],
   "source": [
    "l = []\n",
    "\n",
    "l.append(1)\n",
    "l.append(2)\n",
    "l.append(3)\n",
    "\n",
    "print(l)"
   ]
  },
  {
   "cell_type": "markdown",
   "metadata": {},
   "source": [
    "We can modify lists by assigning new values to elements in the list. Lists are **mutable**."
   ]
  },
  {
   "cell_type": "code",
   "execution_count": null,
   "metadata": {
    "collapsed": false,
    "jupyter": {
     "outputs_hidden": false
    },
    "tags": []
   },
   "outputs": [],
   "source": [
    "l[1] =5\n",
    "l[2] = 5\n",
    "\n",
    "print(l)"
   ]
  },
  {
   "cell_type": "code",
   "execution_count": null,
   "metadata": {
    "collapsed": false,
    "jupyter": {
     "outputs_hidden": false
    },
    "tags": []
   },
   "outputs": [],
   "source": [
    "l[1:3] = [2,4]\n",
    "\n",
    "print(l)"
   ]
  },
  {
   "cell_type": "markdown",
   "metadata": {},
   "source": [
    "Insert an element at a specified position using `insert`."
   ]
  },
  {
   "cell_type": "code",
   "execution_count": null,
   "metadata": {
    "collapsed": false,
    "jupyter": {
     "outputs_hidden": false
    },
    "tags": []
   },
   "outputs": [],
   "source": [
    "l.insert(0, 5)\n",
    "l.insert(1, 6)\n",
    "l.insert(2, 7)\n",
    "l.insert(3, 8)\n",
    "l.insert(4, 9)\n",
    "l.insert(5, 10)\n",
    "\n",
    "print(l)"
   ]
  },
  {
   "cell_type": "markdown",
   "metadata": {},
   "source": [
    "Remove the first element that has a specific value using `remove`."
   ]
  },
  {
   "cell_type": "code",
   "execution_count": null,
   "metadata": {
    "collapsed": false,
    "jupyter": {
     "outputs_hidden": false
    },
    "tags": []
   },
   "outputs": [],
   "source": [
    "l.remove(1)\n",
    "\n",
    "print(l)"
   ]
  },
  {
   "cell_type": "markdown",
   "metadata": {},
   "source": [
    "Remove an element at a specific position using `del`:"
   ]
  },
  {
   "cell_type": "code",
   "execution_count": null,
   "metadata": {
    "collapsed": false,
    "jupyter": {
     "outputs_hidden": false
    },
    "tags": []
   },
   "outputs": [],
   "source": [
    "del l[7]\n",
    "del l[6]\n",
    "\n",
    "print(l)"
   ]
  },
  {
   "cell_type": "markdown",
   "metadata": {},
   "source": [
    "The `+` operator is the simplest method to **concatenate** two lists. It creates a new list that contains all the elements of the first list followed by all the elements of the second list, creating a new object."
   ]
  },
  {
   "cell_type": "code",
   "execution_count": null,
   "metadata": {
    "tags": []
   },
   "outputs": [],
   "source": [
    "p1 = [2, 3, 4, 5]\n",
    "p2 = [6, 7, 8, 9]\n",
    "list_concat = p1 + p2\n",
    "print(list_concat)"
   ]
  },
  {
   "cell_type": "markdown",
   "metadata": {},
   "source": [
    "The `*` operator is the simplest method to create a new list that contains the elements of the original list **repeated k times**, creating another object."
   ]
  },
  {
   "cell_type": "code",
   "execution_count": null,
   "metadata": {
    "tags": []
   },
   "outputs": [],
   "source": [
    "p_replicated = p1 * 3\n",
    "print(p_replicated)"
   ]
  },
  {
   "cell_type": "markdown",
   "metadata": {},
   "source": [
    "### Tuple"
   ]
  },
  {
   "cell_type": "markdown",
   "metadata": {},
   "source": [
    "Tuples are like lists, except that they cannot be modified once created; they are **immutable**.\n",
    "\n",
    "In Python, tuples are created using the syntax `(..., ..., ...)`, or simply `..., ...`:"
   ]
  },
  {
   "cell_type": "code",
   "execution_count": null,
   "metadata": {
    "collapsed": false,
    "jupyter": {
     "outputs_hidden": false
    },
    "tags": []
   },
   "outputs": [],
   "source": [
    "point = (10, 20)\n",
    "\n",
    "print(point, type(point))"
   ]
  },
  {
   "cell_type": "markdown",
   "metadata": {},
   "source": [
    "We can unpack a tuple by assigning it to a list of variables separated by commas."
   ]
  },
  {
   "cell_type": "code",
   "execution_count": null,
   "metadata": {
    "collapsed": false,
    "jupyter": {
     "outputs_hidden": false
    },
    "tags": []
   },
   "outputs": [],
   "source": [
    "x, y = point\n",
    "\n",
    "print(\"x =\", x)\n",
    "print(\"y =\", y)"
   ]
  },
  {
   "cell_type": "markdown",
   "metadata": {},
   "source": [
    "### Dictionaries"
   ]
  },
  {
   "cell_type": "markdown",
   "metadata": {},
   "source": [
    "Dictionaries are mutable objects, unlike tuples and strings which are immutable. They are like lists, except that each element is a key-value pair. The syntax for dictionaries is `{key1: value1, ...}`:"
   ]
  },
  {
   "cell_type": "code",
   "execution_count": null,
   "metadata": {
    "tags": []
   },
   "outputs": [],
   "source": [
    "rubrica = {}  # I initialize an empty dictionary\n",
    "rubrica = {'Mario':23213,'Francesca':3423, 'Antonio':123131, 'Giada':32131}\n",
    "rubrica\n"
   ]
  },
  {
   "cell_type": "code",
   "execution_count": null,
   "metadata": {
    "tags": []
   },
   "outputs": [],
   "source": [
    "rubrica.keys()\n"
   ]
  },
  {
   "cell_type": "code",
   "execution_count": null,
   "metadata": {
    "tags": []
   },
   "outputs": [],
   "source": [
    "rubrica.values()"
   ]
  },
  {
   "cell_type": "code",
   "execution_count": null,
   "metadata": {
    "tags": []
   },
   "outputs": [],
   "source": [
    "rubrica.get ('Francesca')   # Returns the value corresponding to the key \"Francesca\"\n"
   ]
  },
  {
   "cell_type": "code",
   "execution_count": null,
   "metadata": {
    "tags": []
   },
   "outputs": [],
   "source": [
    "rubrica['Antonio']\n"
   ]
  },
  {
   "cell_type": "markdown",
   "metadata": {},
   "source": [
    "### Set"
   ]
  },
  {
   "cell_type": "markdown",
   "metadata": {},
   "source": [
    "A set in Python is an **unordered collection of unique elements**. It is a mutable data structure, which means that you can add or remove elements after its creation. Here are some key characteristics and uses of sets:      \n",
    "- **Uniqueness**: Sets contain only unique elements. This means that each element appears only once in the set, even if the same element is added multiple times.     \n",
    "- **Mutability**: Sets are mutable, which means that you can modify them after creation using methods like `add()`, `remove()`, and `discard()`.      \n",
    "- **Unordered**: Sets are unordered. This means that the elements in a set do not have a specific order or a specific index for accessing them."
   ]
  },
  {
   "cell_type": "code",
   "execution_count": null,
   "metadata": {
    "tags": []
   },
   "outputs": [],
   "source": [
    "my_set = {1, 2, 3,4, 4, 6, 6}  # The duplicates of 4 and 6 will be removed\n",
    "print(my_set)"
   ]
  },
  {
   "cell_type": "code",
   "execution_count": null,
   "metadata": {
    "tags": []
   },
   "outputs": [],
   "source": [
    "# Add an element\n",
    "my_set.add(12)\n",
    "print(\"after adding 12\", my_set)   \n",
    "\n",
    "# Remove an element\n",
    "my_set.remove(6)  # Raises an error if the element is not found\n",
    "print(\"after removing 6\", my_set)   \n",
    "\n",
    "# Remove an element (does not raise an error if not found)\n",
    "my_set.discard(8)\n",
    "print(my_set)"
   ]
  },
  {
   "cell_type": "code",
   "execution_count": null,
   "metadata": {
    "tags": []
   },
   "outputs": [],
   "source": [
    "# Union of two sets\n",
    "set1 = {1, 2, 3}\n",
    "set2 = {3, 4, 5}\n",
    "union = set1 | set2\n",
    "print(union)  # Output: {1, 2, 3, 4, 5}\n",
    "\n",
    "# Intersection of two sets\n",
    "intersection = set1 & set2\n",
    "print(intersection)  # Output: {3}\n",
    "\n",
    "# Difference between two sets\n",
    "difference = set1 - set2\n",
    "print(difference)  # Output: {1, 2}\n"
   ]
  },
  {
   "cell_type": "code",
   "execution_count": null,
   "metadata": {
    "tags": []
   },
   "outputs": [],
   "source": [
    "if \"3\" in set1:  # Checks if an element is present in a set\n",
    "    print(\"3 is present in set1\")\n"
   ]
  },
  {
   "cell_type": "code",
   "execution_count": null,
   "metadata": {
    "tags": []
   },
   "outputs": [],
   "source": [
    "set1.add(6)  # Add an element to the set\n",
    "print(set1)  # Output: {1, 2, 3, 6}"
   ]
  },
  {
   "cell_type": "code",
   "execution_count": null,
   "metadata": {
    "tags": []
   },
   "outputs": [],
   "source": [
    "set1.remove(2)  # Remove an element from the set\n",
    "print(set1)     # Output: {1, 3, 6}"
   ]
  },
  {
   "cell_type": "markdown",
   "metadata": {},
   "source": [
    "**Convert a set to a list**"
   ]
  },
  {
   "cell_type": "code",
   "execution_count": null,
   "metadata": {
    "tags": []
   },
   "outputs": [],
   "source": [
    "lista1=list(set1)\n",
    "print(lista1)"
   ]
  },
  {
   "cell_type": "markdown",
   "metadata": {},
   "source": [
    "## Type Conversion\n",
    "If an arithmetic operation (+, -, *) involves numbers of mixed types, the numbers are automatically converted to a common type before the operation is executed, according to the following implicit conversion rule: int -> float -> complex."
   ]
  },
  {
   "cell_type": "code",
   "execution_count": null,
   "metadata": {
    "tags": []
   },
   "outputs": [],
   "source": [
    "a = 1\n",
    "b = 2.0\n",
    "c= 4 + 5j\n",
    "d = a + b\n",
    "print(d)\n",
    "e = a + b + c\n",
    "print(e)"
   ]
  },
  {
   "cell_type": "markdown",
   "metadata": {},
   "source": [
    "Type conversions can also be obtained through the following functions:\n",
    "- ``int(a)``        converts _a_ to an integer\n",
    "- ``float(a)``      converts _a_ to floating point\n",
    "- ``complex(a)``    converts _a_ to the complex number a + 0j\n",
    "- ``complex(a, b)`` converts to the complex number a + bj\n",
    "\n",
    "Conversion from float to integer using the `int` function is done by truncation and not by rounding."
   ]
  },
  {
   "cell_type": "code",
   "execution_count": null,
   "metadata": {
    "tags": []
   },
   "outputs": [],
   "source": [
    "a = 18.657\n",
    "print(int(a))"
   ]
  },
  {
   "cell_type": "markdown",
   "metadata": {},
   "source": [
    "## Conversion between native types is performed through specific functions.        \n",
    "Conversion from string type to numeric type: `int()`, `float()`, `complex()`        \n",
    "Conversion from numeric type to string: `str()`"
   ]
  },
  {
   "cell_type": "code",
   "execution_count": null,
   "metadata": {
    "tags": []
   },
   "outputs": [],
   "source": [
    "a = '4.4'\n",
    "print(float(a), type(float(a)))"
   ]
  },
  {
   "cell_type": "markdown",
   "metadata": {},
   "source": [
    "## Arithmetic Operators"
   ]
  },
  {
   "cell_type": "markdown",
   "metadata": {},
   "source": [
    "Python supports the usual arithmetic operators:\n",
    "- Addition  +\n",
    "- Subtraction  -\n",
    "- Multiplication  *\n",
    "- Division  /\n",
    "- Floor Division  //\n",
    "- Exponentiation **\n",
    "- Modulus %\n",
    "\n",
    "For the operators +, -:\n",
    "- If both operands are int, the result is int.\n",
    "- If one of the operands is float, the result is float.\n",
    "\n",
    "For division /:\n",
    "- The result is always float.\n",
    "\n",
    "For floor division //:\n",
    "- The result (int) is the integer part of the division."
   ]
  },
  {
   "cell_type": "code",
   "execution_count": null,
   "metadata": {
    "collapsed": false,
    "jupyter": {
     "outputs_hidden": false
    },
    "tags": []
   },
   "outputs": [],
   "source": [
    "1 + 2, 1 - 2, 1 * 2, 1/2"
   ]
  },
  {
   "cell_type": "code",
   "execution_count": null,
   "metadata": {
    "collapsed": false,
    "jupyter": {
     "outputs_hidden": false
    },
    "tags": []
   },
   "outputs": [],
   "source": [
    "1.0 + 2.0, 1.0 - 2.0, 1.0 * 2.0, 1.0 / 2.0"
   ]
  },
  {
   "cell_type": "code",
   "execution_count": null,
   "metadata": {
    "collapsed": false,
    "jupyter": {
     "outputs_hidden": false
    },
    "tags": []
   },
   "outputs": [],
   "source": [
    "3.0 // 2.0"
   ]
  },
  {
   "cell_type": "code",
   "execution_count": null,
   "metadata": {
    "collapsed": false,
    "jupyter": {
     "outputs_hidden": false
    },
    "tags": []
   },
   "outputs": [],
   "source": [
    "2 ** 2"
   ]
  },
  {
   "cell_type": "markdown",
   "metadata": {},
   "source": [
    "* Boolean operators: `and`, `not`, `or`."
   ]
  },
  {
   "cell_type": "code",
   "execution_count": null,
   "metadata": {
    "collapsed": false,
    "jupyter": {
     "outputs_hidden": false
    },
    "tags": []
   },
   "outputs": [],
   "source": [
    "True and False"
   ]
  },
  {
   "cell_type": "code",
   "execution_count": null,
   "metadata": {
    "collapsed": false,
    "jupyter": {
     "outputs_hidden": false
    },
    "tags": []
   },
   "outputs": [],
   "source": [
    "not False"
   ]
  },
  {
   "cell_type": "code",
   "execution_count": null,
   "metadata": {
    "collapsed": false,
    "jupyter": {
     "outputs_hidden": false
    },
    "tags": []
   },
   "outputs": [],
   "source": [
    "True or False"
   ]
  },
  {
   "cell_type": "markdown",
   "metadata": {},
   "source": [
    "* Comparison operators: `>`, `<`, `>=` (greater than or equal to), `<=` (less than or equal to), `==` (logical equality), `!=` (not equal)."
   ]
  },
  {
   "cell_type": "code",
   "execution_count": null,
   "metadata": {
    "collapsed": false,
    "jupyter": {
     "outputs_hidden": false
    },
    "tags": []
   },
   "outputs": [],
   "source": [
    "2 > 1"
   ]
  },
  {
   "cell_type": "code",
   "execution_count": null,
   "metadata": {
    "tags": []
   },
   "outputs": [],
   "source": [
    "2 < 1"
   ]
  },
  {
   "cell_type": "code",
   "execution_count": null,
   "metadata": {
    "collapsed": false,
    "jupyter": {
     "outputs_hidden": false
    },
    "tags": []
   },
   "outputs": [],
   "source": [
    "2 > 2"
   ]
  },
  {
   "cell_type": "code",
   "execution_count": null,
   "metadata": {
    "collapsed": false,
    "jupyter": {
     "outputs_hidden": false
    },
    "tags": []
   },
   "outputs": [],
   "source": [
    "2 >= 2"
   ]
  },
  {
   "cell_type": "code",
   "execution_count": null,
   "metadata": {
    "collapsed": false,
    "jupyter": {
     "outputs_hidden": false
    },
    "tags": []
   },
   "outputs": [],
   "source": [
    "a = 2\n",
    "b = 2\n",
    "a == b"
   ]
  },
  {
   "cell_type": "code",
   "execution_count": null,
   "metadata": {
    "collapsed": false,
    "jupyter": {
     "outputs_hidden": false
    },
    "tags": []
   },
   "outputs": [],
   "source": [
    "c = 4\n",
    "d = 6\n",
    "c != d"
   ]
  },
  {
   "cell_type": "markdown",
   "metadata": {},
   "source": [
    "In Python, data structures are divided into two main categories: **mutable and immutable**.\n",
    "\n",
    "- **Mutability**: A mutable object can be modified after its creation; it is indeed possible to change its value, add or remove elements, without having to create a new object.\n",
    "\n",
    "**Mutable data structures in Python:** lists, dictionaries, sets.\n",
    "\n",
    "- **Immutability**: An immutable object cannot be modified after its creation. Any operation that seems to modify an immutable object actually creates a new object with the changes.\n",
    "\n",
    "**Immutable data structures in Python:** numbers, tuples, strings.\n",
    "\n",
    "    Note: If a mutable object is passed to a function and the function modifies it, these changes will also be visible outside the function."
   ]
  },
  {
   "cell_type": "markdown",
   "metadata": {},
   "source": [
    "## Input"
   ]
  },
  {
   "cell_type": "markdown",
   "metadata": {},
   "source": [
    "The intrinsic function to accept user input is: `input`     \n",
    "The `input()` function reads user input from the keyboard and interprets it as a sequence of characters, which in Python is a string. Even if the user enters a number, `input()` will still treat it as a string."
   ]
  },
  {
   "cell_type": "code",
   "execution_count": null,
   "metadata": {
    "tags": []
   },
   "outputs": [],
   "source": [
    "x = input('Inserisci un valore intero')\n",
    "print(x, type(x))"
   ]
  },
  {
   "cell_type": "markdown",
   "metadata": {},
   "source": [
    "If you want the user input to be an integer or a decimal number, you need to explicitly convert it using the `int()` or `float()` functions."
   ]
  },
  {
   "cell_type": "code",
   "execution_count": null,
   "metadata": {
    "tags": []
   },
   "outputs": [],
   "source": [
    "y = int(input('y'''))\n",
    "print(y, type(y))"
   ]
  },
  {
   "cell_type": "markdown",
   "metadata": {},
   "source": [
    "## Output"
   ]
  },
  {
   "cell_type": "code",
   "execution_count": null,
   "metadata": {
    "tags": []
   },
   "outputs": [],
   "source": [
    "a = 1234.56789\n",
    "b = [2, 4, 6, 8]\n",
    "print(a,b)\n"
   ]
  },
  {
   "cell_type": "markdown",
   "metadata": {},
   "source": [
    "The simplest form for printing formatting is:       \n",
    "- print('{: fmt1} {: fmt2} ...'.format(arg1, arg2, ...)\n",
    "\n",
    "where `fmt1`, `fmt2`, ... are the format specifications for `arg1`, `arg2`, ..., respectively.\n",
    "\n",
    "- The commonly used format specifications are:\n",
    "    - `wd`     Integer\n",
    "    - `w.df`   Floating-point notation\n",
    "    - `w.de`   Exponential notation\n",
    "\n",
    "where `w` is the field width and `d` is the number of digits after the decimal point."
   ]
  },
  {
   "cell_type": "code",
   "execution_count": null,
   "metadata": {
    "tags": []
   },
   "outputs": [],
   "source": [
    "a = 100\n",
    "n = 100\n",
    "c = 12.6\n",
    "print('Value of a ={:12.4e} Value of n ={:6d}, Value of c ={:5.2f}'.format(a,n,c))"
   ]
  },
  {
   "cell_type": "markdown",
   "metadata": {},
   "source": [
    "## Flussi di controllo"
   ]
  },
  {
   "cell_type": "markdown",
   "metadata": {},
   "source": [
    "### If, Elif, Else"
   ]
  },
  {
   "cell_type": "markdown",
   "metadata": {},
   "source": [
    "The Python syntax for executing code under conditions uses the keywords `if`, `elif` (else if), `else`:"
   ]
  },
  {
   "cell_type": "code",
   "execution_count": null,
   "metadata": {
    "collapsed": false,
    "jupyter": {
     "outputs_hidden": false
    },
    "tags": []
   },
   "outputs": [],
   "source": [
    "statement1 = statement2 = False\n",
    "\n",
    "if statement1:\n",
    "    print(\"statement1 True\")\n",
    "    \n",
    "elif statement2:\n",
    "    print(\"statement2 True\")\n",
    "    \n",
    "else:\n",
    "    print(\"statement1 e statement2 False\")"
   ]
  },
  {
   "cell_type": "markdown",
   "metadata": {},
   "source": [
    "### Loops"
   ]
  },
  {
   "cell_type": "markdown",
   "metadata": {},
   "source": [
    "In Python, loops can be programmed in various ways. The most common is the `for` loop, which is used with iterable objects, such as lists. The basic syntax is:"
   ]
  },
  {
   "cell_type": "markdown",
   "metadata": {},
   "source": [
    "### **`for` loops**:"
   ]
  },
  {
   "cell_type": "code",
   "execution_count": null,
   "metadata": {
    "collapsed": false,
    "jupyter": {
     "outputs_hidden": false
    },
    "tags": []
   },
   "outputs": [],
   "source": [
    "for x in [1,2,3]:\n",
    "    print(x)\n",
    "\n",
    "for x in range(4):\n",
    "    print(x)"
   ]
  },
  {
   "cell_type": "code",
   "execution_count": null,
   "metadata": {
    "collapsed": false,
    "jupyter": {
     "outputs_hidden": false
    },
    "tags": []
   },
   "outputs": [],
   "source": [
    "for word in [\"scientific\", \"computing\", \"with\", \"python\"]:\n",
    "    print(word)"
   ]
  },
  {
   "cell_type": "markdown",
   "metadata": {},
   "source": [
    "To iterate over the key-value pairs of a dictionary:"
   ]
  },
  {
   "cell_type": "code",
   "execution_count": null,
   "metadata": {
    "collapsed": false,
    "jupyter": {
     "outputs_hidden": false
    },
    "tags": []
   },
   "outputs": [],
   "source": [
    "for key, value in rubrica.items():\n",
    "    print(key + \" = \" + str(value))"
   ]
  },
  {
   "cell_type": "markdown",
   "metadata": {},
   "source": [
    "Sometimes it is useful to have access to the indices of the values when iterating over a list. To do this, the `enumerate` function is used:"
   ]
  },
  {
   "cell_type": "code",
   "execution_count": null,
   "metadata": {
    "collapsed": false,
    "jupyter": {
     "outputs_hidden": false
    },
    "tags": []
   },
   "outputs": [],
   "source": [
    "for idx, x in enumerate(range(-3,3)):\n",
    "    print(idx, x)"
   ]
  },
  {
   "cell_type": "markdown",
   "metadata": {},
   "source": [
    "### List comprehensions: creating lists using `for` loops:"
   ]
  },
  {
   "cell_type": "markdown",
   "metadata": {},
   "source": [
    "A compact and convenient way to initialize lists:"
   ]
  },
  {
   "cell_type": "code",
   "execution_count": null,
   "metadata": {
    "collapsed": false,
    "jupyter": {
     "outputs_hidden": false
    },
    "tags": []
   },
   "outputs": [],
   "source": [
    "l1 = [x**2 for x in range(0,5)]\n",
    "\n",
    "print(l1)"
   ]
  },
  {
   "cell_type": "markdown",
   "metadata": {},
   "source": [
    "### `while` loops:"
   ]
  },
  {
   "cell_type": "code",
   "execution_count": null,
   "metadata": {
    "collapsed": false,
    "jupyter": {
     "outputs_hidden": false
    },
    "tags": []
   },
   "outputs": [],
   "source": [
    "i = 0\n",
    "\n",
    "while i < 5:\n",
    "    print(i)\n",
    "    \n",
    "    i = i + 1\n",
    "    \n",
    "print(\"done\")"
   ]
  },
  {
   "cell_type": "markdown",
   "metadata": {},
   "source": [
    "## Functions"
   ]
  },
  {
   "cell_type": "markdown",
   "metadata": {},
   "source": [
    "A function in Python is defined using the keyword `def`, followed by a function name, parentheses `()`, and a colon `:`. The following code, with an additional level of indentation, is the body of the function."
   ]
  },
  {
   "cell_type": "code",
   "execution_count": null,
   "metadata": {
    "collapsed": false,
    "jupyter": {
     "outputs_hidden": false
    },
    "tags": []
   },
   "outputs": [],
   "source": [
    "def func0():   \n",
    "    print(\"test\")\n",
    "\n",
    "func0"
   ]
  },
  {
   "cell_type": "markdown",
   "metadata": {},
   "source": [
    "Optionally, but highly recommended, you can define a so-called \"docstring,\" which is a description of the purpose and behavior of the functions. The docstring should immediately follow the function definition, before the code in the body of the function."
   ]
  },
  {
   "cell_type": "code",
   "execution_count": null,
   "metadata": {
    "collapsed": false,
    "jupyter": {
     "outputs_hidden": false
    },
    "tags": []
   },
   "outputs": [],
   "source": [
    "def func1(s):\n",
    "    \"\"\"\n",
    "    This function prints a string and its length in characters.\n",
    "    \"\"\"\n",
    "    \n",
    "    print(s + \" has \" + str(len(s)) + \" characters\")\n",
    "\n",
    "help(func1)\n",
    "func1(\"test\")"
   ]
  },
  {
   "cell_type": "markdown",
   "metadata": {},
   "source": [
    "Functions that return a value use the keyword `return`:"
   ]
  },
  {
   "cell_type": "code",
   "execution_count": null,
   "metadata": {
    "collapsed": false,
    "jupyter": {
     "outputs_hidden": false
    },
    "tags": []
   },
   "outputs": [],
   "source": [
    "def square(x):\n",
    "    \"\"\"\n",
    "    Returns the square of x.\n",
    "    \"\"\"\n",
    "    return x ** 2\n",
    "\n",
    "square(4)"
   ]
  },
  {
   "cell_type": "markdown",
   "metadata": {},
   "source": [
    "Possiamo far restituire più valori ad una funzione usando le tuple:"
   ]
  },
  {
   "cell_type": "code",
   "execution_count": null,
   "metadata": {
    "collapsed": false,
    "jupyter": {
     "outputs_hidden": false
    },
    "tags": []
   },
   "outputs": [],
   "source": [
    "def powers(x):\n",
    "    \"\"\"\n",
    "    Restituisce qualche potenza di x\n",
    "    \"\"\"\n",
    "    return x ** 2, x ** 3, x ** 4\n",
    "\n",
    "x2, x3, x4 = powers(3)\n",
    "print(x2, x3, x4)"
   ]
  },
  {
   "cell_type": "markdown",
   "metadata": {},
   "source": [
    "### Default Arguments and Keyword Arguments"
   ]
  },
  {
   "cell_type": "markdown",
   "metadata": {},
   "source": [
    "In the definition of a function, we can assign default values to the arguments accepted by the function:"
   ]
  },
  {
   "cell_type": "code",
   "execution_count": null,
   "metadata": {
    "collapsed": false,
    "jupyter": {
     "outputs_hidden": false
    },
    "tags": []
   },
   "outputs": [],
   "source": [
    "def myfunc(x, p=2, debug=False):\n",
    "    if debug:\n",
    "        print(\"Evaluating myfunc for x = \" + str(x) + \" using exponent p = \" + str(p))\n",
    "    return x ** p\n",
    "\n",
    "myfunc(5)\n",
    "myfunc(5, debug=True)\n",
    "myfunc(p=3, debug=True, x=7)"
   ]
  },
  {
   "cell_type": "markdown",
   "metadata": {},
   "source": [
    "### Anonymous Functions (Lambda Functions)"
   ]
  },
  {
   "cell_type": "markdown",
   "metadata": {},
   "source": [
    "In Python, we can also create anonymous functions using the `lambda` keyword:"
   ]
  },
  {
   "cell_type": "code",
   "execution_count": null,
   "metadata": {
    "collapsed": false,
    "jupyter": {
     "outputs_hidden": false
    }
   },
   "outputs": [],
   "source": [
    "f1 = lambda x: x**2\n",
    "\n",
    "def f2(x):\n",
    "    return x**2\n",
    "\n",
    "f1(2), f2(2)"
   ]
  },
  {
   "cell_type": "markdown",
   "metadata": {},
   "source": [
    "## Measuring Code Performance in Terms of Time: `time.time()`, `time.perf_counter()`, `time.process_time()`"
   ]
  },
  {
   "cell_type": "markdown",
   "metadata": {},
   "source": [
    "The function `time.time()` is useful for measuring the execution time of a program or for determining the elapsed time between two events."
   ]
  },
  {
   "cell_type": "code",
   "execution_count": null,
   "metadata": {},
   "outputs": [],
   "source": [
    "import time\n",
    "\n",
    "start_time = time.time()\n",
    "# execute your code here\n",
    "end_time = time.time()\n",
    "elapsed_time = end_time - start_time\n",
    "print(\"The elapsed time was\", elapsed_time, \"seconds.\")"
   ]
  },
  {
   "cell_type": "markdown",
   "metadata": {},
   "source": [
    "The function `time.perf_counter()` returns a high-resolution time value specific to the system, representing the clock time of the current process. This function is particularly useful when you want to measure the time taken to perform a specific operation.       \n",
    "The function `time.process_time()` returns the CPU time used by the current process. This function is particularly useful when you want to measure the time taken to process a specific operation, excluding any waiting time of the process (e.g., waiting for I/O)."
   ]
  }
 ],
 "metadata": {
  "kernelspec": {
   "display_name": "Python 3",
   "language": "python",
   "name": "python3"
  },
  "language_info": {
   "codemirror_mode": {
    "name": "ipython",
    "version": 3
   },
   "file_extension": ".py",
   "mimetype": "text/x-python",
   "name": "python",
   "nbconvert_exporter": "python",
   "pygments_lexer": "ipython3",
   "version": "3.13.3"
  }
 },
 "nbformat": 4,
 "nbformat_minor": 4
}
