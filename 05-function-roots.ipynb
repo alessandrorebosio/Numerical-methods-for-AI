{
  "cells": [
    {
      "cell_type": "markdown",
      "id": "bf169812-94dc-4b34-83ff-c84a3e29571a",
      "metadata": {},
      "source": [
        "# Workshop 5: Finding Function Roots"
      ]
    },
    {
      "cell_type": "markdown",
      "id": "6776a84b-7a0a-4001-bb1c-2316249e1bb4",
      "metadata": {},
      "source": [
        "Write Python functions `bisection.py`, `false_position.py` that implement respectively the bisection method, false position method, chord method, secant method and Newton's method.\n",
        "\n",
        "The functions `bisection.py`, `false_position.py` should take as input:\n",
        "\n",
        "- The interval endpoints [a,b], domain of f\n",
        "- The name `fname` of the function whose root we want to find\n",
        "- tolx: tolerance for the stopping criterion on the relative error between two successive iterations\n",
        "- tolf: tolerance for the stopping criterion on the function value\n",
        "- nmax: maximum number of iterations\n",
        "    \n",
        "Output:\n",
        "- The function's root\n",
        "- The number of iterations performed\n",
        "- A list containing all the iterates xk"
      ]
    },
    {
      "cell_type": "code",
      "execution_count": null,
      "id": "cb4c7f8f",
      "metadata": {},
      "outputs": [],
      "source": [
        "from math import copysign \n",
        "\n",
        "def sign(x):\n",
        "  \"\"\"\n",
        "  Sign function that returns 1 if x is positive, 0 if x is zero and -1 if x is negative.\n",
        "  \"\"\"\n",
        "  return copysign(1, x)\n",
        "\n",
        "def bisection(fname, a, b, tolx):\n",
        "    \"\"\"\n",
        "    Find a root of function fname in interval [a, b] using the bisection method.\n",
        "    \n",
        "    Parameters:\n",
        "    fname : function - The function whose root we want to find\n",
        "    a : float - Left interval endpoint\n",
        "    b : float - Right interval endpoint\n",
        "    tolx : float - Tolerance for solution precision\n",
        "\n",
        "    Returns:\n",
        "    c : float - The found root\n",
        "    it : list - List of iterates (c values)\n",
        "    \"\"\"\n",
        "    if sign(fname(a)) * sign(fname(b)) >= 0:\n",
        "        return None, None  # No roots in interval\n",
        "\n",
        "    it = []\n",
        "\n",
        "    while abs(b - a) > tolx:\n",
        "        c = (a + b) / 2\n",
        "        it.append(c)\n",
        "        \n",
        "        if fname(c) == 0:  # If c is an exact root\n",
        "            return c, it\n",
        "        elif sign(fname(a)) * sign(fname(c)) < 0:  # Root is in [a, c]\n",
        "            b = c\n",
        "        else:  # Root is in [c, b]\n",
        "            a = c\n",
        "\n",
        "    return c, it  # Returns root approximation and iterates\n",
        "\n",
        "def false_position(fname, a, b, tolx, tolf, nmax):   \n",
        "    \"\"\"\n",
        "    Find a root of function fname in interval [a, b] using the false position method.\n",
        "    \n",
        "    Parameters:\n",
        "    fname : function - The function whose root we want to find\n",
        "    a : float - Left interval endpoint\n",
        "    b : float - Right interval endpoint\n",
        "    tolx : float - Tolerance for solution precision\n",
        "    tolf : float - Tolerance for relative error calculation\n",
        "    nmax : int - Maximum number of iterations\n",
        "\n",
        "    Returns:\n",
        "    c : float - The found root\n",
        "    it : list - List of iterates (c values)\n",
        "    \"\"\"\n",
        "    if sign(fname(a)) * sign(fname(b)) >= 0:\n",
        "        return None, None  # No roots in interval\n",
        "    \n",
        "    e = tolx + 1\n",
        "    prec = a\n",
        "    it = []\n",
        "\n",
        "    while len(it) < nmax and e > tolx:\n",
        "        c = a - (fname(a) * (b - a)) / (fname(b) - fname(a))\n",
        "        it.append(c)\n",
        "\n",
        "        if fname(c) == 0:\n",
        "            return c, it\n",
        "        elif sign(fname(a)) * sign(fname(c)) < 0:  # Root is in [a, c]\n",
        "            b = c\n",
        "        else:  # Root is in [c, b]\n",
        "            a = c\n",
        "\n",
        "        if c != 0:\n",
        "            e = abs(c - prec) / abs(c)\n",
        "        else:\n",
        "            e = abs(c - prec)\n",
        "        \n",
        "        prec = c\n",
        "\n",
        "    return c, it  # Returns root approximation and iterates"
      ]
    },
    {
      "cell_type": "markdown",
      "id": "22339d84-a5cc-4950-a537-104611a315f8",
      "metadata": {},
      "source": [
        "## Exercise 1\n",
        "\n",
        "Compare the methods implemented above in the following cases:\n",
        "- f(x) = $x^3-6x^2-4x+24$ in [-3,8], tolx = 1.e−12, tolf = 1.e−12, (exact solution alpha=-2,2,6);\n",
        "- f(x) = exp(−x) − (x + 1) in [−1, 2], tolx = 1.e−12, tolf = 1.e−12, (exact solution alpha=0);\n",
        "- f(x) = log2(x + 3) − 2 in [−1, 2], tolx = 1.e−12, tolf = 1.e−12, (exact solution alpha=1);\n",
        "- f(x) = sqrt(x)-(x^2)/4 in [1, 3], tolx = 1.e−12, tolf =1.e−12, (exact solution alpha=2**(4/3))\n",
        "\n",
        "Show in a semilogarithmic plot on the y-axis (semilogy command) the trend of ek = |xk − α|, k = 1, ..., nit, knowing that α = 0, 1, 2**(4/3) in cases 2-4."
      ]
    },
    {
      "cell_type": "code",
      "execution_count": null,
      "id": "2e565367",
      "metadata": {},
      "outputs": [],
      "source": [
        "import matplotlib.pyplot as plt\n",
        "import numpy as np\n",
        "\n",
        "a1, b1 = -3, 8\n",
        "xx = np.linspace(a1, b1,100)\n",
        "f1 = lambda x: x**3 - 6 * x**2 - 4 * x + 24\n",
        "\n",
        "print(bisection(f1, a1, b1, 1e-12))\n",
        "print(false_position(f1, a1, b1, 1e-12, 1e-12, 1000))\n",
        "\n",
        "plt.plot(xx, f1(xx), xx, np.zeros_like(xx))\n",
        "plt.show()"
      ]
    },
    {
      "cell_type": "markdown",
      "id": "d9787fdd-725e-4803-b148-8a137e4335c8",
      "metadata": {},
      "source": [
        "## Exercise 2\n",
        "\n",
        "- Use the bisection method to calculate the square root of 2. Analyze the results."
      ]
    },
    {
      "cell_type": "code",
      "execution_count": null,
      "id": "8345cca0",
      "metadata": {},
      "outputs": [],
      "source": [
        "import numpy as np\n",
        "\n",
        "f = lambda x: x**2 - 2\n",
        "\n",
        "a, b = 1.0, 2.0\n",
        "x = np.linspace(a, b, 100)\n",
        "\n",
        "s, it = bisection(f, a, b, 1e-12)\n",
        "\n",
        "print(\"Solution: \", s, \"Iterates: \", len(it))\n",
        "\n",
        "plt.plot(x, f(x), x, np.zeros_like(x))\n",
        "plt.show()\n",
        "\n",
        "alfa = np.sqrt(2)\n",
        "err = np.abs(np.array(it) - alfa)\n",
        "\n",
        "plt.semilogy(range(len(it)), err, 'r-o')\n",
        "plt.show()"
      ]
    },
    {
      "cell_type": "markdown",
      "id": "b83adaa1-7bed-4e12-9c11-4b0cd149a541",
      "metadata": {},
      "source": [
        "## Exercise 3\n",
        "Write a NumPy function that calculates the infinity norm and the 1-norm of a vector and matrix and test it on vectors and matrices of your choice. Compare the results with those obtained using the norm function from numpy.linalg\n",
        "\n",
        "(Remember the formula for matrix infinity norm and 1-norm:\n",
        "$||A||_\\infty= \\max_{j=1,n} \\sum_{i} |a_{ij}| $\n",
        "$\\quad ||A||_1= \\max_{i=1,n} \\sum_{j} |a_{ij}| $)"
      ]
    },
    {
      "cell_type": "code",
      "execution_count": null,
      "id": "520d4206",
      "metadata": {},
      "outputs": [],
      "source": [
        "import numpy as np\n",
        "\n",
        "def norm_one(A):\n",
        "    return np.max(np.sum(np.abs(A), axis=0))\n",
        "\n",
        "def norm_inf(A):\n",
        "    return np.max(np.sum(np.abs(A), axis=1))\n",
        "\n",
        "A = np.array([[2.0],[3],[4],[5]])\n",
        "\n",
        "print(\"My implementation: \", norm_one(A), \"np norm one: \", np.linalg.norm(A, 1))\n",
        "print(\"My implementation: \", norm_inf(A), \"np norm inf: \", np.linalg.norm(A, np.inf))"
      ]
    },
    {
      "cell_type": "markdown",
      "id": "1529f44f-dd62-4109-b9da-edd840811f55",
      "metadata": {},
      "source": [
        "## Exercise 4\n",
        "Implement a function that calculates the 2-norm of a matrix using the eigvals function from numpy.linalg (np.linalg.eigvals(A)). Test it on matrix A=np.array([[4,-1,6],[2,3,-3],[1,-2,9/2]]) and compare the results with those obtained using the norm function from numpy.linalg"
      ]
    },
    {
      "cell_type": "code",
      "execution_count": null,
      "id": "e48b6359",
      "metadata": {},
      "outputs": [],
      "source": [
        "import numpy as np \n",
        "\n",
        "def norm_two(A):\n",
        "    return np.sqrt(np.abs(np.max(np.linalg.eigvals(A.T @ A))))\n",
        "\n",
        "A = np.array([[4, -1, 6], [2, 3, -3], [1, -2, 9/2]])\n",
        "\n",
        "print(\"My implementation: \", norm_two(A), \"np norm two: \", np.linalg.norm(A, 2))"
      ]
    }
  ],
  "metadata": {
    "kernelspec": {
      "display_name": "Python 3",
      "language": "python",
      "name": "python3"
    },
    "language_info": {
      "codemirror_mode": {
        "name": "ipython",
        "version": 3
      },
      "file_extension": ".py",
      "mimetype": "text/x-python",
      "name": "python",
      "nbconvert_exporter": "python",
      "pygments_lexer": "ipython3",
      "version": "3.13.3"
    }
  },
  "nbformat": 4,
  "nbformat_minor": 5
}
