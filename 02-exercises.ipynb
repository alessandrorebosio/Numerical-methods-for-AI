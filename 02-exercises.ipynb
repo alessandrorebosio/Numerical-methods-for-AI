{
 "cells": [
  {
   "cell_type": "markdown",
   "id": "introduction",
   "metadata": {},
   "source": [
    "# Workshop 2: exercises\n",
    "\n",
    "This notebook contains a series of exercises designed to practice NumPy array manipulation, mathematical operations, and basic image processing techniques."
   ]
  },
  {
   "cell_type": "markdown",
   "id": "exercise-1",
   "metadata": {},
   "source": [
    "## Exercise 1: Array Operations Performance Comparison\n",
    "\n",
    "- Create two 2D NumPy arrays of size 5000×5000 with values sampled from a Gaussian distribution (mean=0, variance=1)\n",
    "- Perform array addition using two methods:\n",
    "  - Vectorized operations\n",
    "  - Nested loops over rows and columns\n",
    "- Compare the execution times of both methods"
   ]
  },
  {
   "cell_type": "code",
   "execution_count": null,
   "id": "solution-1",
   "metadata": {},
   "outputs": [],
   "source": [
    "import numpy as np\n",
    "import time\n",
    "\n",
    "# Method 1: Vectorized operations\n",
    "arr1 = np.random.randn(5000, 5000)\n",
    "arr2 = np.random.randn(5000, 5000)\n",
    "\n",
    "start_time = time.time()\n",
    "result_vectorized = arr1 + arr2\n",
    "vectorized_time = time.time() - start_time\n",
    "\n",
    "# Method 2: Nested loops\n",
    "result_loop = np.empty_like(arr1)\n",
    "start_time = time.time()\n",
    "for i in range(arr1.shape[0]):\n",
    "    for j in range(arr1.shape[1]):\n",
    "        result_loop[i,j] = arr1[i,j] + arr2[i,j]\n",
    "loop_time = time.time() - start_time\n",
    "\n",
    "print(f\"Vectorized operation time: {vectorized_time:.4f} seconds\")\n",
    "print(f\"Nested loops time: {loop_time:.4f} seconds\")\n",
    "print(f\"Speedup factor: {loop_time/vectorized_time:.1f}x\")"
   ]
  },
  {
   "cell_type": "markdown",
   "id": "exercise-2",
   "metadata": {},
   "source": [
    "## Exercise 2: Array Reshaping\n",
    "\n",
    "- Create a NumPy array `s` with 40 equally spaced values in [0, 20]\n",
    "- Reshape it into a 2D array with 4 rows\n",
    "- Determine if the reshape operation creates a view or a copy"
   ]
  },
  {
   "cell_type": "code",
   "execution_count": null,
   "id": "solution-2",
   "metadata": {},
   "outputs": [],
   "source": [
    "import numpy as np\n",
    "\n",
    "s = np.linspace(0, 20, 40)\n",
    "s_reshaped = s.reshape(4, -1)\n",
    "\n",
    "print(\"Is reshaped array a view?\", s_reshaped.base is s)\n",
    "print(\"Original array base:\", s.base)\n",
    "print(\"Reshaped array base:\", s_reshaped.base)"
   ]
  },
  {
   "cell_type": "markdown",
   "id": "exercise-3",
   "metadata": {},
   "source": [
    "## Exercise 3: Array Reshaping with Columns\n",
    "\n",
    "- Create a NumPy array `t` with 100 equally spaced values in [0, 4]\n",
    "- Reshape it into a 2D array with 4 columns"
   ]
  },
  {
   "cell_type": "code",
   "execution_count": null,
   "id": "solution-3",
   "metadata": {},
   "outputs": [],
   "source": [
    "import numpy as np\n",
    "\n",
    "t = np.linspace(0, 4, 100)\n",
    "t_reshaped = t.reshape(-1, 4)\n",
    "\n",
    "print(\"Original shape:\", t.shape)\n",
    "print(\"Reshaped array shape:\", t_reshaped.shape)"
   ]
  },
  {
   "cell_type": "markdown",
   "id": "exercise-4",
   "metadata": {},
   "source": [
    "## Exercise 4: In-place Array Resizing\n",
    "\n",
    "- Create a 1D NumPy array `C` with values from 15 to 40 (step 2)\n",
    "- Resize it in-place to a 2D array with shape (7, 2) using `.resize()`"
   ]
  },
  {
   "cell_type": "code",
   "execution_count": null,
   "id": "solution-4",
   "metadata": {},
   "outputs": [],
   "source": [
    "import numpy as np\n",
    "\n",
    "C = np.arange(15, 41, 2)\n",
    "print(\"Original array:\", C)\n",
    "\n",
    "C.resize(7, 2)\n",
    "print(\"Resized array:\")\n",
    "print(C)"
   ]
  },
  {
   "cell_type": "markdown",
   "id": "exercise-5",
   "metadata": {},
   "source": [
    "## Exercise 5: Random Integer Array\n",
    "\n",
    "Create a NumPy array of 10 random integers between 1 and 100"
   ]
  },
  {
   "cell_type": "code",
   "execution_count": null,
   "id": "solution-5",
   "metadata": {},
   "outputs": [],
   "source": [
    "import numpy as np\n",
    "\n",
    "random_array = np.random.randint(1, 101, 10)\n",
    "print(\"Random array:\", random_array)"
   ]
  },
  {
   "cell_type": "markdown",
   "id": "exercise-6",
   "metadata": {},
   "source": [
    "## Exercise 6: Array Shuffling\n",
    "\n",
    "Shuffle the elements of a NumPy array containing 30 random integers between 100 and 200"
   ]
  },
  {
   "cell_type": "code",
   "execution_count": null,
   "id": "solution-6",
   "metadata": {},
   "outputs": [],
   "source": [
    "import numpy as np\n",
    "\n",
    "arr = np.random.randint(100, 201, 30)\n",
    "print(\"Original array:\", arr)\n",
    "\n",
    "np.random.shuffle(arr)\n",
    "print(\"Shuffled array:\", arr)"
   ]
  },
  {
   "cell_type": "markdown",
   "id": "exercise-7",
   "metadata": {},
   "source": [
    "## Exercise 7: Array Permutation\n",
    "\n",
    "Create a random permutation of a NumPy array with 20 values sampled from a standard normal distribution (without modifying the original array)"
   ]
  },
  {
   "cell_type": "code",
   "execution_count": null,
   "id": "solution-7",
   "metadata": {},
   "outputs": [],
   "source": [
    "import numpy as np\n",
    "\n",
    "original_arr = np.random.randn(20)\n",
    "permuted_arr = np.random.permutation(original_arr)\n",
    "\n",
    "print(\"Original array:\", original_arr)\n",
    "print(\"Permuted array:\", permuted_arr)\n",
    "print(\"Original array remains unchanged:\", original_arr)"
   ]
  },
  {
   "cell_type": "markdown",
   "id": "exercise-8",
   "metadata": {},
   "source": [
    "## Exercise 8: Array Flattening with ravel()\n",
    "\n",
    "- Create a 2D NumPy array A: [[10,11,12],[13,14,15],[16,17,18]]\n",
    "- Flatten it using `.ravel()`\n",
    "- Determine if the result is a view or a copy"
   ]
  },
  {
   "cell_type": "code",
   "execution_count": null,
   "id": "solution-8",
   "metadata": {},
   "outputs": [],
   "source": [
    "import numpy as np\n",
    "\n",
    "A = np.array([[10,11,12], [13,14,15], [16,17,18]])\n",
    "A_flat = A.ravel()\n",
    "\n",
    "print(\"Original array:\")\n",
    "print(A)\n",
    "print(\"\\nFlattened array:\", A_flat)\n",
    "print(\"Is flattened array a view?\", A_flat.base is A)"
   ]
  },
  {
   "cell_type": "markdown",
   "id": "exercise-9",
   "metadata": {},
   "source": [
    "## Exercise 9: Array Flattening with flatten()\n",
    "\n",
    "- Create the same 2D NumPy array A\n",
    "- Flatten it using `.flatten()`\n",
    "- Determine if the result is a view or a copy"
   ]
  },
  {
   "cell_type": "code",
   "execution_count": null,
   "id": "solution-9",
   "metadata": {},
   "outputs": [],
   "source": [
    "import numpy as np\n",
    "\n",
    "A = np.array([[10,11,12], [13,14,15], [16,17,18]])\n",
    "A_flat = A.flatten()\n",
    "\n",
    "print(\"Original array:\")\n",
    "print(A)\n",
    "print(\"\\nFlattened array:\", A_flat)\n",
    "print(\"Is flattened array a view?\", A_flat.base is A)"
   ]
  },
  {
   "cell_type": "markdown",
   "id": "exercise-10",
   "metadata": {},
   "source": [
    "## Exercise 10: Matrix Multiplication\n",
    "\n",
    "- Create two 1D NumPy arrays:\n",
    "  - f1 = [0,1,2,...,15]\n",
    "  - f2 = [16,17,18,...,31]\n",
    "- Reshape them into 4×4 matrices\n",
    "- Compute their matrix product and store it in f3"
   ]
  },
  {
   "cell_type": "code",
   "execution_count": null,
   "id": "solution-10",
   "metadata": {},
   "outputs": [],
   "source": [
    "import numpy as np\n",
    "\n",
    "f1 = np.arange(16).reshape(4,4)\n",
    "f2 = np.arange(16, 32).reshape(4,4)\n",
    "f3 = f1 @ f2\n",
    "\n",
    "print(\"Matrix f1:\")\n",
    "print(f1)\n",
    "print(\"\\nMatrix f2:\")\n",
    "print(f2)\n",
    "print(\"\\nMatrix product f3:\")\n",
    "print(f3)"
   ]
  },
  {
   "cell_type": "markdown",
   "id": "exercise-11",
   "metadata": {},
   "source": [
    "## Exercise 11: Array Broadcasting\n",
    "\n",
    "- Create a 2D NumPy array A of shape (2,10) with random values from standard normal distribution\n",
    "- Create a 1D NumPy array B of shape (20,) with integers 0-19\n",
    "- View A as a 1D array of 20 elements and compute A+B"
   ]
  },
  {
   "cell_type": "code",
   "execution_count": null,
   "id": "solution-11",
   "metadata": {},
   "outputs": [],
   "source": [
    "import numpy as np\n",
    "\n",
    "A = np.random.randn(2, 10)\n",
    "B = np.arange(20)\n",
    "\n",
    "result = A.ravel() + B\n",
    "\n",
    "print(\"Array A (original shape):\", A.shape)\n",
    "print(\"Array B:\", B.shape)\n",
    "print(\"Result of A (flattened) + B:\", result)"
   ]
  },
  {
   "cell_type": "markdown",
   "id": "exercise-12",
   "metadata": {},
   "source": [
    "## Exercise 12: Array Reshaping\n",
    "\n",
    "- Create a 1D NumPy array f of shape (10,) with 10 equally spaced values in [0,1]\n",
    "- Increase its dimensionality to shape (10,1)"
   ]
  },
  {
   "cell_type": "code",
   "execution_count": null,
   "id": "solution-12",
   "metadata": {},
   "outputs": [],
   "source": [
    "import numpy as np\n",
    "\n",
    "f = np.linspace(0, 1, 10)\n",
    "f_reshaped = f[:, np.newaxis]\n",
    "\n",
    "print(\"Original array shape:\", f.shape)\n",
    "print(\"Reshaped array shape:\", f_reshaped.shape)"
   ]
  },
  {
   "cell_type": "markdown",
   "id": "exercise-13",
   "metadata": {},
   "source": [
    "## Exercise 13: Array Concatenation (Rows)\n",
    "\n",
    "- Create two NumPy arrays:\n",
    "  - a = [14,13,12,11]\n",
    "  - b = [[4,3,2,1], [9,10,11,12]]\n",
    "- Concatenate them row-wise"
   ]
  },
  {
   "cell_type": "code",
   "execution_count": null,
   "id": "solution-13",
   "metadata": {},
   "outputs": [],
   "source": [
    "import numpy as np\n",
    "\n",
    "a = np.array([14,13,12,11])\n",
    "b = np.array([[4,3,2,1], [9,10,11,12]])\n",
    "\n",
    "result = np.concatenate((a[np.newaxis, :], b), axis=0)\n",
    "\n",
    "print(\"Concatenated array:\")\n",
    "print(result)"
   ]
  },
  {
   "cell_type": "markdown",
   "id": "exercise-14",
   "metadata": {},
   "source": [
    "## Exercise 14: Array Concatenation (Columns)\n",
    "\n",
    "- Create two NumPy arrays:\n",
    "  - a = [14,13,12,11]\n",
    "  - b = [[4,3,2,1], [9,10,11,12], [4,3,2,1], [9,10,11,12]]\n",
    "- Concatenate them column-wise"
   ]
  },
  {
   "cell_type": "code",
   "execution_count": null,
   "id": "solution-14",
   "metadata": {},
   "outputs": [],
   "source": [
    "import numpy as np\n",
    "\n",
    "a = np.array([14,13,12,11])\n",
    "b = np.array([[4,3,2,1], [9,10,11,12], [4,3,2,1], [9,10,11,12]])\n",
    "\n",
    "result = np.concatenate((a[:, np.newaxis], b), axis=1)\n",
    "\n",
    "print(\"Concatenated array:\")\n",
    "print(result)"
   ]
  },
  {
   "cell_type": "markdown",
   "id": "exercise-15",
   "metadata": {},
   "source": [
    "## Exercise 15: Special Matrix Construction\n",
    "\n",
    "Construct a 10×10 matrix A with:\n",
    "- Diagonal elements A[i,i] = 10\n",
    "- Lower diagonal elements A[i-1,i] = -12\n",
    "- Upper diagonal elements A[i,i+1] = -2\n",
    "\n",
    "All other elements should be zero. Do this in a single line of code."
   ]
  },
  {
   "cell_type": "code",
   "execution_count": null,
   "id": "solution-15",
   "metadata": {},
   "outputs": [],
   "source": [
    "import numpy as np\n",
    "\n",
    "A = np.diag(10 * np.ones(10)) + np.diag(-12 * np.ones(9), k=-1) + np.diag(-2 * np.ones(9), k=1)\n",
    "\n",
    "print(\"Special matrix A:\")\n",
    "print(A)"
   ]
  },
  {
   "cell_type": "markdown",
   "id": "exercise-16",
   "metadata": {},
   "source": [
    "## Exercise 16: Identity Matrix\n",
    "\n",
    "Create an identity matrix I of the same size as matrix A from Exercise 15"
   ]
  },
  {
   "cell_type": "code",
   "execution_count": null,
   "id": "solution-16",
   "metadata": {},
   "outputs": [],
   "source": [
    "import numpy as np\n",
    "\n",
    "I = np.eye(10)\n",
    "\n",
    "print(\"Identity matrix I:\")\n",
    "print(I)"
   ]
  },
  {
   "cell_type": "markdown",
   "id": "exercise-17",
   "metadata": {},
   "source": [
    "## Exercise 17: Array Slicing\n",
    "\n",
    "Using the matrix A from Exercise 15:\n",
    "- Create matrix AA by selecting:\n",
    "  - Rows from 2 to 9 with step 2\n",
    "  - Columns from 3 to 6 with step 2\n",
    "- Determine if AA is a view or a copy"
   ]
  },
  {
   "cell_type": "code",
   "execution_count": null,
   "id": "solution-17",
   "metadata": {},
   "outputs": [],
   "source": [
    "import numpy as np\n",
    "\n",
    "AA = A[1:9:2, 2:6:2]\n",
    "\n",
    "print(\"Submatrix AA:\")\n",
    "print(AA)\n",
    "print(\"Is AA a view?\", AA.base is A)"
   ]
  },
  {
   "cell_type": "markdown",
   "id": "exercise-18",
   "metadata": {},
   "source": [
    "## Exercise 18: Array Slicing and Copying\n",
    "\n",
    "Using the matrix A from Exercise 15:\n",
    "- Create matrix A1 by selecting columns from 1 to 5 with step 2\n",
    "- Convert A1 to a copy"
   ]
  },
  {
   "cell_type": "code",
   "execution_count": null,
   "id": "solution-18",
   "metadata": {},
   "outputs": [],
   "source": [
    "import numpy as np\n",
    "\n",
    "A1 = A[:, 1:5:2].copy()\n",
    "\n",
    "print(\"Submatrix A1:\")\n",
    "print(A1)\n",
    "print(\"Is A1 a view?\", A1.base is A)"
   ]
  },
  {
   "cell_type": "markdown",
   "id": "exercise-19",
   "metadata": {},
   "source": [
    "## Exercise 19: Element-wise Array Operations\n",
    "\n",
    "- Create two 5×5 NumPy arrays:\n",
    "  - A with random integers in [1,20]\n",
    "  - B with random integers in [1,6]\n",
    "- Compute:\n",
    "  - C = A + B (element-wise addition)\n",
    "  - D = A - B (element-wise subtraction)\n",
    "  - E = A * B (element-wise multiplication)\n",
    "  - F = A / B (element-wise division)\n",
    "- Print the diagonal elements of each result"
   ]
  },
  {
   "cell_type": "code",
   "execution_count": null,
   "id": "solution-19",
   "metadata": {},
   "outputs": [],
   "source": [
    "import numpy as np\n",
    "\n",
    "A = np.random.randint(1, 21, (5,5))\n",
    "B = np.random.randint(1, 7, (5,5))\n",
    "\n",
    "C = A + B\n",
    "D = A - B\n",
    "E = A * B\n",
    "F = A / B\n",
    "\n",
    "print(\"Matrix A:\")\n",
    "print(A)\n",
    "print(\"\\nMatrix B:\")\n",
    "print(B)\n",
    "\n",
    "print(\"\\nDiagonal of A+B:\", np.diag(C))\n",
    "print(\"Diagonal of A-B:\", np.diag(D))\n",
    "print(\"Diagonal of A*B:\", np.diag(E))\n",
    "print(\"Diagonal of A/B:\", np.diag(F))"
   ]
  },
  {
   "cell_type": "markdown",
   "id": "exercise-20",
   "metadata": {},
   "source": [
    "## Exercise 20: Sales Data Analysis\n",
    "\n",
    "Given a NumPy array representing daily sales for a month:\n",
    "1. Find all days with sales > 150\n",
    "2. Calculate the average sales for days > 150\n",
    "3. Set sales to 0 for all days < 100"
   ]
  },
  {
   "cell_type": "code",
   "execution_count": null,
   "id": "solution-20",
   "metadata": {},
   "outputs": [],
   "source": [
    "import numpy as np\n",
    "\n",
    "sales = np.random.randint(50, 200, 30)\n",
    "\n",
    "high_sales_days = np.where(sales > 150)[0]\n",
    "print(\"Days with sales > 150:\", high_sales_days)\n",
    "\n",
    "avg_high_sales = np.mean(sales[sales > 150])\n",
    "print(\"Average sales for days > 150:\", avg_high_sales)\n",
    "\n",
    "sales[sales < 100] = 0\n",
    "print(\"Modified sales data:\", sales)"
   ]
  },
  {
   "cell_type": "markdown",
   "id": "exercise-21",
   "metadata": {},
   "source": [
    "## Exercise 21: Broadcasting\n",
    "\n",
    "- Create a 3×3 NumPy array A\n",
    "- Create a 3×1 NumPy array b\n",
    "- Add b to each column of A"
   ]
  },
  {
   "cell_type": "code",
   "execution_count": null,
   "id": "solution-21",
   "metadata": {},
   "outputs": [],
   "source": [
    "import numpy as np\n",
    "\n",
    "A = np.random.randint(1, 10, (3,3))\n",
    "b = np.random.randint(1, 10, (3,1))\n",
    "\n",
    "print(\"Matrix A:\")\n",
    "print(A)\n",
    "print(\"\\nVector b:\")\n",
    "print(b)\n",
    "\n",
    "result = A + b \n",
    "print(\"\\nResult of A + b:\")\n",
    "print(result)"
   ]
  },
  {
   "cell_type": "markdown",
   "id": "exercise-22",
   "metadata": {},
   "source": [
    "## Exercise 22: Array Row Swapping\n",
    "\n",
    "Given a 2D NumPy array G = np.linspace(0,10,20).reshape(-1,4), swap its second and fourth rows"
   ]
  },
  {
   "cell_type": "code",
   "execution_count": null,
   "id": "solution-22",
   "metadata": {},
   "outputs": [],
   "source": [
    "import numpy as np\n",
    "\n",
    "G = np.linspace(0, 10, 20).reshape(-1,4)\n",
    "print(\"Original array:\")\n",
    "print(G)\n",
    "\n",
    "G[[1,3]] = G[[3,1]]\n",
    "print(\"\\nArray after row swap:\")\n",
    "print(G)"
   ]
  },
  {
   "cell_type": "markdown",
   "id": "exercise-23",
   "metadata": {},
   "source": [
    "## Exercise 23: Function Plotting\n",
    "\n",
    "Plot the function f(x) = sin²(x)/x at 200 equally spaced points in [0.1, 2π]"
   ]
  },
  {
   "cell_type": "code",
   "execution_count": null,
   "id": "solution-23",
   "metadata": {},
   "outputs": [],
   "source": [
    "import numpy as np\n",
    "import matplotlib.pyplot as plt\n",
    "\n",
    "x = np.linspace(0.1, 2*np.pi, 200)\n",
    "y = np.sin(x)**2 / x\n",
    "\n",
    "plt.figure(figsize=(8,4))\n",
    "plt.plot(x, y, label=r'$f(x) = \\frac{\\sin^2(x)}{x}$')\n",
    "plt.title('Function Plot')\n",
    "plt.xlabel('x')\n",
    "plt.ylabel('f(x)')\n",
    "plt.grid(True)\n",
    "plt.legend()\n",
    "plt.show()"
   ]
  },
  {
   "cell_type": "markdown",
   "id": "exercise-24",
   "metadata": {},
   "source": [
    "## Exercise 24: Matrix-Vector Multiplication\n",
    "\n",
    "- Create a 4×4 matrix A by reshaping a 1D array of 16 equally spaced values in [0,4]\n",
    "- Create a vector b of 4 random integers in [10,60]\n",
    "- Compute the matrix-vector product A @ b\n",
    "- Compute the same product by vectorizing only the inner loop"
   ]
  },
  {
   "cell_type": "code",
   "execution_count": null,
   "id": "solution-24",
   "metadata": {},
   "outputs": [],
   "source": [
    "import numpy as np\n",
    "\n",
    "A = np.linspace(0, 4, 16).reshape(4,4)\n",
    "b = np.random.randint(10, 61, 4)\n",
    "\n",
    "result1 = A @ b\n",
    "\n",
    "result2 = np.empty(4)\n",
    "for i in range(4):\n",
    "    result2[i] = np.sum(A[i] * b)\n",
    "\n",
    "print(\"Matrix A:\")\n",
    "print(A)\n",
    "print(\"\\nVector b:\", b)\n",
    "print(\"\\nResult (A @ b):\", result1)\n",
    "print(\"Result (vectorized inner loop):\", result2)"
   ]
  },
  {
   "cell_type": "markdown",
   "id": "exercise-25",
   "metadata": {},
   "source": [
    "## Exercise 25: Array Padding\n",
    "\n",
    "Given a 2D NumPy array g, extend it by one row at the top and bottom, and one column at the left and right using reflection padding"
   ]
  },
  {
   "cell_type": "code",
   "execution_count": null,
   "id": "solution-25",
   "metadata": {},
   "outputs": [],
   "source": [
    "import numpy as np\n",
    "\n",
    "g = np.array([[1,2,3],\n",
    "              [4,5,6],\n",
    "              [7,8,9]])\n",
    "\n",
    "g_ext = np.pad(g, (1,1), mode='reflect')\n",
    "\n",
    "print(\"Original array:\")\n",
    "print(g)\n",
    "print(\"\\nExtended array with reflection padding:\")\n",
    "print(g_ext)"
   ]
  },
  {
   "cell_type": "markdown",
   "id": "exercise-26",
   "metadata": {},
   "source": [
    "## Exercise 26: Image Processing with Mean Filter\n",
    "\n",
    "Implement a mean filter for image processing with the following steps:\n",
    "1. Load the 'cameraman.png' image\n",
    "2. Display the original image\n",
    "3. Define filter size\n",
    "4. Apply reflection padding\n",
    "5. Create a mean filter kernel\n",
    "6. Apply the filter to the image\n",
    "7. Display the filtered image"
   ]
  },
  {
   "cell_type": "code",
   "execution_count": null,
   "id": "solution-26",
   "metadata": {},
   "outputs": [],
   "source": [
    "import numpy as np\n",
    "import matplotlib.pyplot as plt\n",
    "import matplotlib.image as mpimg\n",
    "\n",
    "# 1. Load image\n",
    "image = mpimg.imread('img/cameraman.png')\n",
    "if image.ndim == 3:  # If RGB, convert to grayscale\n",
    "    image = np.mean(image, axis=2)\n",
    "\n",
    "# 2. Display original\n",
    "plt.figure(figsize=(10,5))\n",
    "plt.subplot(1,2,1)\n",
    "plt.imshow(image, cmap='gray')\n",
    "plt.title('Original Image')\n",
    "plt.axis('off')\n",
    "\n",
    "# 3. Define filter size\n",
    "filter_size = 3\n",
    "pad_size = filter_size // 2\n",
    "\n",
    "# 4. Apply padding\n",
    "image_padded = np.pad(image, pad_size, mode='reflect')\n",
    "\n",
    "# 5. Create mean filter\n",
    "mean_filter = np.ones((filter_size, filter_size)) / (filter_size**2)\n",
    "\n",
    "# 6. Apply filter\n",
    "image_filtered = np.zeros_like(image)\n",
    "for i in range(image.shape[0]):\n",
    "    for j in range(image.shape[1]):\n",
    "        patch = image_padded[i:i+filter_size, j:j+filter_size]\n",
    "        image_filtered[i,j] = np.sum(patch * mean_filter)\n",
    "\n",
    "# 7. Display filtered image\n",
    "plt.subplot(1,2,2)\n",
    "plt.imshow(image_filtered, cmap='gray')\n",
    "plt.title('Filtered Image')\n",
    "plt.axis('off')\n",
    "plt.colorbar()\n",
    "plt.tight_layout()\n",
    "plt.show()"
   ]
  }
 ],
 "metadata": {
  "kernelspec": {
   "display_name": "Python 3",
   "language": "python",
   "name": "python3"
  },
  "language_info": {
   "codemirror_mode": {
    "name": "ipython",
    "version": 3
   },
   "file_extension": ".py",
   "mimetype": "text/x-python",
   "name": "python",
   "nbconvert_exporter": "python",
   "pygments_lexer": "ipython3",
   "version": "3.13.3"
  }
 },
 "nbformat": 4,
 "nbformat_minor": 5
}
