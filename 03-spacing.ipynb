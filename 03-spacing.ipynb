{
 "cells": [
  {
   "cell_type": "markdown",
   "id": "introduction",
   "metadata": {},
   "source": [
    "# Workshop 3: spacing"
   ]
  },
  {
   "cell_type": "code",
   "execution_count": null,
   "id": "float-info",
   "metadata": {},
   "outputs": [],
   "source": [
    "import sys\n",
    "import numpy as np\n",
    "import matplotlib.pyplot as plt\n",
    "import math\n",
    "\n",
    "# Display float info\n",
    "print(\"System float information:\")\n",
    "print(sys.float_info)"
   ]
  },
  {
   "cell_type": "markdown",
   "id": "exercise-1",
   "metadata": {},
   "source": [
    "## Exercise 1: Floating Point Spacing"
   ]
  },
  {
   "cell_type": "code",
   "execution_count": null,
   "id": "solution-1",
   "metadata": {},
   "outputs": [],
   "source": [
    "x = 2**52\n",
    "y = np.nextafter(x, np.inf)\n",
    "spacing = y - x\n",
    "print(f\"Spacing in [2^52, 2^53]: {spacing}\")\n",
    "\n",
    "print(f\"Next number after 2^52: {y}\")\n",
    "\n",
    "z = x + 0.5\n",
    "print(f\"x + 0.5: {z} (equal to x? {z == x})\")\n",
    "\n",
    "q = y + 0.5\n",
    "print(f\"y + 0.5: {q} (equal to y? {q == y})\")"
   ]
  },
  {
   "cell_type": "markdown",
   "id": "exercise-2",
   "metadata": {},
   "source": [
    "## Exercise 2: Cardinality of Finite Numbers"
   ]
  },
  {
   "cell_type": "code",
   "execution_count": null,
   "id": "solution-2",
   "metadata": {},
   "outputs": [],
   "source": [
    "t = sys.float_info.mant_dig \n",
    "L = sys.float_info.min_exp\n",
    "U = sys.float_info.max_exp\n",
    "\n",
    "cardinality = 2 * (2-1) * 2**(t-1) * (U-L+1) + 1\n",
    "print(f\"Cardinality of finite floating-point numbers: {cardinality:.2e}\")"
   ]
  },
  {
   "cell_type": "markdown",
   "id": "exercise-3",
   "metadata": {},
   "source": [
    "## Exercise 3: Machine Epsilon Verification"
   ]
  },
  {
   "cell_type": "code",
   "execution_count": null,
   "id": "solution-3",
   "metadata": {},
   "outputs": [],
   "source": [
    "eps = sys.float_info.epsilon\n",
    "print(f\"System epsilon: {eps}\")\n",
    "print(f\"2^-52: {2**-52}\")\n",
    "\n",
    "x = eps/2\n",
    "print(f\"1 + eps/2 == 1? {1 + x == 1}\")\n",
    "print(f\"1 + eps != 1? {1 + eps != 1}\")"
   ]
  },
  {
   "cell_type": "markdown",
   "id": "exercise-4",
   "metadata": {},
   "source": [
    "## Exercise 4: Floating Point Associativity"
   ]
  },
  {
   "cell_type": "code",
   "execution_count": null,
   "id": "solution-4",
   "metadata": {},
   "outputs": [],
   "source": [
    "a = 0.1234567890123400e16\n",
    "b = -0.1234567890123401e16\n",
    "c = 0.06\n",
    "\n",
    "print(\"First set:\")\n",
    "print(f\"(a+b)+c = {(a+b)+c}\")\n",
    "print(f\"(a+c)+b = {(a+c)+b}\")\n",
    "print(f\"a+(b+c) = {a+(b+c)}\")\n",
    "\n",
    "a = 0.23371258e-4\n",
    "b = 0.33678429e2\n",
    "c = -0.33677911e2\n",
    "\n",
    "print(\"\\nSecond set:\")\n",
    "print(f\"(a+b)+c = {(a+b)+c}\")\n",
    "print(f\"(a+c)+b = {(a+c)+b}\")\n",
    "print(f\"a+(b+c) = {a+(b+c)}\")"
   ]
  },
  {
   "cell_type": "markdown",
   "id": "exercise-5",
   "metadata": {},
   "source": [
    "## Exercise 5: Summation Methods Comparison"
   ]
  },
  {
   "cell_type": "code",
   "execution_count": null,
   "id": "solution-5",
   "metadata": {},
   "outputs": [],
   "source": [
    "arr = np.full(10, 0.1)\n",
    "\n",
    "sum_loop = 0.0\n",
    "for num in arr:\n",
    "    sum_loop += num\n",
    "\n",
    "sum_np = np.sum(arr)\n",
    "\n",
    "print(f\"For loop sum: {sum_loop}\")\n",
    "print(f\"Numpy sum: {sum_np}\")\n",
    "print(f\"Exact value: {1.0}\")\n",
    "print(f\"For loop error: {abs(sum_loop-1.0)}\")\n",
    "print(f\"Numpy error: {abs(sum_np-1.0)}\")"
   ]
  },
  {
   "cell_type": "markdown",
   "id": "exercise-6",
   "metadata": {},
   "source": [
    "## Exercise 6: Numerically Stable vs Unstable Formulas"
   ]
  },
  {
   "cell_type": "code",
   "execution_count": null,
   "id": "solution-6",
   "metadata": {},
   "outputs": [],
   "source": [
    "def y1(x):\n",
    "    return np.sqrt(x**2 + 1) - x\n",
    "\n",
    "def y2(x):\n",
    "    return 1 / (np.sqrt(x**2 + 1) + x)\n",
    "\n",
    "x_values = [7777, 77777777]\n",
    "\n",
    "for x in x_values:\n",
    "    print(f\"x = {x}\")\n",
    "    print(f\"y1 = {y1(x)}\")\n",
    "    print(f\"y2 = {y2(x)}\")\n",
    "    print()"
   ]
  },
  {
   "cell_type": "markdown",
   "id": "exercise-7",
   "metadata": {},
   "source": [
    "## Exercise 7: Floating Point Error Analysis"
   ]
  },
  {
   "cell_type": "code",
   "execution_count": null,
   "id": "solution-7",
   "metadata": {},
   "outputs": [],
   "source": [
    "x = np.array([10**i for i in range(21)])\n",
    "\n",
    "A = 1/x - 1/(x+1)\n",
    "\n",
    "B = 1/(x*(x+1))\n",
    "\n",
    "rel_error = np.abs(A - B) / np.abs(B)\n",
    "\n",
    "plt.figure(figsize=(10,6))\n",
    "plt.loglog(x, rel_error, 'bo-')\n",
    "plt.xlabel('x')\n",
    "plt.ylabel('Relative Error')\n",
    "plt.title('Floating Point Error Analysis')\n",
    "plt.grid(True)\n",
    "plt.show()"
   ]
  },
  {
   "cell_type": "markdown",
   "id": "exercise-8",
   "metadata": {},
   "source": [
    "## Exercise 8: Approximating Euler's Number"
   ]
  },
  {
   "cell_type": "code",
   "execution_count": null,
   "id": "solution-8",
   "metadata": {},
   "outputs": [],
   "source": [
    "k_values = range(0, 17)\n",
    "n_values = [10**k for k in k_values]\n",
    "\n",
    "approximations = [(1 + 1/n)**n for n in n_values]\n",
    "\n",
    "exact = math.exp(1)\n",
    "\n",
    "errors = [abs(approx - exact)/exact for approx in approximations]\n",
    "\n",
    "plt.figure(figsize=(12,5))\n",
    "\n",
    "plt.subplot(1,2,1)\n",
    "plt.semilogx(n_values, approximations, 'bo-')\n",
    "plt.axhline(y=exact, color='r', linestyle='--')\n",
    "plt.xlabel('n')\n",
    "plt.ylabel('Approximation')\n",
    "plt.title('Approximations of e')\n",
    "plt.grid(True)\n",
    "\n",
    "plt.subplot(1,2,2)\n",
    "plt.loglog(n_values, errors, 'ro-')\n",
    "plt.xlabel('n')\n",
    "plt.ylabel('Relative Error')\n",
    "plt.title('Approximation Errors')\n",
    "plt.grid(True)\n",
    "\n",
    "plt.tight_layout()\n",
    "plt.show()"
   ]
  }
 ],
 "metadata": {
  "kernelspec": {
   "display_name": "Python 3",
   "language": "python",
   "name": "python3"
  },
  "language_info": {
   "codemirror_mode": {
    "name": "ipython",
    "version": 3
   },
   "file_extension": ".py",
   "mimetype": "text/x-python",
   "name": "python",
   "nbconvert_exporter": "python",
   "pygments_lexer": "ipython3",
   "version": "3.13.3"
  }
 },
 "nbformat": 4,
 "nbformat_minor": 5
}
