{
 "cells": [
  {
   "cell_type": "markdown",
   "id": "ae8420c8-346b-425b-bf7e-ecabbd4a067e",
   "metadata": {},
   "source": [
    "## Workshop 0: Introduction"
   ]
  },
  {
   "cell_type": "markdown",
   "id": "2dbec7a5-a12e-4693-ab65-a8fd067ff356",
   "metadata": {},
   "source": [
    "## Lists\n",
    "- Write a function that takes a list of numbers and returns a new list containing only the even numbers.      \n",
    "- Create a function that reverses the order of the elements in a list (without using `reverse()` or slicing).     \n",
    "- Write a program that finds the largest and smallest value in a list.        "
   ]
  },
  {
   "cell_type": "code",
   "execution_count": null,
   "id": "5eb3a8bc",
   "metadata": {},
   "outputs": [],
   "source": [
    "def reverse(list):\n",
    "    '''\n",
    "    Function that reverses the order of a list\n",
    "    '''\n",
    "    inverted = []\n",
    "    for item in list:\n",
    "        inverted.insert(0, item)\n",
    "\n",
    "    return inverted\n",
    "\n",
    "def max(list):\n",
    "    '''\n",
    "    Function that finds the maximum\n",
    "    '''\n",
    "    if not list: \n",
    "        return None\n",
    "    value = list[0]\n",
    "    for item in list:\n",
    "        if item > value:\n",
    "            value = item\n",
    "    \n",
    "    return value\n",
    "\n",
    "def min(list):\n",
    "    '''\n",
    "    Function that finds the minimum\n",
    "    '''\n",
    "    if not list: \n",
    "        return None\n",
    "    value = list[0]\n",
    "    for item in list:\n",
    "        if item < value:\n",
    "            value = item\n",
    "    \n",
    "    return value\n",
    "\n",
    "help(reverse), help(max), help(min)\n",
    "l = list(range(-10, 20, 2))\n",
    "print(\"Reverse:\", reverse(l), \"\\nMax:\", max(l), \"\\nMin:\", min(l))"
   ]
  },
  {
   "cell_type": "markdown",
   "id": "1af6bcd2-4c2a-4c67-ae77-c1559b9e3c76",
   "metadata": {},
   "source": [
    "## Strings\n",
    "- Write a function that counts the number of vowels in a string.\n",
    "- Create a function that checks if a string is a palindrome (reads the same forwards and backwards).\n",
    "- Write a program that converts a string to uppercase or lowercase (based on user choice)."
   ]
  },
  {
   "cell_type": "code",
   "execution_count": null,
   "id": "83452012",
   "metadata": {},
   "outputs": [],
   "source": [
    "def countVowels(string):\n",
    "    '''\n",
    "    Count a the numbr of a vowels in a string\n",
    "    '''\n",
    "    vowels = \"aeiouAEIOU\"\n",
    "    count = 0\n",
    "    for char in string:\n",
    "        if char in vowels:\n",
    "            count += 1\n",
    "\n",
    "    return count\n",
    "\n",
    "def palindrome(string):\n",
    "    '''\n",
    "    Check if a string is palindrome\n",
    "    '''\n",
    "    return string == string[::-1]\n",
    "\n",
    "def upperOrLower(string):\n",
    "    '''\n",
    "    Convert a string to upper or lower case based on user input\n",
    "    '''\n",
    "    choice = input(\"Would you like to convert to upper case (U) or lower case (L)? \").strip().upper()\n",
    "    if choice == 'U':\n",
    "        return string.upper()\n",
    "    elif choice == 'L':\n",
    "        return string.lower()\n",
    "    else:\n",
    "        return \"Invalid choice.\"\n",
    "\n",
    "str_example = \"oro\"\n",
    "print(\"Number of vowels:\", countVowels(str_example))    # Output: 3\n",
    "print(\"Is palindrome:\", palindrome(str_example))        # Output: True\n",
    "print(\"Converted string:\", upperOrLower(str_example))   # Output: \"oro\" or \"ORO\" based on user input"
   ]
  },
  {
   "cell_type": "markdown",
   "id": "c9b84acc-0820-455c-8ca5-3208908ff49a",
   "metadata": {},
   "source": [
    "## Dictionaries:\n",
    "- Create a dictionary that contains some Italian words and their translations in English. Write a program that asks the user for an Italian word and returns its English translation, or a message if the word is not present in the dictionary.\n",
    "- Write a function that takes a dictionary and a key as input, and returns True if the key is present in the dictionary, False otherwise."
   ]
  },
  {
   "cell_type": "code",
   "execution_count": null,
   "id": "b6be5779",
   "metadata": {},
   "outputs": [],
   "source": [
    "dictionaries = { \"banana\":\"banana\", \"mela\":\"apple\", \"telefono\":\"phone\" }\n",
    "\n",
    "def translate():\n",
    "    '''\n",
    "    return English translation\n",
    "    '''\n",
    "    return dictionaries.get(input(\"WORLD?\"))\n",
    "\n",
    "def check():\n",
    "    '''\n",
    "    Check if a key and value are contained in the dictionary.\n",
    "    '''\n",
    "    key = input(\"KEY? \")\n",
    "    value = input(\"VALUE? \")\n",
    "    \n",
    "    if key in dictionaries and dictionaries[key] == value:\n",
    "        return True\n",
    "    \n",
    "    return False \n",
    "\n",
    "translate()\n",
    "check()"
   ]
  },
  {
   "cell_type": "markdown",
   "id": "c1dd66ca-a61e-41b9-b6a7-b6b49387bac4",
   "metadata": {},
   "source": [
    "## For Loops:\n",
    "- Write a program that prints the numbers from 1 to 10 using a for loop.\n",
    "- Create a function that calculates the sum of the numbers in a list using a for loop.\n",
    "- Write a program that prints a multiplication table (for example, from 1 to 10) using nested for loops."
   ]
  },
  {
   "cell_type": "code",
   "execution_count": null,
   "id": "3adbfb0c",
   "metadata": {},
   "outputs": [],
   "source": [
    "def sum(list):\n",
    "    '''\n",
    "    Calculates the sum of the number in a list\n",
    "    '''\n",
    "    value = 0\n",
    "    for item in list:\n",
    "        value += item\n",
    "    return value\n",
    "\n",
    "for x in range(1, 10 + 1):\n",
    "    print(x)\n",
    "\n",
    "print(sum(list(range(0, 10))))\n",
    "\n",
    "for x in range(1, 11):\n",
    "    for y in range(1, 11):\n",
    "        print(\"{:3d}\".format(x * y), end=\" \")\n",
    "    print()"
   ]
  },
  {
   "cell_type": "markdown",
   "id": "9ac6c2c6-431c-45f9-8962-8e4301422c46",
   "metadata": {},
   "source": [
    "## While Loops:\n",
    "- Create a function that calculates the factorial of a number using a while loop.\n",
    "- Write a program that prints the even numbers from 0 to 100 using a while loop."
   ]
  },
  {
   "cell_type": "code",
   "execution_count": null,
   "id": "eadf16be",
   "metadata": {},
   "outputs": [],
   "source": [
    "def factorial(input):\n",
    "    '''\n",
    "    Calculate the factoral of a number \n",
    "    '''\n",
    "    value = 1\n",
    "    index = 1\n",
    "    while index <= input:\n",
    "        value *= index \n",
    "        index += 1\n",
    "    \n",
    "    return value\n",
    "\n",
    "def even(stop):\n",
    "    '''\n",
    "    Print even number from 0 to stop\n",
    "    '''\n",
    "    start = 0\n",
    "    l = []\n",
    "    while start <= stop:\n",
    "        l.append(start)\n",
    "        start += 2\n",
    "    \n",
    "    return  l\n",
    "\n",
    "\n",
    "print(factorial(5))\n",
    "print(even(100))\n"
   ]
  },
  {
   "cell_type": "markdown",
   "id": "0af7c6c7-68c3-448a-a297-76fa2875130a",
   "metadata": {},
   "source": [
    "## List Comprehension:\n",
    "- Use a list comprehension to create a new list containing the squares of the numbers from 1 to 10.\n",
    "- Use a list comprehension to filter a list of strings and obtain only those that start with a specific letter.\n",
    "- Use a list comprehension to create a dictionary where the keys are the numbers from 1 to 5 and the values are their squares."
   ]
  },
  {
   "cell_type": "code",
   "execution_count": null,
   "id": "75a488f5",
   "metadata": {},
   "outputs": [],
   "source": [
    "square = [x**2 for x in range(1, 11)]\n",
    "print(square)\n",
    "\n",
    "filter = [s for s in [\"apple\", \"banana\", \"avocado\", \"cherry\", \"apricot\", \"blueberry\"] if s.startswith(\"a\") ]\n",
    "print(filter)\n",
    "\n",
    "squares_dict = {x: x**2 for x in range(1, 6)}\n",
    "print(squares_dict)"
   ]
  },
  {
   "cell_type": "markdown",
   "id": "4866ecae-6286-4d11-97ed-dccc4a6ef325",
   "metadata": {},
   "source": [
    "## If, Else, Elif:\n",
    "- Write a function that determines if a number is positive, negative, or zero.\n",
    "- Write a program that calculates the price of a movie ticket based on age."
   ]
  },
  {
   "cell_type": "code",
   "execution_count": null,
   "id": "b65967d6",
   "metadata": {},
   "outputs": [],
   "source": [
    "def sign(input):\n",
    "    '''\n",
    "    Determinate the sign of the input number\n",
    "    '''\n",
    "    if input > 0:\n",
    "        return 1\n",
    "    elif input == 0:\n",
    "        return 0\n",
    "    return -1\n",
    "\n",
    "print(\"NEG:\", sign(-1), \"ZERO:\", sign(0), \"POS:\", sign(1))"
   ]
  },
  {
   "cell_type": "markdown",
   "id": "840b7e68-db5a-4919-bfce-54ad348ce17d",
   "metadata": {},
   "source": [
    "## Matchcase\n",
    "- Write a function that takes an integer input between 0 and 5 and returns its representation in words (zero, one, two, three, four, five). Use match/case to implement the logic."
   ]
  },
  {
   "cell_type": "code",
   "execution_count": null,
   "id": "bd12c601",
   "metadata": {},
   "outputs": [],
   "source": [
    "def checkNumber(value):\n",
    "    '''\n",
    "    input between 0 and 5 and return its rappresentation in words \n",
    "    '''\n",
    "    match value:\n",
    "        case 0:\n",
    "            return \"zero\"\n",
    "        case 1:\n",
    "            return \"one\"\n",
    "        case 2:\n",
    "            return \"two\"\n",
    "        case 3:\n",
    "            return \"three\"\n",
    "        case 4:\n",
    "            return \"four\"\n",
    "        case 5:\n",
    "            return \"five\"\n",
    "        case _:\n",
    "            return \"error not in [0, 5]\"\n",
    "        \n",
    "print(checkNumber(value = int(input(\"insert a number between 0, 5\"))))"
   ]
  }
 ],
 "metadata": {
  "kernelspec": {
   "display_name": "Python 3",
   "language": "python",
   "name": "python3"
  },
  "language_info": {
   "codemirror_mode": {
    "name": "ipython",
    "version": 3
   },
   "file_extension": ".py",
   "mimetype": "text/x-python",
   "name": "python",
   "nbconvert_exporter": "python",
   "pygments_lexer": "ipython3",
   "version": "3.13.3"
  }
 },
 "nbformat": 4,
 "nbformat_minor": 5
}
