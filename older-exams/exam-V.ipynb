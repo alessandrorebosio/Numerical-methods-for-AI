{
 "cells": [
  {
   "cell_type": "markdown",
   "id": "73aa0225-b2dd-4e47-8ded-3a61037a72c4",
   "metadata": {},
   "source": [
    "# Exam 04/07/2025"
   ]
  },
  {
   "cell_type": "markdown",
   "id": "18395123-3e72-4667-9f4c-5c98ddd3412d",
   "metadata": {},
   "source": [
    "# Excercise 1\n",
    "\n",
    "Si considerino i due sistemi lineari:\n",
    "\n",
    "    A  x = b \n",
    "    A1 x1 = b1\n",
    "\n",
    "dove A, A1 sono le matrici dei coefficienti, b e b1 sono i termini noti, ed x ed x1 sono i vettori incogniti da determinare. I dati di questi due sistemi lineari sono contenuti nel file **matrix-V.mat**.\n",
    " - Si risolva ciascuno dei sistemi lineari assegnati  utilizzando il metodo più adatto in base alle caratteristiche della matrice dei coefficienti, giustificando teoricamente le scelte effettuate. **punti 6**\n",
    "\n",
    "Per il sistema A1 x1= b1, , aggiungere una perturbazione dello 0.1% sulla componente 1-esima del termine noto, e risolvere il sistema con termine noto perturbato. Calcolare quindi l'errore relativo sulla soluzione e l'errore relativo sui dati e giustificare i risultati alla luce della teoria. **punti 2**"
   ]
  },
  {
   "cell_type": "code",
   "execution_count": 237,
   "id": "eeab3a11",
   "metadata": {},
   "outputs": [],
   "source": [
    "from SolveTriangular import *\n",
    "import scipy\n",
    "\n",
    "def metodo_gaus(A, b):\n",
    "    PT, L, U = scipy.linalg.lu(A)\n",
    "    P = PT.T\n",
    "    y, flag = Lsolve(L, P @ b)\n",
    "    if not flag:\n",
    "        x = Usolve(U, y)\n",
    "    \n",
    "    return x\n",
    "\n",
    "def SVDLS(A, b):\n",
    "    m, n = A.shape\n",
    "    U, s, VT = scipy.linalg.svd(A)\n",
    "\n",
    "    V = VT.T\n",
    "\n",
    "    thresh = np.spacing(1) * m * s[0]\n",
    "    k = np.count_nonzero(s > thresh)\n",
    "    print(\"rango =\", k)\n",
    "\n",
    "    d = U.T @ b\n",
    "    d1 = d[:k].reshape(k, 1)\n",
    "    s1 = s[:k].reshape(k, 1)\n",
    "\n",
    "    c = d1 / s1\n",
    "    x = V[:, :k] @ c\n",
    "\n",
    "    return x, np.linalg.norm(d[k:]) ** 2"
   ]
  },
  {
   "cell_type": "code",
   "execution_count": 238,
   "id": "f2fdb315",
   "metadata": {},
   "outputs": [
    {
     "name": "stdout",
     "output_type": "stream",
     "text": [
      "[A] quadratica? True\n",
      "[A] simmetrica? True\n",
      "[A] def. positiva? True\n",
      "[A] sparsa? False\n",
      "[A] dimensione: (10, 10)\n",
      "[A] rango massimo? True\n",
      "[A] condizionamento: 12.81454459956794 \n",
      "\n",
      "[A] soluzione: [1. 1. 1. 1. 1. 1. 1. 1. 1. 1.] \n",
      "\n",
      "[A1] quadratica? False\n",
      "[A1] sparsa? False\n",
      "[A1] dimensione: (20, 15)\n",
      "[A1] rango: 13\n",
      "[A1] condizionamento: 1.5940716803849085e+17 \n",
      "\n",
      "rango = 13\n",
      "rango = 13\n",
      "Errore relativo sulla soluzione (perturbata): 0.002306878675159038\n",
      "Errore relativo sui dati: 0.00025999894214178917\n"
     ]
    }
   ],
   "source": [
    "from scipy.io import loadmat\n",
    "import matplotlib.pylab as plt\n",
    "import numpy as np\n",
    "\n",
    "dati = loadmat(\"./mat/matrix-V.mat\")\n",
    "A = dati[\"A\"].astype(float)\n",
    "b = dati[\"b\"].astype(float)\n",
    "\n",
    "A1 = dati[\"A1\"].astype(float)\n",
    "b1 = dati[\"b1\"].astype(float)\n",
    "\n",
    "\n",
    "def isQuadratic(A):\n",
    "    return A.shape[0] == A.shape[1]\n",
    "\n",
    "\n",
    "def isSymmetric(A):\n",
    "    return np.allclose(A, A.T)\n",
    "\n",
    "\n",
    "def isPositive(A):\n",
    "    return np.all(np.linalg.eigvals(A) > 0)\n",
    "\n",
    "\n",
    "def isSparse(A):\n",
    "    return np.count_nonzero(A) < A.size * 0.33\n",
    "\n",
    "\n",
    "def rank(A, b):\n",
    "    return np.linalg.matrix_rank(A) == np.linalg.matrix_rank(np.hstack([A, b]))\n",
    "\n",
    "\n",
    "print(\"[A] quadratica?\", isQuadratic(A))\n",
    "print(\"[A] simmetrica?\", isSymmetric(A))\n",
    "print(\"[A] def. positiva?\", isPositive(A))\n",
    "print(\"[A] sparsa?\", isSparse(A))\n",
    "print(\"[A] dimensione:\", A.shape)\n",
    "print(\"[A] rango massimo?\", rank(A, b))\n",
    "print(\"[A] condizionamento:\", np.linalg.cond(A), \"\\n\")\n",
    "\n",
    "# la prima matrice [A], è ben condizionata non grande ed è quadratica, simmetrica e positiva\n",
    "# possiamo usare i metodi di fattorizzazione, quello più opportuno è la fattorizzazione di Gauss\n",
    "x, _ = metodo_gaus(A, b)\n",
    "\n",
    "print(\"[A] soluzione:\", x.flatten(), \"\\n\")\n",
    "\n",
    "print(\"[A1] quadratica?\", isQuadratic(A1))\n",
    "print(\"[A1] sparsa?\", isSparse(A1))\n",
    "print(\"[A1] dimensione:\", A1.shape)\n",
    "print(\"[A1] rango:\", np.linalg.matrix_rank(A1))\n",
    "print(\"[A1] condizionamento:\", np.linalg.cond(A1), \"\\n\")\n",
    "\n",
    "# invece per la seconda matrice [A1], abbiamo una matrice non quadrata, quindi dobbiamo usare\n",
    "# i metodi risolutivi per i metodo sovradimensionati, essendo poi mal condizionata e non avendo\n",
    "# rango massimo andrò ad utilizzare il metodo SVDLS.\n",
    "x_sv, re_sv = SVDLS(A1, b1)\n",
    "\n",
    "# Perturbazione 0.1% sulla prima componente di b1\n",
    "b1_perturb = b1.copy()\n",
    "b1_perturb[0] = b1_perturb[0] * 1.001  # +0.1%\n",
    "\n",
    "x_p_sv, re_p_sv = SVDLS(A1, b1_perturb)\n",
    "\n",
    "# Calcolo errori relativi\n",
    "err_sol_rel = np.linalg.norm(x_p_sv.flatten() - x_sv.flatten()) / np.linalg.norm(x_sv.flatten())\n",
    "err_data_rel = np.linalg.norm(b1_perturb - b1) / np.linalg.norm(b1)\n",
    "\n",
    "print(\"Errore relativo sulla soluzione (perturbata):\", err_sol_rel)\n",
    "print(\"Errore relativo sui dati:\", err_data_rel)\n",
    "\n",
    "# poiche A1 è mal condizionata, anche piccole peturbazoni nel vettore dei termini noti, possono provocare variazioni\n",
    "# amplificate sulla soluzione. Il problema, numerico risulta sensibile e instabile, la soluzione non è robusta\n",
    "# rispetto a piccoli errori o rumore nei dati"
   ]
  },
  {
   "cell_type": "markdown",
   "id": "83625f69-f268-4b7b-a57e-800d00f4057e",
   "metadata": {},
   "source": [
    "Dato il sistema lineare A2 x2 = b2, dove \n",
    "\n",
    "    A2 = np.array([[8.0, 0, 1, 1], [0, 0.8, 1, 0], [1, 1, 2, 0], [1, 0, 0.0, 2.0]])\n",
    "    b2 = np.array([10.0, 1.8, 4.0, 3.0])\n",
    "\n",
    "- Verificare senza calcolare il raggio spettrale della matrice di iterazione che il metodo di Gauss-Seidel converge, richiamando il teorema che garantisce la convergenza di Gauss-Seidel per classi particolari di \n",
    "matrici **punti[1]**.\n",
    "- Implementare il metodo di Gauss-Seidel e risolvere il sistema lineare A2 x2 = b2  **punti[3]**.\n",
    "\n",
    "Totale **Punti 12**"
   ]
  },
  {
   "cell_type": "code",
   "execution_count": 239,
   "id": "a3aab312",
   "metadata": {},
   "outputs": [],
   "source": [
    "import numpy as np\n",
    "\n",
    "\n",
    "def Lsolve(L, b):\n",
    "    m, n = L.shape\n",
    "    if n != m:\n",
    "        print(\"errore: matrice non quadrata\")\n",
    "        return [], 1\n",
    "\n",
    "    if np.any(np.diag(L) == 0):\n",
    "        print(\"el. diag. nullo - matrice triangolare inferiore\")\n",
    "        return [], 1\n",
    "\n",
    "    # Ensure b is a column vector\n",
    "    if b.ndim == 1:\n",
    "        b = b.reshape(-1, 1)\n",
    "    elif b.ndim == 2 and b.shape[1] != 1:\n",
    "        b = b.reshape(-1, 1)\n",
    "\n",
    "    x = np.zeros((n, 1))\n",
    "    for i in range(n):\n",
    "        s = np.dot(L[i, :i], x[:i])\n",
    "        x[i] = (b[i, 0] - s) / L[i, i]\n",
    "\n",
    "    return x, 0\n",
    "\n",
    "\n",
    "def gauss_seidel(A, b, x0, max_it=100, toll=1e-12):\n",
    "    if b.ndim == 1:\n",
    "        b = b.reshape(-1, 1)\n",
    "\n",
    "    errore = 1000\n",
    "    d = np.diag(A)\n",
    "    D = np.diag(d)\n",
    "    E = np.tril(A, -1)\n",
    "    F = np.triu(A, 1)\n",
    "    M = D + E\n",
    "    N = -F\n",
    "    invM = np.linalg.inv(M)\n",
    "    T = invM @ N\n",
    "    autovalori = np.linalg.eigvals(T)\n",
    "    raggiospettrale = np.max(np.abs(autovalori))\n",
    "    print(\"raggio spettrale Gauss-Seidel \", raggiospettrale)\n",
    "\n",
    "    er = []\n",
    "    while len(er) <= max_it and errore >= toll:\n",
    "        x, flag = Lsolve(M, b - F @ x0)\n",
    "        if flag == 1:  # Error in Lsolve\n",
    "            break\n",
    "        errore = np.linalg.norm(x - x0) / np.linalg.norm(x)\n",
    "        er.append(errore)\n",
    "        x0 = x.copy()\n",
    "\n",
    "    return x, er, len(er)"
   ]
  },
  {
   "cell_type": "code",
   "execution_count": null,
   "id": "552cd463",
   "metadata": {},
   "outputs": [
    {
     "name": "stdout",
     "output_type": "stream",
     "text": [
      "[A2] è quadratica? True\n",
      "[A2] è simmetrica? True\n",
      "[A2] è postivia? True\n",
      "[A2] è dimensione? dimensione = (4, 4)\n",
      "[A2] è sparsa? False\n",
      "[A2] è conizionamento? 41.85857755643042\n",
      "[A2] ha rango massimo? True\n",
      "\n",
      "raggio spettrale Gauss-Seidel  0.6936887195995491\n",
      "[A2] iterazioni Gauss- Seidel 74\n",
      "\n",
      "Errore relativo 1.98854739194129e-12\n",
      "Soluzione esatta: [1. 1. 1. 1.]\n",
      "Soluzione Gauss-Seidel: [1. 1. 1. 1.]\n"
     ]
    }
   ],
   "source": [
    "import numpy as np\n",
    "\n",
    "A2 = np.array([[8.0, 0, 1, 1], [0, 0.8, 1, 0], [1, 1, 2, 0], [1, 0, 0.0, 2.0]])\n",
    "b2 = np.array([10.0, 1.8, 4.0, 3.0])\n",
    "\n",
    "# andrò a fare le stesse verifiche fatte sopra\n",
    "print(\"[A2] è quadratica?\", isQuadratic(A2))\n",
    "print(\"[A2] è simmetrica?\", isSymmetric(A2))\n",
    "print(\"[A2] è postivia?\", isPositive(A2))\n",
    "print(\"[A2] è dimensione? dimensione =\", A2.shape)\n",
    "print(\"[A2] è sparsa?\", isSparse(A2))\n",
    "print(\"[A2] è conizionamento?\", np.linalg.cond(A2))\n",
    "print(\"[A2] ha rango massimo?\", rank(A, b))\n",
    "\n",
    "print(\"\")\n",
    "\n",
    "# su questo sistema possimo applicare il metodo di gauss-seidel e converge, perche da teorema\n",
    "# la matrice A è definita positiva e simmetrica\n",
    "x0 = np.zeros((b2.size, 1))\n",
    "x_gs, xk_gs, it_gs = gauss_seidel(A2, b2, x0)\n",
    "\n",
    "print(\"[A2] iterazioni Gauss- Seidel\", it_gs, \"\\n\")\n",
    "\n",
    "# soluzione giusta\n",
    "x_exact = np.linalg.solve(A2, b2)\n",
    "\n",
    "print(\"Errore relativo\", np.linalg.norm(x_gs.flatten() - x_exact) / np.linalg.norm(x_exact))\n",
    "print(\"Soluzione esatta:\", x_exact)\n",
    "print(\"Soluzione Gauss-Seidel:\", x_gs.flatten())"
   ]
  },
  {
   "cell_type": "markdown",
   "id": "26e0b8fe-c204-4a42-9bbf-0b338fbdcf8c",
   "metadata": {},
   "source": [
    "# Excercise 2\n",
    "\n",
    "Per ogni $k \\in N$ l'equazione di II grado $x^2+(4^{2k}-2^{-2k})x-4^{2k}2^{-2k}=0 $ ha come soluzioni esatte $x_1=-4^{2k}$,$x_2=2^{-2k}$,\n",
    "\n",
    "Scrivere lo script python in cui\n",
    "- si implementa la formula risolutiva delle equazioni di II grado per calcolare le  due soluzioni per $k$ che  assume valori interi tra 4 e 12;  [**Punti 2**]\n",
    "- per entrambe le soluzioni, si calcola l'errore relativo commesso al variare di k che assume valori interi tra 4 e 12;   [**Punti 1**]\n",
    "- si rappresentano in un grafico gli andamenti dei due errori relativi calcolati nel punto precedente; [**Punti 1**]\n",
    "- osservando i grafici ottenuti, si dica se le formule utilizzate per calcolare le due soluzioni hanno dato luogo ad algoritmi stabili, motivando opportunamente la risposta alla luce della teoria.   [**Punti 4**]\n",
    "- proporre ed implementare un algoritmo alternativo stabile per il calcolo della soluzione per cui la formula risolutiva classica si è dimostrata non essere stabile. [**Punti 2**]\n",
    "- Ricavavare la formula che quantifica l'indice di condizionamento del problema di valutare una funzione $f:R \\rightarrow R$ in un punto $x \\in R$ [**punti 3**]"
   ]
  },
  {
   "cell_type": "code",
   "execution_count": 241,
   "id": "d7c0932f",
   "metadata": {},
   "outputs": [
    {
     "data": {
      "image/png": "[encoded data removed]",
      "text/plain": [
       "<Figure size 640x480 with 1 Axes>"
      ]
     },
     "metadata": {},
     "output_type": "display_data"
    },
    {
     "name": "stdout",
     "output_type": "stream",
     "text": [
      "Errori relativi (classici): [np.float64(16777217.0), np.float64(1073741825.0), np.float64(68719476737.0), np.float64(4398046511105.0), np.float64(281474976710657.0), np.float64(1.8014398509481984e+16), np.float64(1.152921504606847e+18), np.float64(7.378697629483821e+19), np.float64(4.722366482869645e+21)]\n",
      "Errori relativi (stabili): [np.float64(0.0), np.float64(0.0), np.float64(0.0), np.float64(0.0), np.float64(0.0), np.float64(0.0), np.float64(0.0), np.float64(0.0), np.float64(0.0)]\n"
     ]
    },
    {
     "data": {
      "image/png": "[encoded data removed]",
      "text/plain": [
       "<Figure size 640x480 with 1 Axes>"
      ]
     },
     "metadata": {},
     "output_type": "display_data"
    }
   ],
   "source": [
    "import numpy as np\n",
    "import matplotlib.pyplot as plt\n",
    "\n",
    "k_values = np.arange(4, 13)\n",
    "err_rel_x1 = []\n",
    "err_rel_x2 = []\n",
    "\n",
    "for k in k_values:\n",
    "    a = 1\n",
    "    b = 4.0 ** (2 * k) - 2.0 ** (-2 * k)\n",
    "    c = -(4.0 ** (2 * k)) * 2.0 ** (-2 * k)\n",
    "\n",
    "    delta = b**2 - 4 * a * c\n",
    "    sqrt_delta = np.sqrt(delta)\n",
    "\n",
    "    x1 = (-b + sqrt_delta) / (2 * a)\n",
    "    x2 = (-b - sqrt_delta) / (2 * a)\n",
    "\n",
    "    x1_exact = -(4 ** (2 * k))\n",
    "    x2_exact = 2.0 ** (-2 * k)\n",
    "\n",
    "    # Errori relativi\n",
    "    err_rel_x1.append(abs(x1 - x1_exact) / abs(x1_exact))\n",
    "    err_rel_x2.append(abs(x2 - x2_exact) / abs(x2_exact))\n",
    "\n",
    "plt.semilogy(k_values, err_rel_x1, \"o-\", label=\"Errore relativo x1\")\n",
    "plt.semilogy(k_values, err_rel_x2, \"s-\", label=\"Errore relativo x2\")\n",
    "plt.xlabel(\"k\")\n",
    "plt.ylabel(\"Errore relativo (scala log)\")\n",
    "plt.title(\"Errore relativo vs k\")\n",
    "plt.grid(True)\n",
    "plt.legend()\n",
    "plt.show()\n",
    "\n",
    "# si nota che x1 è stabile invece x2 è instabile per k grandi, l'errore cresce rapidamente\n",
    "err_rel_x2_alt = []\n",
    "for k in k_values:\n",
    "    a = 1\n",
    "    b = 4.0 ** (2 * k) - 2.0 ** (-2 * k)\n",
    "    c = -(4.0 ** (2 * k)) * 2.0 ** (-2 * k)\n",
    "\n",
    "    delta = b**2 - 4 * a * c\n",
    "    sqrt_delta = np.sqrt(delta)\n",
    "\n",
    "    # Formula stabile: calcolo prima la radice \"grande\", poi uso c/(a*x) per la piccola\n",
    "    x1_stabile = (-b - sqrt_delta) / (2 * a)  # Radice grande (x1 ≈ -4^{2k})\n",
    "    x2_stabile = c / (a * x1_stabile)  # Radice piccola (x2 ≈ 2^{-2k})\n",
    "\n",
    "    x2_exact = 2.0 ** (-2 * k)\n",
    "    err_rel_x2_alt.append(abs(x2_stabile - x2_exact) / abs(x2_exact))\n",
    "\n",
    "print(\"Errori relativi (classici):\", err_rel_x2)\n",
    "print(\"Errori relativi (stabili):\", err_rel_x2_alt)\n",
    "\n",
    "plt.semilogy(k_values, err_rel_x2, 's-', label='x2 instabile (classico)')\n",
    "plt.semilogy(k_values, err_rel_x2_alt, 'x-', label='x2 stabile (alternativo)')\n",
    "plt.xlabel(\"k\")\n",
    "plt.ylabel(\"Errore relativo\")\n",
    "plt.title(\"Confronto tra formule per x2\")\n",
    "plt.grid(True)\n",
    "plt.legend()\n",
    "plt.show()\n",
    "\n",
    "# se f(x) è una funzione differenziabile in x, l'indice di condizionamento K(x) per il problema di valutare f(x)\n",
    "# è dato da:\n",
    "\n",
    "# k(x) = | (x * f'(x)) / f(x) |\n",
    "\n",
    "# misura quando una piccola variazione realtiva di x si riflette in una variazione relativa di f(x).\n",
    "# k(x) > 1 mal condizionato\n",
    "# k(x) < 1 ben condizionato\n"
   ]
  },
  {
   "cell_type": "markdown",
   "id": "b1e3945c-db1a-4b49-b80b-cc12c5330e68",
   "metadata": {},
   "source": [
    "# Domande Intelligenza Artificiale\n",
    "**NB: Ogni risposta esatta:  +0.5 punti, ogni risposta errata: -0.5 punti. La mancanza di risposta:  0 punti**"
   ]
  },
  {
   "cell_type": "markdown",
   "id": "aa9e415e-dc1f-42b0-aa27-cb4a046582c5",
   "metadata": {},
   "source": [
    "Domande a risposta multipla"
   ]
  },
  {
   "cell_type": "markdown",
   "id": "b5e2df13-7d65-4214-9195-fc5942a98a21",
   "metadata": {},
   "source": [
    "**1.** Quale delle seguenti affermazioni è FALSA riguardo alle reti MLP (Multilayer Perceptron)?\n",
    " - Le reti MLP sono composte da uno o più strati nascosti di neuroni.\n",
    " - Le reti MLP utilizzano una funzione di attivazione non lineare per introdurre una non linearità nel modello.\n",
    " - Le reti MLP sono in grado di apprendere solo relazioni lineari tra i dati di input e output.\n",
    " - Le reti MLP possono essere utilizzate per risolvere una vasta gamma di problemi di apprendimento automatico, tra cui la classificazione e la regressione."
   ]
  },
  {
   "cell_type": "code",
   "execution_count": 242,
   "id": "0482d176",
   "metadata": {},
   "outputs": [],
   "source": [
    "# Risposta: PUNTO [**3**]"
   ]
  },
  {
   "cell_type": "markdown",
   "id": "5474e22e-e367-4289-8a1c-ed104eb111c6",
   "metadata": {},
   "source": [
    "**2.** Quale delle seguenti affermazioni è la definizione CORRETTA di learning rate nel training di una rete neurale?\n",
    " - Il numero di volte in cui l'intero set di dati viene utilizzato durante il training.\n",
    " - Un parametro che controlla la velocità con cui i pesi della rete vengono aggiornati durante il training.\n",
    " - Il numero di neuroni presenti nello strato di output della rete.\n",
    " - La funzione di attivazione utilizzata dai neuroni della rete.ressione"
   ]
  },
  {
   "cell_type": "code",
   "execution_count": 243,
   "id": "a3384a3e",
   "metadata": {},
   "outputs": [],
   "source": [
    "# Risposta: PUNTO [**2**]"
   ]
  },
  {
   "cell_type": "markdown",
   "id": "328706ff-0d3c-4b99-97f3-d2eea5158c0c",
   "metadata": {},
   "source": [
    "**3.** Quale tra le seguenti affermazioni descrive meglio il compito della funzione di attivazione nel training di una rete neurale?\n",
    " - Trasformare i dati di input in un formato compatibile con la rete neurale\n",
    " - Introdurre una non linearità nel flusso di informazioni della rete\n",
    " - Calcolare l'errore tra l'output previsto e quello effettivo\n",
    " - Aggiornare i pesi delle connessioni tra i neuroni softmax"
   ]
  },
  {
   "cell_type": "code",
   "execution_count": 244,
   "id": "07ac2a48",
   "metadata": {},
   "outputs": [],
   "source": [
    "# Risposta: PUNTO [**2**]"
   ]
  },
  {
   "cell_type": "markdown",
   "id": "248323f7-7a5a-478b-b446-71db7d2ff490",
   "metadata": {},
   "source": [
    "**4.** Quale delle seguenti definizioni descrive meglio un'epoca nel training di una rete neurale?\n",
    "- Il numero di volte in cui viene aggiornato un singolo peso nella rete\n",
    "- Il tempo impiegato per completare un ciclo di forward pass e backward propagation\n",
    "- Il numero di volte in cui l'intero set di dati di training viene esposto alla rete\n",
    "- Una misura della complessità del modello di rete neurale"
   ]
  },
  {
   "cell_type": "code",
   "execution_count": 245,
   "id": "7db77327",
   "metadata": {},
   "outputs": [],
   "source": [
    "# Risposta: PUNTO [**4**]"
   ]
  },
  {
   "cell_type": "markdown",
   "id": "0ab76c03-ab08-49b8-a688-688ca2aa7cbe",
   "metadata": {},
   "source": [
    "**5.** Quale tra le seguenti affermazioni è FALSA riguardo alla suddivisione del dataset in un contesto di machine learning?\n",
    "- La suddivisione del dataset in set di training, validation e test è fondamentale per valutare correttamente le prestazioni di un modello di machine learning.\n",
    "- Il set di training viene utilizzato per addestrare il modello sui dati.\n",
    "- Il set di validation viene utilizzato per trovare le etichette dei dati di input\n",
    "- Il set di test viene utilizzato per valutare le prestazioni finali del modello su dati che non sono stati utilizzati per il training o la validation."
   ]
  },
  {
   "cell_type": "code",
   "execution_count": 246,
   "id": "fab91b4e",
   "metadata": {},
   "outputs": [],
   "source": [
    "# Risposta: PUNTO [**3**]"
   ]
  },
  {
   "cell_type": "markdown",
   "id": "b18ecaab-5021-450a-90d5-720082587ddb",
   "metadata": {},
   "source": [
    "## Domande aperte"
   ]
  },
  {
   "cell_type": "markdown",
   "id": "9d9bcf40-f194-4892-ad65-a2055d694430",
   "metadata": {},
   "source": [
    "**6. Descrivi in cosa consiste la fase di forward-propagation e back-propagation nell'ambito del training di una rete neurale, soffermandoti sull'importanza dell'algoritmo di backpropagation** per il calcolo delle derivate parziali della funzione costo rispetto ai pesi di tutti i layer **[punti 1.5]**"
   ]
  },
  {
   "cell_type": "code",
   "execution_count": 247,
   "id": "6fbd17c4",
   "metadata": {},
   "outputs": [],
   "source": [
    "# Forward-propagation\n",
    "# È la fase in cui i dati di input passano attraverso la rete neurale, strato per strato, per calcolare l'output finale.\n",
    "# Ogni neurone riceve un input, lo moltiplica per i pesi, aggiunge un bias e applica una funzione di attivazione (es. ReLU, sigmoid).\n",
    "\n",
    "# Backward-propagation\n",
    "# È la fase in cui si correggono i pesi della rete usando l’errore tra output previsto y^ e reale y\n",
    "# Si calcolano le derivate della funzione costo rispetto ai pesi usando la regola della catena (derivata composta),\n",
    "# propagando l’errore dall’output verso l’input.\n",
    "\n",
    "# L’algoritmo di backpropagation è importante perché permette di calcolare queste derivate in modo efficiente per tutte le\n",
    "# connessioni della rete, anche se è molto profonda, rendendo possibile l’apprendimento tramite\n",
    "# metodi di ottimizzazione come la discesa del gradiente."
   ]
  },
  {
   "cell_type": "markdown",
   "id": "59b62414",
   "metadata": {},
   "source": [
    "**7** Ricavare la formula di aggiornamento dei pesi mediante algoritmo di backpropagation nel caso di una rete MLP formata da un nodo di input, 2 layer nascosti ciascuno dei quali costituito da un solo neurone ed un nodo di output. **[punti: 3]**"
   ]
  },
  {
   "cell_type": "code",
   "execution_count": 248,
   "id": "7cf5d7a5",
   "metadata": {},
   "outputs": [],
   "source": [
    "# Abbiamo 1 nodo di input x, 2 layer nascosti e 1 nodo di output y\n",
    "# input -> layer 1 -> layer 2 -> output\n",
    "\n",
    "# Forward pass -> uscita = f(peso * input + bias) [f funzione tipo signoide o ReLU]\n",
    "# Backward pass -> parte dall'output e torna indietro corrente i pesi, per farlo usa W(nuovo) = W(vecchio) - n * gradiente\n",
    "# n in questo caso è la velocità di apprendimento"
   ]
  }
 ],
 "metadata": {
  "kernelspec": {
   "display_name": "Python 3",
   "language": "python",
   "name": "python3"
  },
  "language_info": {
   "codemirror_mode": {
    "name": "ipython",
    "version": 3
   },
   "file_extension": ".py",
   "mimetype": "text/x-python",
   "name": "python",
   "nbconvert_exporter": "python",
   "pygments_lexer": "ipython3",
   "version": "3.13.5"
  }
 },
 "nbformat": 4,
 "nbformat_minor": 5
}
