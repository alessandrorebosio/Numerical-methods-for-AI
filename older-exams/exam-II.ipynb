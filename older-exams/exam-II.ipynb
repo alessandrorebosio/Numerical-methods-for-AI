{
 "cells": [
  {
   "cell_type": "markdown",
   "id": "60ff1e86-85a2-45b1-9295-5d8e1897c7bc",
   "metadata": {},
   "source": [
    "# Exam - 10/01/2025\n",
    "\n",
    "## Exercise 1\n",
    "Si considerino i due sistemi lineari:\n",
    "\n",
    "     A  x = b \n",
    "\n",
    "    A1 x1 = b1\n",
    "\n",
    "dove A, A1 sono le matrici dei coefficienti, b e b1 sono i termini noti, ed x ed x1 sono i vettori incogniti da determinare.\n",
    "I dati di questi due sistemi lineari sono contenuti nel file **matrix-II.mat**.\n",
    " - Si risolva ciascuno dei sistemi lineari assegnati  utilizzato il metodo più adatto in base alle caratteristiche della matrice dei coefficienti, giustificando teoricamente le scelte effettuate. **punti 5**\n",
    " - Per il primo sistema lineare A x= b,  aggiungere una perturbazione dell' 1% sulla componente b[0]  del termine noto, e risolvere il sistema con termine noto perturbato. Calcolare quindi  l'errore relativo sulla soluzione e l'errore relativo sui dati e giustificare i risultati alla luce della teoria, richiamando il teorema relativo. **punti 3** \n",
    "\n",
    " "
   ]
  },
  {
   "cell_type": "code",
   "execution_count": 443,
   "id": "00126fbf",
   "metadata": {},
   "outputs": [],
   "source": [
    "import numpy as np\n",
    "\n",
    "def conjugate_gradient(A, b, x0, max_it=100, toll=1e-12):\n",
    "    n, m = A.shape\n",
    "    if n != m:\n",
    "        print(\"Matrice non quadrata\")\n",
    "        return [], []\n",
    "\n",
    "    x = x0.copy()\n",
    "    r = b - A @ x\n",
    "    p = r.copy()\n",
    "    it = 0\n",
    "    nb = np.linalg.norm(b)\n",
    "    errore = np.linalg.norm(r) / nb\n",
    "    vec_sol = [x.copy()]\n",
    "    vet_r = [errore]\n",
    "\n",
    "    while errore >= toll and it < max_it:\n",
    "        it += 1\n",
    "        Ap = A @ p\n",
    "        rtr = r.T @ r\n",
    "        alpha = rtr / (p.T @ Ap)\n",
    "        x = x + alpha * p\n",
    "        r_new = r - alpha * Ap\n",
    "        errore = np.linalg.norm(r_new) / nb\n",
    "        vec_sol.append(x.copy())\n",
    "        vet_r.append(errore)\n",
    "        if errore < toll:\n",
    "            break\n",
    "        gamma = (r_new.T @ r_new) / rtr\n",
    "        p = r_new + gamma * p\n",
    "        r = r_new\n",
    "\n",
    "    iterates_array = np.vstack([arr.T for arr in vec_sol])\n",
    "    return x, vet_r, iterates_array, it\n",
    "\n"
   ]
  },
  {
   "cell_type": "code",
   "execution_count": 444,
   "id": "98f8d280",
   "metadata": {},
   "outputs": [
    {
     "name": "stdout",
     "output_type": "stream",
     "text": [
      "[A] quadratica? True\n",
      "[A] simmetrica? True\n",
      "[A] def. positiva? True\n",
      "[A] sparsa? True\n",
      "[A] dimensione: (500, 500)\n",
      "[A] rango massimo? True\n",
      "[A] condizionamento: 500.0000000000122 \n",
      "\n",
      "[A] soluzione trova dopo n it 255\n",
      "[A] errore dati 0.000137372908682327\n",
      "[A] errore soluzione 0.0005688737568810123 \n",
      "\n",
      "[A1] quadratica? True\n",
      "[A1] simmetrica? True\n",
      "[A1] def. positiva? True\n",
      "[A1] sparsa? True\n",
      "[A1] dimensione: (800, 800)\n",
      "[A1] rango massimo? True\n",
      "[A1] condizionamento: 10.00000000000026 \n",
      "\n",
      "[A1] soluzione trova dopo n it 42\n"
     ]
    }
   ],
   "source": [
    "import matplotlib.pyplot as plt\n",
    "from scipy.io import loadmat\n",
    "import numpy as np\n",
    "\n",
    "dati = loadmat(\"./mat/matrix-I.mat\")\n",
    "A = dati[\"A\"].astype(float)\n",
    "b = dati[\"b\"].astype(float)\n",
    "\n",
    "A1 = dati[\"A1\"].astype(float)\n",
    "b1 = dati[\"b1\"].astype(float)\n",
    "\n",
    "\n",
    "def isQuadratic(A):\n",
    "    return A.shape[0] == A.shape[1]\n",
    "\n",
    "\n",
    "def isSymmetric(A):\n",
    "    return np.allclose(A, A.T)\n",
    "\n",
    "\n",
    "def isPositive(A):\n",
    "    return np.all(np.linalg.eigvals(A) > 0)\n",
    "\n",
    "\n",
    "def isSparse(A):\n",
    "    return np.count_nonzero(A) < A.size * 0.33\n",
    "\n",
    "\n",
    "def rank(A, b):\n",
    "    return np.linalg.matrix_rank(A) == np.linalg.matrix_rank(np.hstack([A, b]))\n",
    "\n",
    "\n",
    "print(\"[A] quadratica?\", isQuadratic(A))\n",
    "print(\"[A] simmetrica?\", isSymmetric(A))\n",
    "print(\"[A] def. positiva?\", isPositive(A))\n",
    "print(\"[A] sparsa?\", isSparse(A))\n",
    "print(\"[A] dimensione:\", A.shape)\n",
    "print(\"[A] rango massimo?\", rank(A, b))\n",
    "print(\"[A] condizionamento:\", np.linalg.cond(A), \"\\n\")\n",
    "\n",
    "bp = b.copy()\n",
    "bp[0] = b[0] * 1.001\n",
    "\n",
    "x0 = np.zeros((b.size, 1))\n",
    "x, er, it_a, it = conjugate_gradient(A, b, x0, max_it=300)\n",
    "x_p, er_p, it_a_p, it_p = conjugate_gradient(A, bp, x0)\n",
    "\n",
    "er_d = np.linalg.norm(bp - b) / np.linalg.norm(b) \n",
    "er_s = np.linalg.norm(x_p - x) / np.linalg.norm(x) \n",
    "\n",
    "print(\"[A] soluzione trova dopo n it\", it)\n",
    "print(\"[A] errore dati\", er_d)\n",
    "print(\"[A] errore soluzione\", er_s, \"\\n\")\n",
    "\n",
    "print(\"[A1] quadratica?\", isQuadratic(A1))\n",
    "print(\"[A1] simmetrica?\", isSymmetric(A1))\n",
    "print(\"[A1] def. positiva?\", isPositive(A1))\n",
    "print(\"[A1] sparsa?\", isSparse(A1))\n",
    "print(\"[A1] dimensione:\", A1.shape)\n",
    "print(\"[A1] rango massimo?\", rank(A1, b1))\n",
    "print(\"[A1] condizionamento:\", np.linalg.cond(A1), \"\\n\")\n",
    "\n",
    "x0 = np.zeros((b1.size, 1))\n",
    "x, er, it_a, it = conjugate_gradient(A1, b1, x0)\n",
    "\n",
    "print(\"[A1] soluzione trova dopo n it\", it)\n",
    "\n",
    "# ho optato per il gradiente cogniugato, per complessita minore, le matrici sono entrambe grandi, sparse, positive e simmettriche\n",
    "# hanno anhce il rango massimo, ciò mi fa notare che hanno un'unica soluzione\n",
    "\n",
    "# per il teorema dell'errore relativo, quindi errore sulla soluzione <= k(A) * errore sui dati\n",
    "# notiamo che la soluzione è circa 500 volte l'errore macchina, ed è coerente con il numero di condizionamento\n",
    "# quindi anche una piccola peturbazone nei dati può causare un erorre aplificato nella soluzione se la matrice\n",
    "# è mal condizionata come nel nostro caso"
   ]
  },
  {
   "cell_type": "markdown",
   "id": "12e1b7d7",
   "metadata": {},
   "source": [
    "Dato il sistema lineare A2 x2 = b2 dove \n",
    "   \n",
    "    A2 = np.array([[8, 0, 1], [0, 12, 2], [1, 2, -14.0]])\n",
    "    b2 = np.array([9.0, 14.0, -11.0])\n",
    "\n",
    " - Verificare senza calcolare il raggio spettrale della matrice di iterazione che il metodo di Gauss-Seidel converge, richiamando il teorema che garantisce la convergenza di Gauss-Seidel per classi particolari di matrici **punti[1]**.\n",
    " - Implementare il metodo di Gauss-Seidel  e risolvere il sistema lineare A2 x2 = b2 con  **punti[3]**.\n",
    "\n",
    "Totale **Punti 12**"
   ]
  },
  {
   "cell_type": "code",
   "execution_count": 445,
   "id": "3d732995",
   "metadata": {},
   "outputs": [],
   "source": [
    "from SolveTriangular import *\n",
    "\n",
    "def gauss_seidel(A, b, x0, max_it=100, toll=1e-12):\n",
    "    if b.ndim == 1:\n",
    "        b = b.reshape(-1, 1)\n",
    "\n",
    "    errore = 1000\n",
    "    d = np.diag(A)\n",
    "    D = np.diag(d)\n",
    "    E = np.tril(A, -1)\n",
    "    F = np.triu(A, 1)\n",
    "    M = D + E\n",
    "    N = -F\n",
    "    invM = np.linalg.inv(M)\n",
    "    T = invM @ N\n",
    "    autovalori = np.linalg.eigvals(T)\n",
    "    raggiospettrale = np.max(np.abs(autovalori))\n",
    "    print(\"raggio spettrale Gauss-Seidel \", raggiospettrale)\n",
    "\n",
    "    er = []\n",
    "    while len(er) <= max_it and errore >= toll:\n",
    "        x, flag = Lsolve(M, b - F @ x0)\n",
    "        if flag == 1:  # Error in Lsolve\n",
    "            break\n",
    "        errore = np.linalg.norm(x - x0) / np.linalg.norm(x)\n",
    "        er.append(errore)\n",
    "        x0 = x.copy()\n",
    "\n",
    "    return x, er, len(er)"
   ]
  },
  {
   "cell_type": "code",
   "execution_count": 446,
   "id": "2a6c3d04",
   "metadata": {},
   "outputs": [
    {
     "name": "stdout",
     "output_type": "stream",
     "text": [
      "[A2] quadratica? True\n",
      "[A2] simmetrica? True\n",
      "[A2] def. positiva? False\n",
      "[A2] sparsa? False\n",
      "[A2] dimensione: (3, 3)\n",
      "[A2] rango massimo? True\n",
      "[A2] condizionamento: 1.7651462497889765 \n",
      "\n",
      "raggio spettrale Gauss-Seidel  0.03273809523809523\n",
      "[A2] soluzione [1. 1. 1.]\n",
      "Ax = b: [  9.  14. -11.] = [  9.  14. -11.]\n"
     ]
    }
   ],
   "source": [
    "# il teorema di Gauss-seidel garantisce la convergenza se la matrice è simmetrica e def. positiva\n",
    "import scipy\n",
    "\n",
    "A2 = np.array([[8, 0, 1], [0, 12, 2], [1, 2, -14.0]])\n",
    "b2 = np.array([9.0, 14.0, -11.0])\n",
    "\n",
    "print(\"[A2] quadratica?\", isQuadratic(A2))\n",
    "print(\"[A2] simmetrica?\", isSymmetric(A2))\n",
    "print(\"[A2] def. positiva?\", isPositive(A2))\n",
    "print(\"[A2] sparsa?\", isSparse(A2))\n",
    "print(\"[A2] dimensione:\", A2.shape)\n",
    "print(\"[A2] rango massimo?\", rank(A2, b2.reshape(-1, 1)))\n",
    "print(\"[A2] condizionamento:\", np.linalg.cond(A2), \"\\n\")\n",
    "\n",
    "x0 = np.zeros((b2.size, 1))\n",
    "x, er, it = gauss_seidel(A2, b2, x0)\n",
    "\n",
    "print(\"[A2] soluzione\", x.flatten())\n",
    "\n",
    "print(\"Ax = b:\", (A2 @ x).flatten(), \"=\", b2)"
   ]
  },
  {
   "cell_type": "markdown",
   "id": "f543c936-6f8e-4115-b920-d5087ffc2a09",
   "metadata": {},
   "source": [
    "# Exercise 2\n",
    "\n",
    "Implementare le function necessarie per costruire il polinomio interpolante di Lagrange. **[4 punti]**"
   ]
  },
  {
   "cell_type": "code",
   "execution_count": 447,
   "id": "9ba3afa2",
   "metadata": {},
   "outputs": [],
   "source": [
    "import numpy as np\n",
    "\n",
    "\n",
    "def plagr(xnodi, j):\n",
    "    xzeri = np.zeros_like(xnodi)\n",
    "    n = xnodi.size\n",
    "\n",
    "    if j == 0:\n",
    "        xzeri = xnodi[1:n]\n",
    "    else:\n",
    "        xzeri = np.append(xnodi[0:j], xnodi[j + 1 : n])\n",
    "\n",
    "    num = np.poly(xzeri)\n",
    "    den = np.polyval(num, xnodi[j])\n",
    "\n",
    "    return num / den\n",
    "\n",
    "\n",
    "def InterpL(x, y, xx):\n",
    "    n = x.size\n",
    "    m = xx.size\n",
    "\n",
    "    L = np.zeros((m, n))\n",
    "    for j in range(n):\n",
    "        p = plagr(x, j)\n",
    "        L[:, j] = np.polyval(p, xx)\n",
    "\n",
    "    return L @ y"
   ]
  },
  {
   "cell_type": "markdown",
   "id": "f17cc9f6-e704-4482-8267-081ed315deb3",
   "metadata": {},
   "source": [
    "Sia assegnata la funzione $f(x)=cos(\\pi x)+sin(\\pi x)$, $ x \\in [0,2]$, facendo uso delle functions implementate precedentemente, si determini il polinomio p che interpola f nei nodi x0 = 1, x1 = 1.5, x2 = 1.75 e si rappresenti in uno stesso grafico la funzione f, il polinomio p e i punti di interpolazione assegnati; **[2 punti]**\n",
    " - si calcoli il valore assunto dalla funzione errore E(x) := |f(x) − p(x)| nel punto $x^∗$ = 0.75 e si definisca teoricamente da cosa dipende l'errore che si compie quando al posto del polinomio in terpolatore si considera la funzione che ha generato i dati, commentando opportunamente la formula **[3 punti]**\n",
    " - si stabilisca qual è il polinomio interpolatore per f passante per i nodi $x^*$, x0, x1 e x2. **[1 punto]**  \n",
    " - Si calcoli la costante di Lebesgue per il problema di interpolazione in esame  e si dica che ruolo svolge nell'ambito dell'interpolazione polinomiale **[3 punti]**"
   ]
  },
  {
   "cell_type": "markdown",
   "id": "a57c0b42-c718-4663-a13c-40b35c01199d",
   "metadata": {},
   "source": [
    "Totale **Punti 13**"
   ]
  },
  {
   "cell_type": "code",
   "execution_count": 448,
   "id": "13807a72",
   "metadata": {},
   "outputs": [
    {
     "data": {
      "image/png": "[encoded data removed]",
      "text/plain": [
       "<Figure size 800x500 with 1 Axes>"
      ]
     },
     "metadata": {},
     "output_type": "display_data"
    },
    {
     "name": "stdout",
     "output_type": "stream",
     "text": [
      "Costante di Lebesgue: 29.0\n"
     ]
    }
   ],
   "source": [
    "import numpy as np\n",
    "import matplotlib.pyplot as plt\n",
    "\n",
    "f = lambda x: np.cos(np.pi * x) + np.sin(np.pi * x)\n",
    "\n",
    "x_nodes = np.array([1, 1.5, 1.75])\n",
    "y_nodes = f(x_nodes)\n",
    "\n",
    "xx = np.linspace(0, 2, 200)\n",
    "ff = f(xx)\n",
    "\n",
    "p_vals = InterpL(x_nodes, y_nodes, xx)\n",
    "\n",
    "plt.figure(figsize=(8, 5))\n",
    "plt.plot(xx, ff, label=\"f(x)\", color=\"blue\")\n",
    "plt.plot(xx, p_vals, label=\"Polinomio interpolatore p(x)\", color=\"orange\")\n",
    "plt.plot(x_nodes, y_nodes, \"ro\", label=\"Nodi di interpolazione\")\n",
    "plt.xlabel(\"x\")\n",
    "plt.ylabel(\"y\")\n",
    "plt.legend()\n",
    "plt.title(\"Interpolazione polinomiale di Lagrange\")\n",
    "plt.grid(True)\n",
    "plt.show()\n",
    "\n",
    "x_star = 0.75\n",
    "p_xstar = InterpL(x_nodes, y_nodes, np.array([x_star]))[0]\n",
    "err_xstar = np.abs(f(x_star) - p_xstar)\n",
    "\n",
    "x_nodes2 = np.array([0.75, 1, 1.5, 1.75])\n",
    "y_nodes2 = f(x_nodes2)\n",
    "\n",
    "# Coefficienti del polinomio interpolatore (opzionale: np.polyfit per confronto)\n",
    "p2_vals = InterpL(x_nodes2, y_nodes2, xx)\n",
    "\n",
    "# Calcolo della costante di Lebesgue\n",
    "# Si valuta la somma dei valori assoluti dei polinomi fondamentali di Lagrange\n",
    "lebesgue_vals = np.zeros_like(xx)\n",
    "for j in range(len(x_nodes)):\n",
    "    p = plagr(x_nodes, j)\n",
    "    lebesgue_vals += np.abs(np.polyval(p, xx))\n",
    "lebesgue_const = np.max(lebesgue_vals)\n",
    "\n",
    "print(f\"Costante di Lebesgue:\", lebesgue_const)\n",
    "\n",
    "# La costante di Lebesgue misura quanto l'operatore di interpolazione può amplificare gli errori sui dati. \n",
    "# Un valore elevato indica che piccoli errori nei dati possono portare a grandi errori nell'interpolante. \n",
    "# È quindi un indicatore della stabilità dell'interpolazione polinomiale rispetto ai nodi scelti."
   ]
  },
  {
   "cell_type": "markdown",
   "id": "2e317e55-6983-4f36-9f54-91ab25ee6e3e",
   "metadata": {},
   "source": [
    "## Domande Intelligenza Artificiale\n",
    "**NB: Ogni risposta esatta:  +0.5 punti, ogni risposta errata: -0.5 punti. La mancanza di risposta:  0 punti**"
   ]
  },
  {
   "cell_type": "markdown",
   "id": "11eacd04-c27a-44de-9d44-47c0431c9275",
   "metadata": {},
   "source": [
    "**Risolvere un problema mediante Machine Learning significa**:\n",
    "- Fornire alla macchina i dati affinchè impari da sola a risolvere il problema\n",
    "- Fornire alla macchina solo dati etichettati affinchè impari da sola a risolvere il problema\n",
    "- Fornire alla macchina solo dati non etichettati affinchè impari da sola a risolvere il problema\n",
    "- Fornire alla macchina le esatte istruzioni per risolvere il problema\n",
    "edizione"
   ]
  },
  {
   "cell_type": "code",
   "execution_count": 449,
   "id": "cdf134c1",
   "metadata": {},
   "outputs": [],
   "source": [
    "# Risposta: PUNTO [**1**]"
   ]
  },
  {
   "cell_type": "markdown",
   "id": "52b1e385-3ea5-4137-88f0-4661d5e23745",
   "metadata": {},
   "source": [
    "**2  A cosa serve il validation set?**\n",
    "-  A trovare i migliori iperparametri del modello\n",
    "-  Ad addestrare il modello\n",
    "-  A testare il modello\n",
    "-  A trovare le etichette dei dati di input"
   ]
  },
  {
   "cell_type": "code",
   "execution_count": 450,
   "id": "9aaea8ef",
   "metadata": {},
   "outputs": [],
   "source": [
    "# Risposta: PUNTO [**1**]"
   ]
  },
  {
   "cell_type": "markdown",
   "id": "aeccbc74-c0d5-46ca-9e99-646df20e8f84",
   "metadata": {},
   "source": [
    "**3  Una classica rete CNN è solitamente composta da:**  \n",
    "- Layer convolutivi seguiti da layer di pooling, flatten layer e neuroni completamente connessi\n",
    "- Layer di pooling seguiti da layer convolutivi, flatten layer e neuroni completamente connessi\n",
    "- Layer convolutivi seguiti da layer di pooling, flatten layer e softmax\n",
    "- Layer di pooling seguiti da layer convolutivi, flatten layer e softmax"
   ]
  },
  {
   "cell_type": "code",
   "execution_count": 451,
   "id": "c574ade3",
   "metadata": {},
   "outputs": [],
   "source": [
    "# Risposta: PUNTO [**1**]"
   ]
  },
  {
   "cell_type": "markdown",
   "id": "4ab0b3aa-6477-4cba-b2ce-cdb4d34ecdfb",
   "metadata": {},
   "source": [
    "**4 Il livello softmax**\n",
    "- Trasforma i digits della rete in probabilità\n",
    "- Trasforma le probabilità della rete in digits\n",
    "- Normalizza i valori di input della rete\n",
    "- È indispensabile nel task di regressione della rete\n"
   ]
  },
  {
   "cell_type": "code",
   "execution_count": 452,
   "id": "0ee47997",
   "metadata": {},
   "outputs": [],
   "source": [
    "# Risposta: PUNTO [**1**]"
   ]
  },
  {
   "cell_type": "markdown",
   "id": "0e870471-00c9-44d6-8668-b173ca092cfb",
   "metadata": {},
   "source": [
    "**5 Per una rete neurale, l’apprendimento è legato a:**\n",
    "- Minimizzare la funzione obiettivo\n",
    "- Minimizzare la funzione di attivazione\n",
    "- Massimizzare il valore dei pesi tramite l’algoritmo di back-propagation\n",
    "- Massimizzare il valore della funzione di training"
   ]
  },
  {
   "cell_type": "code",
   "execution_count": 453,
   "id": "e8596bc6",
   "metadata": {},
   "outputs": [],
   "source": [
    "# Risposta: PUNTO [**1**]"
   ]
  },
  {
   "cell_type": "markdown",
   "id": "db908255-e5db-445d-a7d3-0ade6c91ff8a",
   "metadata": {},
   "source": [
    "**Domande Aperte**"
   ]
  },
  {
   "cell_type": "markdown",
   "id": "033c25a0-67eb-43bd-9c08-021c7b22dbd4",
   "metadata": {},
   "source": [
    "**6. Spiega in modo dettagliato come il learning rate influenza la convergenza di una rete neurale durante il training. Quali sono le conseguenze di un learning rate troppo alto o troppo basso nel training di una rete neurale. Descrivi le principali strategie di  aggiornamentodel  learning rate durante il training di una rete neurale.** [punti 1.5]"
   ]
  },
  {
   "cell_type": "code",
   "execution_count": 454,
   "id": "b326d501",
   "metadata": {},
   "outputs": [],
   "source": [
    "# Il learning rate (tasso di apprendimento) è un parametro che controlla quanto i pesi vengono aggiornati a ogni passo della discesa del gradiente.\n",
    "\n",
    "# Troppo alto -> il modello oscilla intorno al minimo o diverge, quindi non converge, oppure lo fa in modo instabile\n",
    "# Troppo basso -> il modello converge molto lentamente, potrebbe fermarsi in un minimo locale o impiegare molto tempo a trovare la soluzione"
   ]
  },
  {
   "cell_type": "markdown",
   "id": "a36b5eec-ff7b-46f9-a3ad-dedd55fe1c66",
   "metadata": {},
   "source": [
    "**7. Descrivi in dettaglio l'algoritmo di discesa del gradiente con momento. Quali sono le motivazioni che hanno portato alla sua introduzione rispetto alla discesa del gradiente standard? Fornisci la formula matematica dell'aggiornamento dei pesi in questo algoritmo e spiega il ruolo del termine di momento** [punti 3]"
   ]
  },
  {
   "cell_type": "code",
   "execution_count": 455,
   "id": "3e3fc49d",
   "metadata": {},
   "outputs": [],
   "source": [
    "# problema del gradiente con momento: in presenza di valli strette nella superficie della funzione costo, l'algoritmo oscilla (zig-zag) e converge lentamente \n",
    "# Motivazioni del momento, è che sommando una parte della direzione del gradiente alla direzione attule, ci si ritrova per \n",
    "# accelerare lungo le direzioni corrette e rendere più \"morbidi\" le oscillazioni\n",
    "\n",
    "# aggiornamento pesi: W(t + 1) = w(t) + v(t) -> i termini dentro le parentesi sono gli step, non dei parametri, quindi W(t) è il corrente e W(t + 1) il successivo\n",
    "# il ruolo del termine del momento, controlla quanta parte della direzione precendete viene mantenuta"
   ]
  }
 ],
 "metadata": {
  "kernelspec": {
   "display_name": "Python 3",
   "language": "python",
   "name": "python3"
  },
  "language_info": {
   "codemirror_mode": {
    "name": "ipython",
    "version": 3
   },
   "file_extension": ".py",
   "mimetype": "text/x-python",
   "name": "python",
   "nbconvert_exporter": "python",
   "pygments_lexer": "ipython3",
   "version": "3.13.5"
  }
 },
 "nbformat": 4,
 "nbformat_minor": 5
}
