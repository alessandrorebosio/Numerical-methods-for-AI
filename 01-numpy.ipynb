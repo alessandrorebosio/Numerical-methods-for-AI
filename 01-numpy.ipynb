{
 "cells": [
  {
   "cell_type": "markdown",
   "metadata": {},
   "source": [
    "# Workshop 1: Numpy"
   ]
  },
  {
   "cell_type": "markdown",
   "metadata": {},
   "source": [
    "## Exercise 1: Sequence Generation and Element-wise Operations"
   ]
  },
  {
   "cell_type": "code",
   "execution_count": null,
   "metadata": {},
   "outputs": [],
   "source": [
    "import numpy as np\n",
    "\n",
    "# Generate arrays\n",
    "arr1 = np.linspace(0, 10, 20)  # 20 points between 0 and 10\n",
    "arr2 = np.random.randint(1, 6, 20)  # 20 random integers 1-5\n",
    "arr3 = arr1 + arr2  # Element-wise addition\n",
    "arr_squared = arr3 ** 2  # Element-wise squaring\n",
    "\n",
    "# Display results\n",
    "print(\"Linear spaced array (0-10):\\n\", arr1)\n",
    "print(\"\\nRandom integers (1-5):\\n\", arr2)\n",
    "print(\"\\nSum of arrays:\\n\", arr3)\n",
    "print(\"\\nSquared values:\\n\", arr_squared)"
   ]
  },
  {
   "cell_type": "markdown",
   "metadata": {},
   "source": [
    "## Exercise 2: Function Evaluation and Visualization"
   ]
  },
  {
   "cell_type": "code",
   "execution_count": null,
   "metadata": {},
   "outputs": [],
   "source": [
    "import matplotlib.pyplot as plt\n",
    "\n",
    "# Define function\n",
    "def f(x):\n",
    "    return np.sin(x**2) / (x**2 + 1)\n",
    "\n",
    "# Create data\n",
    "x = np.linspace(-5, 5, 110)\n",
    "y = f(x)\n",
    "\n",
    "# Plot\n",
    "plt.figure(figsize=(10, 5))\n",
    "plt.plot(x, y, 'b-', linewidth=2)\n",
    "plt.title(r'Function Plot: $f(x) = \\frac{\\sin(x^2)}{x^2 + 1}$')\n",
    "plt.xlabel('x')\n",
    "plt.ylabel('f(x)')\n",
    "plt.grid(True)\n",
    "plt.show()"
   ]
  },
  {
   "cell_type": "markdown",
   "metadata": {},
   "source": [
    "## Exercise 3: Reshaping and Universal Functions"
   ]
  },
  {
   "cell_type": "code",
   "execution_count": null,
   "metadata": {},
   "outputs": [],
   "source": [
    "# Create and reshape array\n",
    "arr = np.random.rand(36)\n",
    "matrix = arr.reshape(6, 6)\n",
    "\n",
    "# Apply sine function\n",
    "sin_matrix = np.sin(matrix)\n",
    "\n",
    "# Calculate row means\n",
    "row_means = np.mean(sin_matrix, axis=1)\n",
    "\n",
    "# Display results\n",
    "print(\"Original 6x6 matrix:\\n\", matrix.round(4))\n",
    "print(\"\\nSine of matrix elements:\\n\", sin_matrix.round(4))\n",
    "print(\"\\nRow means:\\n\", row_means.round(4))"
   ]
  },
  {
   "cell_type": "markdown",
   "metadata": {},
   "source": [
    "## Exercise 4: Random Sampling and Logical Operations"
   ]
  },
  {
   "cell_type": "code",
   "execution_count": null,
   "metadata": {},
   "outputs": [],
   "source": [
    "# Generate random array\n",
    "arr = np.random.randint(-10, 11, 100)\n",
    "\n",
    "# Create boolean mask\n",
    "mask = (arr > 5) | (arr < -5)\n",
    "\n",
    "# Apply mask and calculate absolute values\n",
    "filtered_arr = arr[mask]\n",
    "abs_values = np.abs(filtered_arr)\n",
    "\n",
    "# Display results\n",
    "print(\"Original array (first 20 elements):\\n\", arr[:20])\n",
    "print(\"\\nBoolean mask (first 20 elements):\\n\", mask[:20])\n",
    "print(\"\\nFiltered array (elements outside [-5,5]):\\n\", filtered_arr)\n",
    "print(\"\\nAbsolute values:\\n\", abs_values)"
   ]
  },
  {
   "cell_type": "markdown",
   "metadata": {},
   "source": [
    "## Exercise 5: Grid Generation and Complex Operations"
   ]
  },
  {
   "cell_type": "code",
   "execution_count": null,
   "metadata": {},
   "outputs": [],
   "source": [
    "# Create coordinate grids\n",
    "x = y = np.linspace(1, 5, 10)\n",
    "xx, yy = np.meshgrid(x, y)\n",
    "\n",
    "# Calculate complex function\n",
    "z = np.sin(xx**2 + yy**2) / (xx**2 + yy**2)\n",
    "\n",
    "# Plot results\n",
    "plt.figure(figsize=(15, 4))\n",
    "\n",
    "plt.subplot(131)\n",
    "plt.imshow(xx, cmap='viridis')\n",
    "plt.title('xx grid')\n",
    "plt.colorbar()\n",
    "\n",
    "plt.subplot(132)\n",
    "plt.imshow(yy, cmap='viridis')\n",
    "plt.title('yy grid')\n",
    "plt.colorbar()\n",
    "\n",
    "plt.subplot(133)\n",
    "plt.imshow(z, cmap='viridis')\n",
    "plt.title('z = sin(x²+y²)/(x²+y²)')\n",
    "plt.colorbar()\n",
    "\n",
    "plt.tight_layout()\n",
    "plt.show()"
   ]
  },
  {
   "cell_type": "markdown",
   "metadata": {},
   "source": [
    "## Exercise 6: Distribution Sampling and Statistics"
   ]
  },
  {
   "cell_type": "code",
   "execution_count": null,
   "metadata": {},
   "outputs": [],
   "source": [
    "# Generate and reshape normal distribution\n",
    "arr = np.random.randn(1000)\n",
    "matrix = arr.reshape(100, 10)\n",
    "\n",
    "# Calculate row statistics\n",
    "row_means = np.mean(matrix, axis=1)\n",
    "row_stds = np.std(matrix, axis=1)\n",
    "\n",
    "# Display results\n",
    "print(\"First 10 elements of original array:\\n\", arr[:10])\n",
    "print(\"\\nFirst 2 rows of reshaped matrix:\\n\", matrix[:2])\n",
    "print(\"\\nRow means (first 10):\\n\", row_means[:10].round(4))\n",
    "print(\"\\nRow standard deviations (first 10):\\n\", row_stds[:10].round(4))\n",
    "\n",
    "# Plot distribution of means\n",
    "plt.hist(row_means, bins=15)\n",
    "plt.title('Distribution of Row Means')\n",
    "plt.xlabel('Mean Value')\n",
    "plt.ylabel('Frequency')\n",
    "plt.grid(True)\n",
    "plt.show()"
   ]
  }
 ],
 "metadata": {
  "kernelspec": {
   "display_name": "Python 3",
   "language": "python",
   "name": "python3"
  },
  "language_info": {
   "codemirror_mode": {
    "name": "ipython",
    "version": 3
   },
   "file_extension": ".py",
   "mimetype": "text/x-python",
   "name": "python",
   "nbconvert_exporter": "python",
   "pygments_lexer": "ipython3",
   "version": "3.8.5"
  }
 },
 "nbformat": 4,
 "nbformat_minor": 4
}
