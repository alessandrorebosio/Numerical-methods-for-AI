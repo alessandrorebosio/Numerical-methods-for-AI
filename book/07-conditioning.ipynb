{
 "cells": [
  {
   "cell_type": "markdown",
   "id": "d2903ef7-4c36-4b4f-b8dd-01fa2f35dfc5",
   "metadata": {},
   "source": [
    "## Workshop 8: Confitioning\n"
   ]
  },
  {
   "cell_type": "markdown",
   "id": "2b2f0afd-9374-4f8e-8a7b-eb783ba28fd4",
   "metadata": {},
   "source": [
    "# Esercizio 1\n",
    "- Costruire la matrice di Vandermonde A, generata dal vettore x=[1.0,2.0,...,6.0] utilizzando la funzione np.vander(x, increasing=True) di numpy. \n",
    "- Calcolarne l'indice di condizionamento in norma infinito senza utilizzare la funzione cond di numpy.linalg e poi confrontarne il valore con quello ottenuto utilizzando la funzione.\n",
    "- Considerare il sistema lineare Ax=b  con matrice dei coefficienti A e termine noto costruito in maniera tale che la soluzione esatta sia il vettore x=[1,1,1,1,1,1] (ogni sua componente è 1) e risolverlo usando il metodo solve del modulo linalg di Scipy.\n",
    "- perturbare il vettore dei termini noti della quantità\n",
    "\n",
    "$$\n",
    "\\delta b = 0.025 \\, \\ast \\,\n",
    "\\left [\n",
    "\\begin{array}{c}\n",
    "1\\\\\n",
    "0\\\\\n",
    "0\\\\\n",
    "0\n",
    "\\end{array}\n",
    "\\right ]\n",
    "$$\n",
    "- Risolvere il sistema con termine noto pertubato $b + \\delta b$ ((usando il metodo solve del modulo linalg di Scipy).\n",
    "- Calcolare l'errore relativo sul termine noto e l'errore relativo sulla soluzione. Cosa si può concludere?\n",
    "\n",
    "N.B. per il calcolo dell'inversa della matrice di A usare la funzione di numpy.linalg.inv(A).\n"
   ]
  },
  {
   "cell_type": "code",
   "execution_count": null,
   "id": "2e20d3d9",
   "metadata": {},
   "outputs": [],
   "source": [
    "import numpy as np\n",
    "import numpy.linalg as npl\n",
    "import scipy.linalg as spl\n",
    "import matplotlib.pyplot as plt\n",
    "import functions"
   ]
  },
  {
   "cell_type": "code",
   "execution_count": 2,
   "id": "105297da",
   "metadata": {},
   "outputs": [
    {
     "name": "stdout",
     "output_type": "stream",
     "text": [
      "[[1.000e+00 1.000e+00 1.000e+00 1.000e+00 1.000e+00 1.000e+00]\n",
      " [1.000e+00 2.000e+00 4.000e+00 8.000e+00 1.600e+01 3.200e+01]\n",
      " [1.000e+00 3.000e+00 9.000e+00 2.700e+01 8.100e+01 2.430e+02]\n",
      " [1.000e+00 4.000e+00 1.600e+01 6.400e+01 2.560e+02 1.024e+03]\n",
      " [1.000e+00 5.000e+00 2.500e+01 1.250e+02 6.250e+02 3.125e+03]\n",
      " [1.000e+00 6.000e+00 3.600e+01 2.160e+02 1.296e+03 7.776e+03]]\n",
      "condizionamento in norma infinito 1.204321e+06\n",
      "condizionamento in norma infinito con numpy 1.204321e+06\n"
     ]
    }
   ],
   "source": [
    "x = np.arange(1.0, 7.0)\n",
    "A = np.vander(x, increasing=True)\n",
    "\n",
    "print(A)\n",
    "\n",
    "\n",
    "def norma_inf(A):\n",
    "    return np.max(np.sum(np.abs(A), axis=1))\n",
    "\n",
    "\n",
    "mycond = norma_inf(A) * norma_inf(np.linalg.inv(A))\n",
    "print(\"condizionamento in norma infinito {:e}\".format(mycond))\n",
    "condp = np.linalg.cond(A, np.inf)\n",
    "print(\"condizionamento in norma infinito con numpy {:e}\".format(condp))"
   ]
  },
  {
   "cell_type": "code",
   "execution_count": 3,
   "id": "0854ea83",
   "metadata": {},
   "outputs": [
    {
     "name": "stdout",
     "output_type": "stream",
     "text": [
      "[[6.000e+00]\n",
      " [6.300e+01]\n",
      " [3.640e+02]\n",
      " [1.365e+03]\n",
      " [3.906e+03]\n",
      " [9.331e+03]]\n",
      "errore  2.679241238881187e-06\n"
     ]
    }
   ],
   "source": [
    "b = np.sum(A, axis=1).reshape(6, 1)\n",
    "print(b)\n",
    "\n",
    "bp = b.copy()\n",
    "\n",
    "bp[0] = b[0] + 0.025\n",
    "er = np.linalg.norm(bp - b, np.inf) / np.linalg.norm(b, np.inf)\n",
    "print(\"errore \", er)"
   ]
  },
  {
   "cell_type": "code",
   "execution_count": 4,
   "id": "cb513448",
   "metadata": {},
   "outputs": [
    {
     "name": "stdout",
     "output_type": "stream",
     "text": [
      "Soluzione esatta sistema senza perturbazione \n",
      "  [[1.]\n",
      " [1.]\n",
      " [1.]\n",
      " [1.]\n",
      " [1.]\n",
      " [1.]]\n",
      "Soluzione sistema con termine noto perturbato\n",
      "  [[1.15      ]\n",
      " [0.7825    ]\n",
      " [1.12083333]\n",
      " [0.96770833]\n",
      " [1.00416667]\n",
      " [0.99979167]]\n",
      "errore soluzione  0.21749999998492908\n"
     ]
    }
   ],
   "source": [
    "xe = np.ones((6, 1))\n",
    "xp = spl.solve(A, bp)\n",
    "print(\"Soluzione esatta sistema senza perturbazione \\n \", xe)\n",
    "print(\"Soluzione sistema con termine noto perturbato\\n \", xp)\n",
    "er = np.linalg.norm(xp - xe, np.inf) / np.linalg.norm(xe, np.inf)\n",
    "print(\"errore soluzione \", er)"
   ]
  },
  {
   "cell_type": "markdown",
   "id": "1fad1579-04c4-4aae-a840-2ab3120aaf2e",
   "metadata": {},
   "source": [
    "## Esercizio 2\n",
    "Assegnato il sistema lineare $Ax = b$, con\n",
    "$$\n",
    "A =\n",
    "\\left [\n",
    "\\begin{array}{ccc}\n",
    "6 & 63 & 662.2\\\\\n",
    "63 & 662.2 & 6967.8\\\\\n",
    "662.2 & 6967.8 & 73393.5664\n",
    "\\end{array}\n",
    "\\right ], \\qquad\n",
    "b =\n",
    "\\left [\n",
    "\\begin{array}{c}\n",
    "1.1\\\\\n",
    "2.33\\\\\n",
    "1.7\n",
    "\\end{array}\n",
    "\\right ]\n",
    "$$\n",
    "- trovare il vettore soluzione $x$ (usando il metodo solve del modulo linalg di Scipy);\n",
    "- perturbare la matrice dei coefficienti della quantità\n",
    "$$\n",
    "\\delta A =\n",
    "0.01 \\, \\ast \\,\n",
    "\\left [ \\begin{array}{ccc}\n",
    "1 & 0 & 0\\\\\n",
    "0 & 0 & 0\\\\\n",
    "0 & 0 & 0\n",
    "\\end{array}\n",
    "\\right ]\n",
    "$$\n",
    "quindi calcolare l'errore relativo sulla soluzione e confrontarlo con la\n",
    "perturbazione relativa sui dati di ingresso. Cosa si osserva?"
   ]
  },
  {
   "cell_type": "code",
   "execution_count": 5,
   "id": "4a74d67d",
   "metadata": {},
   "outputs": [
    {
     "name": "stdout",
     "output_type": "stream",
     "text": [
      "Indice di condizionamento di A 1.975302e+10\n",
      "Errore relativo sui dati  1.2342088165597937e-07\n",
      "Errore relativo sui dati  in percentuale  1.2342088165597937e-05 %\n",
      "Errore relativo sulla soluzione  0.9995081547933587\n",
      "Errore relativo sulla soluzione  in percentuale  99.95081547933587 %\n"
     ]
    }
   ],
   "source": [
    "A = np.array([[6, 63, 662.2], [63, 662.2, 6967.8], [662.2, 6967.8, 73393.5664]])\n",
    "b = np.array([1.1, 2.33, 1.7])\n",
    "\n",
    "KA = npl.cond(A, np.inf)\n",
    "print(\"Indice di condizionamento di A {:e}\".format(KA))\n",
    "x = spl.solve(A, b)\n",
    "\n",
    "A1 = A.copy()\n",
    "A1[0, 0] = A[0, 0] + 0.01\n",
    "xp = spl.solve(A1, b)\n",
    "\n",
    "er = npl.norm(A - A1, np.inf) / npl.norm(A, np.inf)\n",
    "print(\"Errore relativo sui dati \", er)\n",
    "print(\"Errore relativo sui dati  in percentuale \", er * 100, \"%\")\n",
    "\n",
    "ers = npl.norm(xp - x, np.inf) / npl.norm(x, np.inf)\n",
    "print(\"Errore relativo sulla soluzione \", ers)\n",
    "print(\"Errore relativo sulla soluzione  in percentuale \", ers * 100, \"%\")"
   ]
  },
  {
   "cell_type": "markdown",
   "id": "3fd35cbb-3eaa-4674-91ff-cf7148cac8b8",
   "metadata": {},
   "source": [
    "## Esercizio 3\n",
    " \n",
    "Assegnato il sistema lineare $Ax = b$, con $A$ matrice di Hilbert di ordine\n",
    "$4$ e $b = [1, 1, 1, 1]^T$,\n",
    " - trovare il vettore soluzione $x$ (usando il metodo solve del modulo linalg di Scipy);\n",
    " -  perturbare il vettore dei termini noti della quantità\n",
    "$$\n",
    "\\delta b = 0.01 \\, \\ast \\,\n",
    "\\left [\n",
    "\\begin{array}{c}\n",
    "1\\\\\n",
    "-1\\\\\n",
    "1\\\\\n",
    "-1\n",
    "\\end{array}\n",
    "\\right ]\n",
    "$$\n",
    "quindi calcolare la soluzione del sistema $A x_p= b_p$ con termine noto $b_p=b+ \\delta b$.\n",
    "Calcolare l'errore relativo sulla soluzione e confrontarlo con la perturbazione relativa sui dati di ingresso. Cosa si osserva?\n",
    "\n",
    "Nota: per la costruzione della matrice di Hilbert usare la funzione hilbert(n) del modulo scipy.linalg\n",
    "(scipy.linalg.hilbert(n))  dove bisogna specificare l'ordine n della matrice."
   ]
  },
  {
   "cell_type": "code",
   "execution_count": null,
   "id": "63113b29",
   "metadata": {},
   "outputs": [],
   "source": []
  },
  {
   "cell_type": "markdown",
   "id": "b1d646aa-f01a-4754-85e0-8803dc40b54f",
   "metadata": {},
   "source": [
    "## Metodi diretti per la soluzione numerica di un sistema lineare"
   ]
  },
  {
   "cell_type": "markdown",
   "id": "d49457b8-af07-4729-a33a-dc93547c1a20",
   "metadata": {},
   "source": [
    "## Nota 1.\n",
    "La funzione *scipy.linalg.lu(A)*  , presa in input una matrice A a rango massimo, restituisce in output le matrici $P^T$,L,U,  della fattorizzazione di LU della matrice A in maniera tale che PA=LU (restituisce la matrice di permutazione trasposta)"
   ]
  },
  {
   "cell_type": "code",
   "execution_count": 6,
   "id": "6164dfcc-4ff8-4d35-9ba3-59cae1f5189e",
   "metadata": {
    "tags": []
   },
   "outputs": [
    {
     "name": "stdout",
     "output_type": "stream",
     "text": [
      "A= [[2 1]\n",
      " [3 4]]\n",
      "L= [[1.         0.        ]\n",
      " [0.66666667 1.        ]]\n",
      "U= [[ 3.          4.        ]\n",
      " [ 0.         -1.66666667]]\n",
      "P= [[0. 1.]\n",
      " [1. 0.]]\n",
      "Matrice P*A \n",
      " [[3. 4.]\n",
      " [2. 1.]]\n",
      "Matrice ottenuta moltipicando Le ed U \n",
      " [[3. 4.]\n",
      " [2. 1.]]\n"
     ]
    }
   ],
   "source": [
    "import numpy as np\n",
    "import scipy as sp\n",
    "from scipy.linalg import lu\n",
    "\n",
    "A = np.array([[2, 1], [3, 4]])\n",
    "PT, L, U = lu(A)  # Restituisce in output la trasposta della matrice di Permutazione\n",
    "P = PT.copy()  # P è la matrice di permutazione\n",
    "print(\"A=\", A)\n",
    "print(\"L=\", L)\n",
    "print(\"U=\", U)\n",
    "print(\"P=\", P)\n",
    "# LU è la fattorizzazione di P*A (terorema 2)\n",
    "A1 = P @ A  # equivale al prodotto matrice x matrice np.dot(P,A)\n",
    "A1Fatt = L @ U  # equivale a np.dot(L,U)\n",
    "print(\"Matrice P*A \\n\", A1)\n",
    "print(\"Matrice ottenuta moltipicando Le ed U \\n\", A1Fatt)"
   ]
  },
  {
   "cell_type": "markdown",
   "id": "76f8f316-d9af-4596-9eed-5aa64f913f1f",
   "metadata": {},
   "source": [
    "## Nota 2\n",
    "La funzione *scipy.linalg.cholesky(a, lower=True)*, presa in input una matrice simmetrica e definta positiva restituisce in output la matrice L triangolare inferiore tale che $A=L \\cdot L^T$. Se la matrice in input non è definita positiva, restituisce un errore."
   ]
  },
  {
   "cell_type": "code",
   "execution_count": 7,
   "id": "162e3ab4-4a37-43d4-9727-6f032595449f",
   "metadata": {
    "tags": []
   },
   "outputs": [
    {
     "name": "stdout",
     "output_type": "stream",
     "text": [
      "[[ 2  1  3]\n",
      " [ 1  5  7]\n",
      " [ 3  7 12]]\n"
     ]
    }
   ],
   "source": [
    "from scipy.linalg import cholesky\n",
    "\n",
    "A = np.array([[2, 1, 3], [1, 5, 7], [3, 7, 12]])\n",
    "print(A)"
   ]
  },
  {
   "cell_type": "code",
   "execution_count": 8,
   "id": "96fd572b-f470-4436-aea2-0bb5da4fdd23",
   "metadata": {
    "tags": []
   },
   "outputs": [
    {
     "name": "stdout",
     "output_type": "stream",
     "text": [
      "[[1.41421356 0.         0.        ]\n",
      " [0.70710678 2.12132034 0.        ]\n",
      " [2.12132034 2.59272486 0.8819171 ]]\n",
      "A1=\n",
      " [[ 2.  1.  3.]\n",
      " [ 1.  5.  7.]\n",
      " [ 3.  7. 12.]]\n"
     ]
    }
   ],
   "source": [
    "L = cholesky(A, lower=True)\n",
    "print(L)\n",
    "A1 = L @ L.T\n",
    "print(\"A1=\\n\", A1)"
   ]
  },
  {
   "cell_type": "markdown",
   "id": "6760f2a0-ffec-49a1-96f7-ed643109e4d7",
   "metadata": {},
   "source": [
    "## Nota 3\n",
    "La funzione *scipy.linalg.qr(a)*, presa in input una matrice A (nxn)  a rango massimo, restituisce in output le matrici Q (ortogonale di dimensione nxn) ed una matrice R (nxn) triangolare superiore tale che $A=Q \\cdot R$"
   ]
  },
  {
   "cell_type": "code",
   "execution_count": 9,
   "id": "e336d0a6-f2c3-4a7b-a8e3-871e70ca917c",
   "metadata": {
    "tags": []
   },
   "outputs": [
    {
     "name": "stdout",
     "output_type": "stream",
     "text": [
      "Q= [[-0.53452248  0.6882472  -0.49051147]\n",
      " [-0.26726124 -0.6882472  -0.67445327]\n",
      " [-0.80178373 -0.22941573  0.55182541]]\n",
      "R= [[ -3.74165739  -7.48331477 -13.09580085]\n",
      " [  0.          -4.35889894  -5.50597761]\n",
      " [  0.           0.           0.42919754]]\n",
      "[[ 2.  1.  3.]\n",
      " [ 1.  5.  7.]\n",
      " [ 3.  7. 12.]]\n"
     ]
    }
   ],
   "source": [
    "from scipy.linalg import qr\n",
    "\n",
    "A = np.array([[2, 1, 3], [1, 5, 7], [3, 7, 12]])\n",
    "Q, R = qr(A)\n",
    "print(\"Q=\", Q)\n",
    "print(\"R=\", R)\n",
    "A1 = Q @ R\n",
    "print(A1)"
   ]
  },
  {
   "cell_type": "markdown",
   "id": "270ae20e-08a7-4ab4-a710-c4541a398ec1",
   "metadata": {},
   "source": [
    "## Esercizio 4\n",
    "- si implementi una function LUsolve(P,A,L,U,b) che risolve il sistema lineare Ax=b nel caso di fattorizzazione $PA = LU$ assegnata,\n",
    "combinando i metodi di risoluzione in avanti ed all'indietro  implementati nel file SolveTriangular.py.\n",
    "- si testi sulla matrice A = np.array([[2, 5, 8, 7], [5, 2, 2, 8], [7, 5, 6, 6], [5, 4, 4, 8]]) con termine noto b scelto in maniera tale che la soluzione esatta del sistema lineare sia il vettore formato da tutti 1."
   ]
  },
  {
   "cell_type": "code",
   "execution_count": null,
   "id": "88bc52ad",
   "metadata": {},
   "outputs": [],
   "source": [
    "def LUsolve(P, A, L, U, b):\n",
    "    pb = np.dot(P, b)\n",
    "    y, flag = functions.Lsolve(L, pb)\n",
    "    if flag == 0:\n",
    "        x, flag = functions.Usolve(U, y)\n",
    "    else:\n",
    "        return [], flag\n",
    "\n",
    "    return x, flag"
   ]
  },
  {
   "cell_type": "code",
   "execution_count": null,
   "id": "85859795",
   "metadata": {},
   "outputs": [
    {
     "name": "stdout",
     "output_type": "stream",
     "text": [
      "A= [[2 5 8 7]\n",
      " [5 2 2 8]\n",
      " [7 5 6 6]\n",
      " [5 4 4 8]]\n",
      "b= [[22]\n",
      " [17]\n",
      " [24]\n",
      " [21]]\n",
      "P= \n",
      " [[0. 0. 1. 0.]\n",
      " [1. 0. 0. 0.]\n",
      " [0. 0. 0. 1.]\n",
      " [0. 1. 0. 0.]]\n",
      "L=\n",
      " [[ 1.          0.          0.          0.        ]\n",
      " [ 0.28571429  1.          0.          0.        ]\n",
      " [ 0.71428571  0.12        1.          0.        ]\n",
      " [ 0.71428571 -0.44       -0.46153846  1.        ]]\n",
      "U=\n",
      " [[ 7.          5.          6.          6.        ]\n",
      " [ 0.          3.57142857  6.28571429  5.28571429]\n",
      " [ 0.          0.         -1.04        3.08      ]\n",
      " [ 0.          0.          0.          7.46153846]]\n",
      "flag= \n",
      " 1 \n",
      " x= \n",
      " [[1.]\n",
      " [1.]\n",
      " [1.]\n",
      " [1.]]\n"
     ]
    }
   ],
   "source": [
    "import numpy as np\n",
    "from scipy.linalg import lu\n",
    "\n",
    "A = np.array([[2, 5, 8, 7], [5, 2, 2, 8], [7, 5, 6, 6], [5, 4, 4, 8]])\n",
    "print(\"A=\", A)\n",
    "b = np.sum(A, axis=1).reshape(4, 1)\n",
    "print(\"b=\", b)\n",
    "PT, L, U = lu(A)\n",
    "P = PT.T.copy()\n",
    "print(\"P= \\n\", P)\n",
    "print(\"L=\\n\", L)\n",
    "print(\"U=\\n\", U)\n",
    "# Le permutazioni di righe fatte sulla matrice vengono effettuate anche sul termine noto\n",
    "x, flag = LUsolve(P, A, L, U, b)\n",
    "print(\"flag= \\n\", flag, \"\\n x= \\n\", x)"
   ]
  },
  {
   "cell_type": "markdown",
   "id": "daa94c30-7b43-4ab5-896b-f2b2409a8a56",
   "metadata": {},
   "source": [
    "## Esercizio 5\n",
    "Si implementi una function *solve_nsis(A,B)* per il calcolo della soluzione di un generale sistema lineare $AX = B$, con $X, B$ matrici, che usi la fattorizzazione LU della matrice PA, per risolvere n sistemi lineari: aventi la stessa matrice dei coefficienti A e termine noto l'i-esima colonna della matrice B. \n",
    "Utilizzarla poi per il calcolo dell'inversa delle\n",
    "matrici non singolari\n",
    "$$\n",
    "A=\\left[\n",
    "\\begin{array}{ccc}\n",
    "3 & 5 & 7\\\\\n",
    "2 & 3 & 4\\\\\n",
    "5 & 9 & 11\n",
    "\\end{array}\n",
    "\\right ], \\qquad\n",
    "A=\\left[\n",
    "\\begin{array}{cccc}\n",
    "1 & 2 & 3 & 4\\\\\n",
    "2 & -4 & 6 & 8\\\\\n",
    "-1 & -2 & -3 & -1\\\\\n",
    "5 & 7 & 0 & 1\n",
    "\\end{array}\n",
    "\\right ],\n",
    "$$\n",
    "confrontando i risultati ottenuti con l'output\n",
    "della funzione  *scipy.linalg.inv(A)*"
   ]
  },
  {
   "cell_type": "code",
   "execution_count": null,
   "id": "f17a33c4",
   "metadata": {},
   "outputs": [],
   "source": [
    "def solve_nsis(A, B):\n",
    "    m, n = A.shape\n",
    "    flag = 0\n",
    "    if n != m:\n",
    "        print(\"Matrice non quadrata\")\n",
    "        return\n",
    "\n",
    "    X = np.zeros((n, n))\n",
    "    PT, L, U = lu(A)\n",
    "    P = PT.T.copy()\n",
    "    if flag == 0:\n",
    "        for i in range(n):\n",
    "            y, flag = functions.Lsolve(L, P @ B[:, i])\n",
    "            x, flag = functions.Usolve(U, y)\n",
    "            X[:, i] = x.reshape(\n",
    "                n,\n",
    "            )\n",
    "    else:\n",
    "        print(\"Elemento diagonale nullo\")\n",
    "        X = []\n",
    "\n",
    "    return X"
   ]
  },
  {
   "cell_type": "code",
   "execution_count": 13,
   "id": "d7e75126",
   "metadata": {},
   "outputs": [
    {
     "name": "stdout",
     "output_type": "stream",
     "text": [
      "my inversa \n",
      " [[-1.5  4.  -0.5]\n",
      " [-1.  -1.   1. ]\n",
      " [ 1.5 -1.  -0.5]]\n",
      "Inversa con linalg \n",
      "  [[-1.5  4.  -0.5]\n",
      " [-1.  -1.   1. ]\n",
      " [ 1.5 -1.  -0.5]]\n",
      "my inversa \n",
      " [[-4.16666667e-01  1.75000000e-01 -6.66666667e-02  2.00000000e-01]\n",
      " [ 2.50000000e-01 -1.25000000e-01  6.53072367e-17 -8.16340459e-18]\n",
      " [-1.38888889e-01  2.50000000e-02 -4.22222222e-01 -6.66666667e-02]\n",
      " [ 3.33333333e-01  4.62592927e-18  3.33333333e-01 -9.25185854e-18]]\n",
      "Inversa con linalg \n",
      "  [[-4.16666667e-01  1.75000000e-01 -6.66666667e-02  2.00000000e-01]\n",
      " [ 2.50000000e-01 -1.25000000e-01 -4.89804276e-17 -4.08170230e-18]\n",
      " [-1.38888889e-01  2.50000000e-02 -4.22222222e-01 -6.66666667e-02]\n",
      " [ 3.33333333e-01  3.26536184e-18  3.33333333e-01 -8.70763157e-18]]\n"
     ]
    }
   ],
   "source": [
    "A1 = np.array([[3, 5, 7], [2, 3, 4], [5, 9, 11]])\n",
    "m, n = A1.shape\n",
    "B = np.eye(m)\n",
    "X = solve_nsis(A1, B)\n",
    "print(\"my inversa \\n\", X)\n",
    "print(\"Inversa con linalg \\n \", np.linalg.inv(A1))\n",
    "\n",
    "A2 = np.array([[1, 2, 3, 4], [2, -4, 6, 8], [-1, -2, -3, -1], [5, 7, 0, 1]])\n",
    "m, n = A2.shape\n",
    "B = np.eye(m)\n",
    "X = solve_nsis(A2, B)\n",
    "print(\"my inversa \\n\", X)\n",
    "print(\"Inversa con linalg \\n \", np.linalg.inv(A2))"
   ]
  },
  {
   "cell_type": "markdown",
   "id": "412ae29a-6a32-43e0-9456-e7677f695feb",
   "metadata": {},
   "source": [
    "## Esercizio 6\n",
    "Sfruttando la fattorizzazione PA=LU  di una delle matrici del punto precedente, calcolarne il determinante.\n"
   ]
  },
  {
   "cell_type": "code",
   "execution_count": 16,
   "id": "90bcea12",
   "metadata": {},
   "outputs": [
    {
     "name": "stdout",
     "output_type": "stream",
     "text": [
      "my det:  -359.99999999999994\n",
      "Numpy det: -360.00000000000006\n"
     ]
    }
   ],
   "source": [
    "PT, L1, U1 = lu(A2)\n",
    "P = PT.copy()\n",
    "\n",
    "det = np.prod(np.diag(U1)) * np.linalg.det(P)\n",
    "\n",
    "print(\"my det: \", det)\n",
    "print(\"Numpy det:\", np.linalg.det(A2))"
   ]
  }
 ],
 "metadata": {
  "kernelspec": {
   "display_name": "Python 3",
   "language": "python",
   "name": "python3"
  },
  "language_info": {
   "codemirror_mode": {
    "name": "ipython",
    "version": 3
   },
   "file_extension": ".py",
   "mimetype": "text/x-python",
   "name": "python",
   "nbconvert_exporter": "python",
   "pygments_lexer": "ipython3",
   "version": "3.13.5"
  }
 },
 "nbformat": 4,
 "nbformat_minor": 5
}
