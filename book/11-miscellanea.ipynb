{
 "cells": [
  {
   "cell_type": "markdown",
   "id": "336a926b-86a4-4936-bb3d-0d54d27b99a0",
   "metadata": {},
   "source": [
    "# Excercise A\n",
    "\n",
    "Data la matrice, calcolarne la fattorizzazione lu di Gauss  facendo uso della funzione scipy.linalg.lu  e sfruttarla per il calcolo del suo determinante e della sua inversa.\n",
    "$$\n",
    "\\left[\n",
    "\\begin{array}{cccc}\n",
    "4.5 & 1 & 3 & 2\\\\\n",
    "1 & -8 & 2 & 1\\\\\n",
    "-1 & -2 & -3 & -1\\\\\n",
    "2 & 6 & 0 & 1\n",
    "\\end{array}\n",
    "\\right ],\n",
    "$$"
   ]
  },
  {
   "cell_type": "markdown",
   "id": "ef4cc6d5-a4a1-4a11-a0d3-f7a1e1a2e68c",
   "metadata": {},
   "source": [
    "# Excercise A1\n",
    "\n",
    "Data La matrice, dire se esiste la fattorizzaione LU senza pivotaggio a perno massimo, verificando le ipotesi del teorema di esistenza della fattorizzazione LU\n",
    "\n",
    "$$\n",
    "\\left[\n",
    "\\begin{array}{cccc}\n",
    "4.5 & 1 & 3 & 2\\\\\n",
    "1 & -8 & 2 & 1\\\\\n",
    "-1 & -2 & -3 & -1\\\\\n",
    "2 & 6 & 0 & 1\n",
    "\\end{array}\n",
    "\\right ],\n",
    "$$"
   ]
  },
  {
   "cell_type": "markdown",
   "id": "1a295546-2b9d-4424-aafd-2425f9e1079a",
   "metadata": {
    "tags": []
   },
   "source": [
    "# Excercise A2\n",
    "Data la matrice, dire se ammette fattorizzaione di Cholesky, verificando le ipotesi del teorema di Cholesky     \n",
    "    \n",
    "    A = np.array([[21., 37., 57.5], [ 37.    94.    72.5 ], [57.5, 72.5, 186.25]])"
   ]
  },
  {
   "cell_type": "markdown",
   "id": "bf9eaf45-e9ab-4bfb-b294-6ccd148279e2",
   "metadata": {},
   "source": [
    "## Excercise B\n",
    " - Implementare la function  per il calcolo del polinomio interpolatore di Lagrange\n",
    " - Realizzare uno script python che interpola le coppie $x_i,y_i$, $i=0,\\cdots,3$ dove $x_i,i=0,4$ sono punti equidistanti nell' intervallo [-2,2] e $y_i=f(x_i)$ dove $f(x)=5x^4+2x^2+2x-1$ \n",
    " - Visualizzare il polinomio interpolatore, i nodi dell'interpolazione\n",
    " - Visualizzare l'errore assoluto tra il polinomio interpolatore e la funzione che ha generato i dati\n",
    " - Commentare i risultati alla luce della teoria.\n"
   ]
  },
  {
   "cell_type": "markdown",
   "id": "ee97d047-97be-43c7-a721-fe588e6a2c4c",
   "metadata": {},
   "source": [
    "# Excercise C\n",
    "Per i dati $(x_i, y_i)$ riportati nei seguenti array\n",
    "    \n",
    "    x = np.array([0.0004, 0.2507, 0.5008, 2.0007, 8.0013]) \n",
    "    y = np.array([0.0007,0.0162, 0.0288, 0.0309, 0.0310])\n",
    "\n",
    " - costruire la retta di regressione;\n",
    " - costruire la parabola approssimante i dati nel senso dei minimi quadrati;\n",
    " - determinare l'approssimazione ai minimi quadrati espressa in termini di basi esponenziali: $y = a + b e^{-x}+ c e^{-2x}$\n",
    "\n",
    "Quale tra le tre approssimazioni risulta la migliore? (Confrontare i grafici e la norma euclidea al quadrato del vettore dei residui)."
   ]
  },
  {
   "cell_type": "markdown",
   "id": "d3626136-ea3b-47bb-861c-4e5de4a8baaf",
   "metadata": {},
   "source": [
    "# Excercise D\n",
    "La temperatura T in prossimita' del suolo varia al variare della concentrazione k dell'acido carbonico e della latitudine L. Per k=1.5 la temperatura al suolo subisce una variazione dipendente dalla temperatura secondo la seguente tabella \n",
    "\n",
    "    L   [-55, -45, -35,\t-25, -15, -5, 5, 15, 25, 35, 45, 55, 65]\n",
    "\n",
    "    T\t[3.7, 3., 3.52,\t3.27, 3.2, 3.15, 3.15, 3.25, 3.47, 3.52, 3.65, 3.67, 3.52]\n",
    "\n",
    "Si vuole costruire un MODELLO che descriva la legge T=T(L) anche per latitudini non misurate. \n",
    "\n",
    "Ad esempio si vuole valutare la variazione di temperatura a Londra ( L=51°). \n",
    "Mediante interpolazione con un polinomio di grado 12.\n",
    "Valutare e disegnare, inoltre, il polinomio interpolatore di Lagrange in un set di 100 dati equidistanti nell’intervallo min(L), max(L).\n",
    "\n",
    "Descrivere i risultati alla luce della teoria."
   ]
  },
  {
   "cell_type": "markdown",
   "id": "d449c9cc-71ed-4c53-a20e-76c6ee75952b",
   "metadata": {},
   "source": [
    "## Excercise E\n",
    "\n",
    " - Implementare il  metodo di Newton Raphson, la variante delle corde e la variante di Shamanskii per la soluzione di un sistema non lineare\n",
    "Risolvere il sistema di equazioni non lineare, con ciascuno dei tre metodi e confrontare per ciascun metodo il grafico dell'errore relativo tra due iterati successivi, giustificando i risultati alla luce della teoria.\n",
    "\n",
    "$$\n",
    "\\left[\n",
    "\\begin{array}{c}\n",
    "x_0^2+x_0x_1=10 \\\\\n",
    " x_1+3x_0x_1^2=57\n",
    "\\end{array}\n",
    "\\right.\n",
    "$$\n",
    "\n",
    " - Descrivi la variante del Metodod di Newton-Raphson per calcolare il minimo di una funzione non lineare in più variabili\n",
    "\n",
    "**Nota Bene**: Servirsi del metodo grafico per individuare un \n",
    "iterato iniziale  $X_0$ nell'intorno della soluzione che si vuole approssimare. Visualizzare le \n",
    "curve di livello corrisponenti a z=O delle due superfici z = f1 (x1 ,x2 ) e z = f2(x1 , x 2 ) e \n",
    "definire come iterato iniziale un vettore $X_0$ oppurtuno le cui componenti stanno in un \n",
    "intorno della soluzione (punti di intersezione tra le curve di livello delle due superfici) \\]"
   ]
  }
 ],
 "metadata": {
  "kernelspec": {
   "display_name": "Python 3 (ipykernel)",
   "language": "python",
   "name": "python3"
  },
  "language_info": {
   "codemirror_mode": {
    "name": "ipython",
    "version": 3
   },
   "file_extension": ".py",
   "mimetype": "text/x-python",
   "name": "python",
   "nbconvert_exporter": "python",
   "pygments_lexer": "ipython3",
   "version": "3.11.5"
  }
 },
 "nbformat": 4,
 "nbformat_minor": 5
}
